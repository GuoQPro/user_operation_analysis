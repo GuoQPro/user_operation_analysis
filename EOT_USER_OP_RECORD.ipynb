{
 "cells": [
  {
   "cell_type": "code",
   "execution_count": 1,
   "metadata": {},
   "outputs": [],
   "source": [
    "%matplotlib inline\n",
    "import pandas as pd;\n",
    "import numpy as np;\n",
    "import util.py_data_analysis_util.data_analysis as da;\n",
    "import matplotlib.pyplot as plt;\n",
    "import seaborn as sns;\n",
    "sns.set();"
   ]
  },
  {
   "cell_type": "code",
   "execution_count": 2,
   "metadata": {},
   "outputs": [
    {
     "data": {
      "text/html": [
       "<script>jQuery(function() {if (jQuery(\"body.notebook_app\").length == 0) { jQuery(\".input_area\").toggle(); jQuery(\".prompt\").toggle();}});</script>"
      ]
     },
     "metadata": {},
     "output_type": "display_data"
    },
    {
     "data": {
      "text/html": [
       "<button onclick=\"jQuery('.input_area').toggle(); jQuery('.prompt').toggle();\">Toggle code</button>"
      ]
     },
     "metadata": {},
     "output_type": "display_data"
    }
   ],
   "source": [
    "da.enable_ipythonnb_code_toggle();"
   ]
  },
  {
   "cell_type": "code",
   "execution_count": 3,
   "metadata": {},
   "outputs": [],
   "source": [
    "da.ignore_warnings();"
   ]
  },
  {
   "cell_type": "code",
   "execution_count": 4,
   "metadata": {},
   "outputs": [],
   "source": [
    "dataset = pd.read_csv(\"user_operations_190517.csv\");"
   ]
  },
  {
   "cell_type": "code",
   "execution_count": 5,
   "metadata": {},
   "outputs": [],
   "source": [
    "NEW_LINE = \"\\r\\n\""
   ]
  },
  {
   "cell_type": "code",
   "execution_count": 6,
   "metadata": {},
   "outputs": [],
   "source": [
    "import datetime;\n",
    "def convert_datestring_to_day_num(datestring):\n",
    "    BASE_Y = 19; #2019\n",
    "    sec = datestring.split(\"/\")\n",
    "    y = int(sec[2])\n",
    "    m = int(sec[0])\n",
    "    d = int(sec[1])\n",
    "    date = datetime.datetime(y, m, d);\n",
    "    day_num = int(date.strftime(\"%j\"));\n",
    "    day_num += ((y - BASE_Y) * 365);\n",
    "    return day_num;"
   ]
  },
  {
   "cell_type": "code",
   "execution_count": 7,
   "metadata": {},
   "outputs": [],
   "source": [
    "## predefined operation types\n",
    "OP_TYPE_OPEN_UI = 1 \n",
    "OP_TYPE_IAP_SUCC = 2\n",
    "OP_TYPE_IAP_ATTEMPT = 3\n",
    "OP_TYPE_BUY_COIN_ITEM = 4\n",
    "\n",
    "IGNORE_LIST = {\n",
    "    \"FlashGameTopMenu_t#get_items.pop\",\n",
    "    \"FlashGuide_t#btn_blank\",\n",
    "    \"FlashGameTopMenu_t#pop_text_small\",\n",
    "    \"FlashGameTopMenu_t#get_items_small\",\n",
    "    \"FlashGameItemBagPop#this\",\n",
    "    \"FlashGameTopMenu_t#you_got_prize\",\n",
    "    \"FlashGameTopMenu_t#pay\",\n",
    "    \"FlashGuide_t#fade_in\",\n",
    "    \"FlashGuide_t#fade_out\",\n",
    "    \"FlashPappasPop_t#animation_victory\",\n",
    "    \"FlashGuide_t#guide_tap_hint\",\n",
    "};\n",
    "\n",
    "UI_DESCRIPTION = {\n",
    "    \"FlashShopMain_t#shop_all\":\"商店主页\",\n",
    "    \"FlashMarchPreparation_t#march_reinforce\":\"出征选兵界面\",\n",
    "    \"FlashMarchPreparationPop_t#choose_hero\":\"出征界面选择英雄弹窗\",\n",
    "    \"FlashRecommendedPackage_t#recommended_package\":\"推荐礼包\",\n",
    "    \"FlashGameUIHero#hero_main\":\"英雄列表\",\n",
    "    \"FlashGameMail_t#interface_mails\":\"邮件首页\",\n",
    "    \"FlashChattingMenu_t#chat\":\"聊天\",\n",
    "    \"FlashGameMail_t#menu_2\":\"邮件2级列表\",\n",
    "    \"FlashBuildingUpgrade_t#buildings_upgrade\":\"建筑升级\",\n",
    "    \"FlashBuildingBarrack_t#barracks_train\":\"造兵/造塔\",\n",
    "    \"FlashGameLeagueMain_t#league_main\":\"联盟主页\",\n",
    "    \"FlashGameItemBag#items\":\"背包\",\n",
    "    \"FlashGameUIHero#hero_details\":\"英雄详情\",\n",
    "    \"FlashGameTopMenu_t#not_enough_resources\":\"资源不足弹窗\",\n",
    "    \"FlashWildPop_t#monster_info\":\"野怪详情\",\n",
    "    \"FlashBuildingMenu_t#black_market\":\"黑市\",\n",
    "    \"FlashGameUIEventCenterMenu_t#event_center\":\"活动中心\",\n",
    "    \"FlashFirstRechargeMenu_t#first_recharge\":\"首冲\",\n",
    "    \"FlashFirstRechargeMenu_t#new_server_celebrate\":\"开服7天乐\",\n",
    "    \"FlashBuildingPop_t#speed_up_building\":\"使用建筑加速道具弹窗\",\n",
    "    \"FlashBuildingMenu_t#hospital_cure\":\"医院治疗\",\n",
    "    \"FlashGameUILeagueTreasure#alliance_treasures\":\"联盟宝藏\",\n",
    "    \"FlashGameUIHeroPop#upgrade_equipment\":\"英雄装备升级\",\n",
    "    \"FlashGameLadder_t#arena_work\":\"竞技场\",\n",
    "    \"FlashQuestMenu_t#quest_all\":\"任务\",\n",
    "    \"FlashGameUnitEvolvementPop_t#pop_uprage\":\"士兵强化/解锁弹窗\",\n",
    "    \"FlashFortress_t#entrance\":\"要塞主页\",\n",
    "    \"FlashGameGetResource_t#this\":\"资源购买列表\",\n",
    "    \"FlashGameTopMenu_t#refill_energy\":\"购买体力弹窗\",\n",
    "    \"FlashWildPop_t#wreckage\":\"废墟\",\n",
    "    \"FlashScienceResearch_t#sciences\":\"个人科技主页\",\n",
    "    \"FlashScienceResearch_t#millitary_sciences\":\"个人科技:军事\",\n",
    "    \"FlashScienceResearch_t#development_sciences\":\"个人科技:发展\",\n",
    "    \"FlashScienceResearch_t#logistics_sciences\":\"个人科技:后勤\",\n",
    "    \"FlashScienceResearchPop_t#sciences_research\":\"个人科技详情弹窗\",\n",
    "    \"FlashGameInterfacePop_t#city_buff\":\"BUFF界面\",\n",
    "    \"FlashGameMailDetail_t#system_mails2\":\"系统邮件详情\",\n",
    "    \"FlashGameMailDetail_t#monster_hunting\":\"PVE战报\",\n",
    "    \"FlashGameUILeagueGift#league_gift\":\"联盟礼物\",\n",
    "    \"FlashGameUILeagueTechnology#alliance_sciences\":\"联盟科技\",\n",
    "    \"FlashGameMailDetail_t#pvp_report\":\"PVP战报\",\n",
    "    \"FlashBuildingMenu_t#exchange_res\":\"资源补给站\",\n",
    "    \"FlashGameUIHeroPop#evolve\":\"英雄进化\",\n",
    "    \"FlashGameUIHeroPop#star_up\":\"英雄升星\",\n",
    "    \"FlashBuildingMenu_t#quiz\":\"小测验\",\n",
    "    \"FlashGuide_t#guide_dialog\":\"引导对话\",\n",
    "    \"FlashLeagueBattle_t#alliance_battle\":\"联盟战争\",\n",
    "    \"FlashGameInterfacePop_t#attack_warnings\":\"攻击预警\",\n",
    "    \"FlashGameUIHeroPop#add_exp\":\"经验药水\",\n",
    "    \"FlashGameMailDetail_t#personal_information\":\"私聊\",\n",
    "    \"FlashGameUILeagueShop#league_store\":\"联盟商店\",\n",
    "    \"FlashLottery#lucky_card\":\"抽卡\",\n",
    "    \"FlashBuildingMenu_t#army_overview\":\"兵力一览\",\n",
    "    \"FlashLordPop_t#setting_langueage\":\"游戏语言设置\",\n",
    "    \"FlashLordInfo_t#settings_main\":\"设置\",\n",
    "    \"FlashGameMailDetail_t#scouting_report\":\"侦察报告\",\n",
    "    \"FlashGameSoulSkill#soul_skills\":\"魂技\",\n",
    "    \"FlashGameTopMenu_t#exchange_gems\":\"金砖换宝石\",\n",
    "    \"FlashBattleReplay_t#this\":\"战斗录像\",\n",
    "    \"FlashGameLeagueManagement_t#league_management\":\"联盟管理\",\n",
    "    \"FlashLeagueMember_t#league_members\":\"联盟成员\",\n",
    "    \"FlashGameInterfacePop_t#off_line_report\":\"离线报告\",\n",
    "    \"FlashGameUnitEvolvement_t#unit_evolvement\":\"士兵强化首页\",\n",
    "    \"FlashShopPop_t#subscription_gold_bricks\":\"订阅：金砖\",\n",
    "    \"FlashShopPop_t#subscription_daily_pack\":\"订阅：每日礼包\",\n",
    "    \"FlashWelfare_t#welfare_all\":\"福利(签到/投资)\",\n",
    "    \"FlashBuildingMenu_t#city_overview\":\"城市信息总览\",\n",
    "    \"FlashLordInfo_t#alliance_monarch\":\"玩家个人信息\",\n",
    "    \"FlashGameTopMenu_t#speed_up_marching\":\"使用加速道具/buff详情\",\n",
    "    \"FlashGameTopMenu_t#pop_find\":\"材料获取途径弹窗\",\n",
    "    \"FlashQuestMenu_t#story_line\":\"剧情界面\",\n",
    "    \"FlashLeaguePop_t#donate\":\"联盟科技捐献弹窗\",\n",
    "    \"FlashLordInfo_t#interface_kings_information\":\"非同盟玩家信息\",\n",
    "    \"FlashLordInfo_t#interface_kings_information2\":\"同盟玩家信息\",\n",
    "    \"FlashGameUIRank#might_information\":\"排行榜主页面\",\n",
    "    \"FlashGameUIRankDetail#alliance_might_rank\":\"排行榜详情\",\n",
    "    \"FlashGameUIHeroPop#hero_stats\":\"英雄状态弹窗\",\n",
    "    \"FlashGameUIEvilCave#gve_evil_cave\":\"联盟探险首页\",\n",
    "    \"FlashGameUIEvilCave#gve\":\"联盟探险准备/战斗中\",\n",
    "    \"FlashGameUIEvilCave#gve_choose_level\":\"联盟探险选关\",\n",
    "    \"FlashGameUIEvilCavePop#gve_clearing\":\"联盟探险结果\",\n",
    "    \"FlashLordPop_t#interface_change_avatar2\":\"更改头像/头像框\",\n",
    "    \"FlashLeaguePop_t#interface_alliance\":\"联盟信息弹窗\",\n",
    "    \"FlashGameInterfacePop_t#discovery_details\":\"基地车详情\",\n",
    "    \"FlashGameInterfacePop_t#discovery_equipment_details\":\"基地车零件升级\",\n",
    "    \"FlashGameLadderPop_t#rank_board\":\"竞技场排名\",\n",
    "    \"FlashLeaguePop_t#pop_reward\":\"查看每日任务奖励/领奖\",\n",
    "    \"FlashGameTopMenu_t#pack_content\":\"查看礼包内物品信息\",\n",
    "    \"FlashPappas_t#demon_portal\":\"避难所首页\",\n",
    "    \"FlashPappasPop_t#enemy_details\":\"避难所关卡详情\",\n",
    "    \"FlashBuildingMenu_t#appoint\":\"英雄任命\",\n",
    "    \"FlashGameUIHeroPop#skill_details\":\"技能详情\",\n",
    "    \"FlashWildPop_t#pop_container\":\"能源箱信息\",\n",
    "    \"FlashLottery#lottery\":\"大乐透\",\n",
    "    \"FlashWildPop_t#find_resources\":\"查找地图资源\",\n",
    "}\n",
    "\n",
    "CHEST_ITEMS = [18501,18502,18503,18504,18505,18506,18507,18508,18509,18510,18511,18512,18520,18521,18522,18523,18524,18525,18526,18527,18528,18529,18530,18531,18532,18533,18534,18535,18536,18537,18538,18539,18540,18541,18542,18543,18544,18545,18546,18547,18548,18549,18550,18551,18552,18553,18554,18555,18556,18557,18558,18701,18702,18703,18704,18705,18706,18707,18708,18709,18710,18711,18712,18713,18714,18715,18716,18717,18718,18719,18720,18721,18722,18723,18724,18725,18726,18727,18728,18729,18730,18731,18732,18733,18734,18735,18736,18737,18738,18739,18740,18741,18742,18743,18744,18745,18746,18747,18748,18749,18750,18751,18752,18753,18754,18755,18756,18757,18758,18759,18760,18761,18762,18763,18764,18765,18766,18767,18768,18769,18770,18771,18772,18773,18774,18775,18776,18777,18778,18779,18780,18781,18782,18783,18784,18785,18786,18787,18788,18789,18790,18791,18792,18793,18794,18795,18796,18797,18798,18799,18800,18801,18802,18803,18804,18805,18806,18807,18808,18809,18810,18811,18812,18813,18814,18815,18816,18817,18818,18819,18820,18821,18822,18823,18824,18825,18826,18827,18828,18829,18830,18831,18832,18833,18834,18835,18836,18837,18838,18839,18840,18841,18842,18843,18844,18845,18846,18847,18848,18849,18850,18851,18852,18853,18854,18855,18856,18857,18858,18859,18860,18861,18862,18863,18864,18865,18866,18867,18868,18869,18870,18871,18872,18873,18874,18875,18876,18877,18878,18879,18880,18881,18882,18883,18884,18885,18886,18887,18888,18889,18890,18891,18892,18893]\n",
    "\n",
    "def is_ignored_ui(ui_name):\n",
    "    return ui_name in IGNORE_LIST;\n",
    "\n",
    "def get_ui_desc_by_name(ui_name):\n",
    "    if ui_name in UI_DESCRIPTION:\n",
    "        return UI_DESCRIPTION[ui_name];\n",
    "    else:\n",
    "        return ui_name;\n",
    "    \n",
    "def is_chest_item(item_id):\n",
    "    chest_id = int(item_id);\n",
    "    return chest_id in CHEST_ITEMS;b\n",
    "\n"
   ]
  },
  {
   "cell_type": "code",
   "execution_count": 8,
   "metadata": {},
   "outputs": [],
   "source": [
    "def generate_ui_table(ui_table_array):\n",
    "    match_table = {}\n",
    "    for i in ui_table_array:\n",
    "        args = i.split(\":\")\n",
    "        match_table[args[0].strip()] = int(args[1])\n",
    "        \n",
    "    return match_table;\n",
    "\n",
    "def get_ui_name_by_id(ui_table, id):\n",
    "    for k, v in ui_table.items():\n",
    "        if v == id:\n",
    "            return k\n",
    "\n",
    "def parse_record(record):\n",
    "    SEQUENCE_PREFIX = \"op_seq: \";\n",
    "    UI_TABLE_PREFIX = (\"ui:\" + NEW_LINE);\n",
    "    TOTAL_SPENT_PREFIX = \"spent: \";\n",
    "    DATE_PREFIX = \"date: \";\n",
    "    USERID_PREFIX = \"user_id: \";\n",
    "    LANG_PREFIX = \"device_lang: \";\n",
    "    \n",
    "    op_seq_start = record.find(SEQUENCE_PREFIX);\n",
    "    \n",
    "    if op_seq_start == -1:\n",
    "        return\n",
    "    \n",
    "    lang_start = record.find(LANG_PREFIX);\n",
    "    dev_lang = \"unknown\";\n",
    "    if lang_start != -1:\n",
    "        lang_start += len(LANG_PREFIX);\n",
    "        dev_lang = record[lang_start:op_seq_start].strip(NEW_LINE);\n",
    "        \n",
    "    op_seq_start += len(SEQUENCE_PREFIX)\n",
    "    ui_table_start = record.find(UI_TABLE_PREFIX)\n",
    "    \n",
    "    if ui_table_start == -1:\n",
    "        return\n",
    "    \n",
    "    spent_start = record.find(TOTAL_SPENT_PREFIX)\n",
    "    date_start = record.find(DATE_PREFIX)\n",
    "    userid_start = record.find(USERID_PREFIX)\n",
    "    \n",
    "    if spent_start == -1:\n",
    "        return\n",
    "    \n",
    "    if date_start == -1:\n",
    "        return\n",
    "    \n",
    "    if userid_start == -1:\n",
    "        return\n",
    "    \n",
    "    op_seq_array = record[op_seq_start:ui_table_start].strip(NEW_LINE)[:-1].split(\"#\")\n",
    "    ui_table_start += len(UI_TABLE_PREFIX)\n",
    "    ui_table_array = record[ui_table_start:spent_start].splitlines()\n",
    "    total_spent = float(record[spent_start:date_start].strip(NEW_LINE).split(\":\")[1])\n",
    "    date = record[date_start:userid_start].strip(NEW_LINE).split(\":\")[1]\n",
    "    user_id = record[userid_start:-1].strip(NEW_LINE).split(\":\")[1].strip()\n",
    "    \n",
    "    ui_table = generate_ui_table(ui_table_array)\n",
    "    \n",
    "    new_op_array = []\n",
    "    \n",
    "    ui_num = 0;\n",
    "    has_iap_attempt = False;\n",
    "    has_gold_brick_consumption = False;\n",
    "    for i in op_seq_array:\n",
    "        op_args = i.split(\":\")\n",
    "        op_type = int(op_args[0])\n",
    "        if op_type == OP_TYPE_OPEN_UI:\n",
    "            ui_id = int(op_args[1])\n",
    "            ui_name = get_ui_name_by_id(ui_table, ui_id)\n",
    "            if not is_ignored_ui(ui_name):\n",
    "                new_op_array.append(str(OP_TYPE_OPEN_UI) + \":\" + ui_name);\n",
    "                ui_num += 1;\n",
    "        elif op_type == OP_TYPE_IAP_ATTEMPT:\n",
    "            new_op_array.append(i);\n",
    "            has_iap_attempt = True;\n",
    "        elif op_type == OP_TYPE_BUY_COIN_ITEM:\n",
    "            new_op_array.append(i);\n",
    "            has_gold_brick_consumption = True;\n",
    "        else:\n",
    "            new_op_array.append(i);\n",
    "    \n",
    "    \n",
    "    return pd.DataFrame(data = {\n",
    "        \"user_id\":[user_id],\n",
    "        \"date\":[date],\n",
    "        \"day_index\":[convert_datestring_to_day_num(date)],\n",
    "        \"spent\":[total_spent], \n",
    "        \"ops\":[new_op_array],\n",
    "        \"ui_num\":[ui_num],\n",
    "        \"dev_lang\":[dev_lang],\n",
    "        \"has_iap_attempt\":[has_iap_attempt],\n",
    "        \"has_gold_brick_consumption\":[has_gold_brick_consumption],\n",
    "    });\n",
    "  "
   ]
  },
  {
   "cell_type": "code",
   "execution_count": 9,
   "metadata": {},
   "outputs": [],
   "source": [
    "parsed_data = pd.DataFrame(data = {\n",
    "    \"user_id\":[],\n",
    "    \"date\":[], \n",
    "    \"spent\":[], \n",
    "    \"ops\":[]\n",
    "});\n",
    "\n",
    "def parse_origin_data(content):\n",
    "    global parsed_data;\n",
    "    parsed_data = parsed_data.append(parse_record(content), ignore_index = True);\n",
    "\n",
    "dataset[\"content\"].apply(lambda x: parse_origin_data(x));"
   ]
  },
  {
   "cell_type": "markdown",
   "metadata": {},
   "source": [
    "--- "
   ]
  },
  {
   "cell_type": "markdown",
   "metadata": {},
   "source": [
    "### UI打开次数分布(人/天)"
   ]
  },
  {
   "cell_type": "code",
   "execution_count": 10,
   "metadata": {},
   "outputs": [
    {
     "data": {
      "image/png": "[encoded data removed]",
      "text/plain": [
       "<Figure size 1080x360 with 1 Axes>"
      ]
     },
     "metadata": {},
     "output_type": "display_data"
    }
   ],
   "source": [
    "plt.figure(figsize = (15, 5));\n",
    "ax = sns.distplot(parsed_data[\"ui_num\"], kde = False, bins = 150);\n",
    "ax.set(ylabel = \"record number\", xlabel = \"ui open times\");"
   ]
  },
  {
   "cell_type": "code",
   "execution_count": 11,
   "metadata": {},
   "outputs": [
    {
     "data": {
      "text/plain": [
       "3852.0"
      ]
     },
     "execution_count": 11,
     "metadata": {},
     "output_type": "execute_result"
    }
   ],
   "source": [
    "parsed_data[\"ui_num\"].describe()[\"max\"]"
   ]
  },
  {
   "cell_type": "markdown",
   "metadata": {},
   "source": [
    "访问次数最多的界面"
   ]
  },
  {
   "cell_type": "code",
   "execution_count": 12,
   "metadata": {},
   "outputs": [],
   "source": [
    "ui_access_times = {}\n",
    "\n",
    "def count_ui_access_times(ops):\n",
    "    global ui_access_times;\n",
    "    for i in ops:\n",
    "        args = i.split(\":\");\n",
    "        op_type = int(args[0]);\n",
    "        if op_type == OP_TYPE_OPEN_UI:\n",
    "            if args[1] not in ui_access_times:\n",
    "                ui_access_times[args[1]] = 0;\n",
    "            ui_access_times[args[1]] += 1;\n",
    "            \n",
    "parsed_data[\"ops\"].apply(lambda x: count_ui_access_times(x));\n",
    "\n",
    "df_ui_access_times = pd.DataFrame.from_dict(ui_access_times, orient='index', columns = [\"times\"]).sort_values(by = \"times\", ascending = False);"
   ]
  },
  {
   "cell_type": "code",
   "execution_count": 13,
   "metadata": {},
   "outputs": [
    {
     "name": "stdout",
     "output_type": "stream",
     "text": [
      "出征选兵界面                        \t    239897\n",
      "野怪详情                          \t     95501\n",
      "建筑升级                          \t     86208\n",
      "邮件首页                          \t     80694\n",
      "聊天                            \t     73343\n",
      "造兵/造塔                         \t     72848\n",
      "联盟主页                          \t     68899\n",
      "推荐礼包                          \t     63127\n",
      "士兵强化/解锁弹窗                     \t     57481\n",
      "邮件2级列表                        \t     56667\n",
      "查找地图资源                        \t     51700\n",
      "避难所关卡详情                       \t     51234\n",
      "英雄列表                          \t     49573\n",
      "剧情界面                          \t     49141\n",
      "背包                            \t     43288\n",
      "使用建筑加速道具弹窗                    \t     42108\n",
      "引导对话                          \t     41483\n",
      "竞技场                           \t     36962\n",
      "英雄装备升级                        \t     36959\n",
      "活动中心                          \t     36901\n"
     ]
    }
   ],
   "source": [
    "TOP_N = 20;\n",
    "for index, row in df_ui_access_times.iloc[:TOP_N].iterrows():\n",
    "    print(\"{:<30}\\t{:>10}\".format(get_ui_desc_by_name(row.name), row.times))"
   ]
  },
  {
   "cell_type": "markdown",
   "metadata": {},
   "source": [
    "### TODO: 选兵界面的类型\n",
    "- 野怪\n",
    "- 竞技场\n",
    "- 避难所\n",
    "- 联盟探险\n",
    "- other(采集/pvp)"
   ]
  },
  {
   "cell_type": "code",
   "execution_count": 14,
   "metadata": {},
   "outputs": [
    {
     "name": "stdout",
     "output_type": "stream",
     "text": [
      "推荐礼包界面总出现次数为: 63127\n"
     ]
    }
   ],
   "source": [
    "promotion_ui_times = df_ui_access_times.loc[\"FlashRecommendedPackage_t#recommended_package\"].times;\n",
    "print(\"推荐礼包界面总出现次数为: {}\".format(promotion_ui_times));"
   ]
  },
  {
   "cell_type": "code",
   "execution_count": 28,
   "metadata": {},
   "outputs": [],
   "source": [
    "ui_access_times = {};\n",
    "parsed_data.loc[parsed_data[\"ui_num\"] > 3800, \"ops\"].apply(lambda x: count_ui_access_times(x));"
   ]
  },
  {
   "cell_type": "code",
   "execution_count": 16,
   "metadata": {},
   "outputs": [],
   "source": [
    "prev_ui_list = {}\n",
    "def buy_item_from_promotion(ops):\n",
    "    pre_ui = None;\n",
    "    global prev_ui_list;\n",
    "    for i in ops:\n",
    "        args = i.split(\":\");\n",
    "        op_type = int(args[0])\n",
    "        if op_type == OP_TYPE_BUY_COIN_ITEM:\n",
    "            item_id = int(args[1])\n",
    "            if is_chest_item(item_id) and pre_ui is not None:  \n",
    "                if pre_ui not in prev_ui_list:\n",
    "                    prev_ui_list[pre_ui] = 0\n",
    "                prev_ui_list[pre_ui] += 1;\n",
    "        elif op_type == OP_TYPE_OPEN_UI:\n",
    "            pre_ui = args[1];\n",
    "    \n",
    "    return False;\n",
    "\n",
    "parsed_data[\"ops\"].apply(lambda x: buy_item_from_promotion(x));\n",
    "\n",
    "pd_buy_chest = pd.DataFrame.from_dict(prev_ui_list, orient = \"index\", columns = [\"times\"]).sort_values(by = \"times\", ascending = False);"
   ]
  },
  {
   "cell_type": "code",
   "execution_count": 17,
   "metadata": {},
   "outputs": [
    {
     "name": "stdout",
     "output_type": "stream",
     "text": [
      "从推荐窗口卖出的宝箱占总卖出宝箱的 22.206%\n",
      "从推荐窗口卖出的宝箱占总弹出次数的 0.242%\n"
     ]
    }
   ],
   "source": [
    "buy_chest_from_promotion = pd_buy_chest[\"times\"].loc[\"FlashRecommendedPackage_t#recommended_package\"];\n",
    "buy_chest_total = pd_buy_chest[\"times\"].sum();\n",
    "\n",
    "print(\"从推荐窗口卖出的宝箱占总卖出宝箱的 {:.3f}%\".format(buy_chest_from_promotion * 100 / buy_chest_total));\n",
    "print(\"从推荐窗口卖出的宝箱占总弹出次数的 {:.3f}%\".format(buy_chest_from_promotion * 100 / promotion_ui_times));\n"
   ]
  },
  {
   "cell_type": "code",
   "execution_count": 18,
   "metadata": {},
   "outputs": [
    {
     "data": {
      "image/png": "[encoded data removed]",
      "text/plain": [
       "<Figure size 432x288 with 2 Axes>"
      ]
     },
     "metadata": {},
     "output_type": "display_data"
    }
   ],
   "source": [
    "plt.subplot(2, 1, 1)\n",
    "plt.pie([buy_chest_from_promotion, buy_chest_total], labels = [\"From Promotion\", \"Total\"], autopct = \"%.3f%%\");\n",
    "plt.subplot(2, 1, 2)\n",
    "plt.pie([buy_chest_from_promotion, promotion_ui_times], labels = [\"From Promotion\", \"Total\"], autopct = \"%.3f%%\");"
   ]
  },
  {
   "cell_type": "code",
   "execution_count": 30,
   "metadata": {},
   "outputs": [
    {
     "data": {
      "text/html": [
       "<div>\n",
       "<style scoped>\n",
       "    .dataframe tbody tr th:only-of-type {\n",
       "        vertical-align: middle;\n",
       "    }\n",
       "\n",
       "    .dataframe tbody tr th {\n",
       "        vertical-align: top;\n",
       "    }\n",
       "\n",
       "    .dataframe thead th {\n",
       "        text-align: right;\n",
       "    }\n",
       "</style>\n",
       "<table border=\"1\" class=\"dataframe\">\n",
       "  <thead>\n",
       "    <tr style=\"text-align: right;\">\n",
       "      <th></th>\n",
       "      <th>times</th>\n",
       "    </tr>\n",
       "  </thead>\n",
       "  <tbody>\n",
       "    <tr>\n",
       "      <th>FlashShopMain_t#shop_all</th>\n",
       "      <td>447</td>\n",
       "    </tr>\n",
       "    <tr>\n",
       "      <th>FlashRecommendedPackage_t#recommended_package</th>\n",
       "      <td>153</td>\n",
       "    </tr>\n",
       "    <tr>\n",
       "      <th>FlashGameTopMenu_t#pack_content</th>\n",
       "      <td>54</td>\n",
       "    </tr>\n",
       "    <tr>\n",
       "      <th>FlashShopPop_t#subscription_gold_bricks</th>\n",
       "      <td>15</td>\n",
       "    </tr>\n",
       "    <tr>\n",
       "      <th>FlashShopPop_t#subscription_daily_pack</th>\n",
       "      <td>12</td>\n",
       "    </tr>\n",
       "    <tr>\n",
       "      <th>FlashBuildingMenu_t#black_market</th>\n",
       "      <td>5</td>\n",
       "    </tr>\n",
       "    <tr>\n",
       "      <th>FlashGameTopMenu_t#exchange_gems</th>\n",
       "      <td>3</td>\n",
       "    </tr>\n",
       "  </tbody>\n",
       "</table>\n",
       "</div>"
      ],
      "text/plain": [
       "                                               times\n",
       "FlashShopMain_t#shop_all                         447\n",
       "FlashRecommendedPackage_t#recommended_package    153\n",
       "FlashGameTopMenu_t#pack_content                   54\n",
       "FlashShopPop_t#subscription_gold_bricks           15\n",
       "FlashShopPop_t#subscription_daily_pack            12\n",
       "FlashBuildingMenu_t#black_market                   5\n",
       "FlashGameTopMenu_t#exchange_gems                   3"
      ]
     },
     "execution_count": 30,
     "metadata": {},
     "output_type": "execute_result"
    }
   ],
   "source": [
    "pd_buy_chest"
   ]
  },
  {
   "cell_type": "code",
   "execution_count": 33,
   "metadata": {},
   "outputs": [
    {
     "data": {
      "text/plain": [
       "array([<matplotlib.axes._subplots.AxesSubplot object at 0x000001660370D588>],\n",
       "      dtype=object)"
      ]
     },
     "execution_count": 33,
     "metadata": {},
     "output_type": "execute_result"
    },
    {
     "data": {
      "image/png": "[encoded data removed]",
      "text/plain": [
       "<Figure size 432x288 with 1 Axes>"
      ]
     },
     "metadata": {},
     "output_type": "display_data"
    }
   ],
   "source": [
    "pd_buy_chest.plot.pie(subplots = True)"
   ]
  },
  {
   "cell_type": "markdown",
   "metadata": {},
   "source": [
    "### 出现在玩家每天常用窗口(top10)中次数最多的"
   ]
  },
  {
   "cell_type": "code",
   "execution_count": 19,
   "metadata": {},
   "outputs": [],
   "source": [
    "total_most_accessed_ui = {}\n",
    "def calc_most_opened_ui(ops):\n",
    "    global total_most_accessed_ui;\n",
    "    opened_ui = {}\n",
    "    for i in ops:\n",
    "        args = i.split(\":\")\n",
    "        op_type = int(args[0])\n",
    "        if op_type == OP_TYPE_OPEN_UI:\n",
    "            ui_name = args[1];\n",
    "            if ui_name not in opened_ui:\n",
    "                opened_ui[ui_name] = 0;\n",
    "                \n",
    "            opened_ui[ui_name] += 1;\n",
    "            \n",
    "    pd_most_accessed = pd.DataFrame.from_dict(opened_ui, orient = \"index\", columns = [\"times\"]).sort_values(by = \"times\", ascending = False);  \n",
    "    \n",
    "    top_n = min(10, len(pd_most_accessed));\n",
    "    for i, v in pd_most_accessed.iloc[:top_n].iterrows():\n",
    "        if i not in total_most_accessed_ui:\n",
    "            total_most_accessed_ui[i] = 0;\n",
    "        total_most_accessed_ui[i] += 1;\n",
    "parsed_data[\"ops\"].apply(lambda x: calc_most_opened_ui(x));\n",
    "\n",
    "pd_total_most_accessed = pd.DataFrame.from_dict(total_most_accessed_ui, orient = \"index\", columns = [\"times\"]).sort_values(by = \"times\", ascending = False);  \n",
    "\n"
   ]
  },
  {
   "cell_type": "code",
   "execution_count": 20,
   "metadata": {},
   "outputs": [
    {
     "name": "stdout",
     "output_type": "stream",
     "text": [
      "出征选兵界面                        \t      6413\t81.59%\n",
      "邮件首页                          \t      4247\t54.03%\n",
      "造兵/造塔                         \t      3784\t48.14%\n",
      "推荐礼包                          \t      3605\t45.87%\n",
      "联盟主页                          \t      3578\t45.52%\n",
      "野怪详情                          \t      3514\t44.71%\n",
      "建筑升级                          \t      3340\t42.49%\n",
      "邮件2级列表                        \t      2818\t35.85%\n",
      "士兵强化/解锁弹窗                     \t      2015\t25.64%\n",
      "英雄列表                          \t      1956\t24.89%\n",
      "聊天                            \t      1924\t24.48%\n",
      "查找地图资源                        \t      1913\t24.34%\n",
      "避难所关卡详情                       \t      1800\t22.90%\n",
      "背包                            \t      1602\t20.38%\n",
      "竞技场                           \t      1570\t19.97%\n",
      "查看每日任务奖励/领奖                   \t      1510\t19.21%\n",
      "活动中心                          \t      1415\t18.00%\n",
      "使用建筑加速道具弹窗                    \t      1410\t17.94%\n",
      "英雄装备升级                        \t      1277\t16.25%\n",
      "剧情界面                          \t      1237\t15.74%\n"
     ]
    }
   ],
   "source": [
    "TOP_N = 20;\n",
    "for index, row in pd_total_most_accessed.iloc[:TOP_N].iterrows():\n",
    "    pct = float(row.times * 100 / len(parsed_data));\n",
    "    print(\"{:<30}\\t{:>10}\\t{:.2f}%\".format(get_ui_desc_by_name(row.name), row.times, pct))"
   ]
  },
  {
   "cell_type": "markdown",
   "metadata": {},
   "source": [
    "### 每天上线后打开的第一个界面:\n"
   ]
  },
  {
   "cell_type": "markdown",
   "metadata": {},
   "source": [
    "### 流失曲线？"
   ]
  },
  {
   "cell_type": "code",
   "execution_count": null,
   "metadata": {},
   "outputs": [],
   "source": []
  },
  {
   "cell_type": "markdown",
   "metadata": {},
   "source": [
    "### 流失用户"
   ]
  },
  {
   "cell_type": "code",
   "execution_count": 21,
   "metadata": {},
   "outputs": [],
   "source": [
    "\n",
    "def is_churn_user(x):\n",
    "    #today = datetime.datetime.now();\n",
    "    #day_num = convert_datestring_to_day_num(today.strftime(\"%d/%m/%y\"));\n",
    "\n",
    "    latest_info_date = \"05/15/19\";\n",
    "    latest_day_num = convert_datestring_to_day_num(latest_info_date);\n",
    "    last_login_day = x[\"max\"];\n",
    "    total_login_day_num = x[\"len\"];\n",
    "        \n",
    "    if last_login_day <= latest_day_num - 2:\n",
    "        return True;\n",
    "    else:\n",
    "        return False;\n"
   ]
  },
  {
   "cell_type": "code",
   "execution_count": 22,
   "metadata": {},
   "outputs": [
    {
     "name": "stdout",
     "output_type": "stream",
     "text": [
      "(458, 2)\n",
      "(103, 2)\n"
     ]
    }
   ],
   "source": [
    "#group users by user_id\n",
    "pd_user_id_group = parsed_data.groupby([\"user_id\"])[\"day_index\"].agg([len, max]);\n",
    "churn_user_group = pd_user_id_group.loc[pd_user_id_group.apply(lambda x: (is_churn_user(x)), axis = 1)].sort_values(by = \"len\", ascending = False);\n",
    "print(churn_user_group.shape)\n",
    "\n",
    "print(churn_user_group.loc[churn_user_group[\"len\"] > 2].shape)\n",
    "churn_user_id_list = churn_user_group.index;"
   ]
  },
  {
   "cell_type": "code",
   "execution_count": 27,
   "metadata": {},
   "outputs": [
    {
     "name": "stdout",
     "output_type": "stream",
     "text": [
      "[9. 7. 2.]\n",
      "[109.]\n",
      "[196.  22.]\n",
      "[61.]\n",
      "[504.]\n",
      "[23. 19.]\n",
      "[103. 314.  88.]\n",
      "[126.  40.  96. 221.]\n",
      "[62.]\n",
      "[318. 337.]\n"
     ]
    },
    {
     "data": {
      "image/png": "[encoded data removed]",
      "text/plain": [
       "<Figure size 720x360 with 1 Axes>"
      ]
     },
     "metadata": {},
     "output_type": "display_data"
    }
   ],
   "source": [
    "sample_num = 10;\n",
    "sample_list = np.random.randint(0, len(churn_user_id_list), sample_num);\n",
    "plt.figure(figsize = (10, 5));\n",
    "for i in sample_list:\n",
    "    user_id = churn_user_id_list[i];\n",
    "    ordered_rec = parsed_data.loc[parsed_data[\"user_id\"] == user_id].sort_values(by = \"day_index\");\n",
    "    \n",
    "    data_array = np.array(ordered_rec[\"ui_num\"]);\n",
    "    print(data_array)\n",
    "    sns.lineplot(data = data_array);"
   ]
  },
  {
   "cell_type": "markdown",
   "metadata": {},
   "source": [
    "#### 流失用户最后操作的都是什么呢？"
   ]
  },
  {
   "cell_type": "code",
   "execution_count": 24,
   "metadata": {},
   "outputs": [
    {
     "data": {
      "text/plain": [
       "458"
      ]
     },
     "execution_count": 24,
     "metadata": {},
     "output_type": "execute_result"
    }
   ],
   "source": [
    "len(churn_user_id_list)"
   ]
  },
  {
   "cell_type": "code",
   "execution_count": 25,
   "metadata": {},
   "outputs": [
    {
     "data": {
      "text/html": [
       "<div>\n",
       "<style scoped>\n",
       "    .dataframe tbody tr th:only-of-type {\n",
       "        vertical-align: middle;\n",
       "    }\n",
       "\n",
       "    .dataframe tbody tr th {\n",
       "        vertical-align: top;\n",
       "    }\n",
       "\n",
       "    .dataframe thead th {\n",
       "        text-align: right;\n",
       "    }\n",
       "</style>\n",
       "<table border=\"1\" class=\"dataframe\">\n",
       "  <thead>\n",
       "    <tr style=\"text-align: right;\">\n",
       "      <th></th>\n",
       "      <th>len</th>\n",
       "      <th>max</th>\n",
       "    </tr>\n",
       "    <tr>\n",
       "      <th>user_id</th>\n",
       "      <th></th>\n",
       "      <th></th>\n",
       "    </tr>\n",
       "  </thead>\n",
       "  <tbody>\n",
       "    <tr>\n",
       "      <th>5c58ed7a0c1b7bd830ce9c88</th>\n",
       "      <td>6.0</td>\n",
       "      <td>133.0</td>\n",
       "    </tr>\n",
       "    <tr>\n",
       "      <th>5cae98efc15e00677f69ffdb</th>\n",
       "      <td>6.0</td>\n",
       "      <td>133.0</td>\n",
       "    </tr>\n",
       "    <tr>\n",
       "      <th>5c79ee500c1b7b8c7f85e2f0</th>\n",
       "      <td>6.0</td>\n",
       "      <td>133.0</td>\n",
       "    </tr>\n",
       "    <tr>\n",
       "      <th>5c8974b366863b9e35900aca</th>\n",
       "      <td>6.0</td>\n",
       "      <td>133.0</td>\n",
       "    </tr>\n",
       "    <tr>\n",
       "      <th>5cd36548c15e00056023928d</th>\n",
       "      <td>6.0</td>\n",
       "      <td>133.0</td>\n",
       "    </tr>\n",
       "    <tr>\n",
       "      <th>5cbe14b3c15e00db2f597d11</th>\n",
       "      <td>6.0</td>\n",
       "      <td>133.0</td>\n",
       "    </tr>\n",
       "    <tr>\n",
       "      <th>5cb360bec15e00a641543566</th>\n",
       "      <td>5.0</td>\n",
       "      <td>132.0</td>\n",
       "    </tr>\n",
       "    <tr>\n",
       "      <th>5c8ad51466863b9e35a99037</th>\n",
       "      <td>5.0</td>\n",
       "      <td>132.0</td>\n",
       "    </tr>\n",
       "    <tr>\n",
       "      <th>5cb0fd1fc15e00a6412df557</th>\n",
       "      <td>5.0</td>\n",
       "      <td>133.0</td>\n",
       "    </tr>\n",
       "    <tr>\n",
       "      <th>5c8919aa0c1b7beb719f9c4b</th>\n",
       "      <td>5.0</td>\n",
       "      <td>132.0</td>\n",
       "    </tr>\n",
       "    <tr>\n",
       "      <th>5cbd817fc15e00db2f55d023</th>\n",
       "      <td>5.0</td>\n",
       "      <td>132.0</td>\n",
       "    </tr>\n",
       "    <tr>\n",
       "      <th>5cd4582cc15e0005602691ae</th>\n",
       "      <td>5.0</td>\n",
       "      <td>133.0</td>\n",
       "    </tr>\n",
       "    <tr>\n",
       "      <th>5c646e2c66863bef339f334d</th>\n",
       "      <td>5.0</td>\n",
       "      <td>133.0</td>\n",
       "    </tr>\n",
       "    <tr>\n",
       "      <th>5cd1c2ddc15e00c847f1302f</th>\n",
       "      <td>5.0</td>\n",
       "      <td>132.0</td>\n",
       "    </tr>\n",
       "    <tr>\n",
       "      <th>5cb07b9ac15e00a64126c31a</th>\n",
       "      <td>5.0</td>\n",
       "      <td>132.0</td>\n",
       "    </tr>\n",
       "    <tr>\n",
       "      <th>5cb413c1c15e00a6415c63bd</th>\n",
       "      <td>5.0</td>\n",
       "      <td>133.0</td>\n",
       "    </tr>\n",
       "    <tr>\n",
       "      <th>5cb46302c15e0056721cafc5</th>\n",
       "      <td>5.0</td>\n",
       "      <td>133.0</td>\n",
       "    </tr>\n",
       "    <tr>\n",
       "      <th>5c8b918c66863b9e35b9335d</th>\n",
       "      <td>5.0</td>\n",
       "      <td>133.0</td>\n",
       "    </tr>\n",
       "    <tr>\n",
       "      <th>5c8bf84466863b9e35c3260b</th>\n",
       "      <td>5.0</td>\n",
       "      <td>133.0</td>\n",
       "    </tr>\n",
       "    <tr>\n",
       "      <th>5c47063166863b4e775874fe</th>\n",
       "      <td>5.0</td>\n",
       "      <td>132.0</td>\n",
       "    </tr>\n",
       "    <tr>\n",
       "      <th>5cae214ec15e00677f65d13b</th>\n",
       "      <td>5.0</td>\n",
       "      <td>132.0</td>\n",
       "    </tr>\n",
       "    <tr>\n",
       "      <th>5c49f67d66863b4e77719527</th>\n",
       "      <td>5.0</td>\n",
       "      <td>132.0</td>\n",
       "    </tr>\n",
       "    <tr>\n",
       "      <th>5cadfe54c15e00677f64f275</th>\n",
       "      <td>5.0</td>\n",
       "      <td>132.0</td>\n",
       "    </tr>\n",
       "    <tr>\n",
       "      <th>5caf66cdc15e00a6411b9269</th>\n",
       "      <td>5.0</td>\n",
       "      <td>132.0</td>\n",
       "    </tr>\n",
       "    <tr>\n",
       "      <th>5cb22967c15e00a641403735</th>\n",
       "      <td>4.0</td>\n",
       "      <td>131.0</td>\n",
       "    </tr>\n",
       "    <tr>\n",
       "      <th>5cb1c02dc15e00a64138aa21</th>\n",
       "      <td>4.0</td>\n",
       "      <td>131.0</td>\n",
       "    </tr>\n",
       "    <tr>\n",
       "      <th>5cb1cf91c15e00a6413990df</th>\n",
       "      <td>4.0</td>\n",
       "      <td>133.0</td>\n",
       "    </tr>\n",
       "    <tr>\n",
       "      <th>5cb1d8aa0c1b7b821891f294</th>\n",
       "      <td>4.0</td>\n",
       "      <td>132.0</td>\n",
       "    </tr>\n",
       "    <tr>\n",
       "      <th>5cd4b7e1c15e00056027cb90</th>\n",
       "      <td>4.0</td>\n",
       "      <td>133.0</td>\n",
       "    </tr>\n",
       "    <tr>\n",
       "      <th>5c7b096d0c1b7b8c7f8f336b</th>\n",
       "      <td>4.0</td>\n",
       "      <td>131.0</td>\n",
       "    </tr>\n",
       "    <tr>\n",
       "      <th>...</th>\n",
       "      <td>...</td>\n",
       "      <td>...</td>\n",
       "    </tr>\n",
       "    <tr>\n",
       "      <th>5cd42f15c15e00056025fce3</th>\n",
       "      <td>1.0</td>\n",
       "      <td>129.0</td>\n",
       "    </tr>\n",
       "    <tr>\n",
       "      <th>5cd42be3c15e00056025f344</th>\n",
       "      <td>1.0</td>\n",
       "      <td>129.0</td>\n",
       "    </tr>\n",
       "    <tr>\n",
       "      <th>5cd4206bc15e00056025ccfa</th>\n",
       "      <td>1.0</td>\n",
       "      <td>129.0</td>\n",
       "    </tr>\n",
       "    <tr>\n",
       "      <th>5cd41da5c15e00056025c2e7</th>\n",
       "      <td>1.0</td>\n",
       "      <td>129.0</td>\n",
       "    </tr>\n",
       "    <tr>\n",
       "      <th>5cd39318c15e000560241459</th>\n",
       "      <td>1.0</td>\n",
       "      <td>129.0</td>\n",
       "    </tr>\n",
       "    <tr>\n",
       "      <th>5cd4852ac15e000560272aa8</th>\n",
       "      <td>1.0</td>\n",
       "      <td>129.0</td>\n",
       "    </tr>\n",
       "    <tr>\n",
       "      <th>5cd38b89c15e00056023fe56</th>\n",
       "      <td>1.0</td>\n",
       "      <td>129.0</td>\n",
       "    </tr>\n",
       "    <tr>\n",
       "      <th>5cd30226c15e0005602298de</th>\n",
       "      <td>1.0</td>\n",
       "      <td>128.0</td>\n",
       "    </tr>\n",
       "    <tr>\n",
       "      <th>5cd2fae3c15e0005602282d9</th>\n",
       "      <td>1.0</td>\n",
       "      <td>128.0</td>\n",
       "    </tr>\n",
       "    <tr>\n",
       "      <th>5cd2f6b6144e52773e2eacb2</th>\n",
       "      <td>1.0</td>\n",
       "      <td>128.0</td>\n",
       "    </tr>\n",
       "    <tr>\n",
       "      <th>5cd2f503c15e000560226b9f</th>\n",
       "      <td>1.0</td>\n",
       "      <td>128.0</td>\n",
       "    </tr>\n",
       "    <tr>\n",
       "      <th>5cd2dde5c15e00056021e49d</th>\n",
       "      <td>1.0</td>\n",
       "      <td>128.0</td>\n",
       "    </tr>\n",
       "    <tr>\n",
       "      <th>5cd4369ec15e0005602618da</th>\n",
       "      <td>1.0</td>\n",
       "      <td>129.0</td>\n",
       "    </tr>\n",
       "    <tr>\n",
       "      <th>5cd43f3ec15e000560263bf8</th>\n",
       "      <td>1.0</td>\n",
       "      <td>129.0</td>\n",
       "    </tr>\n",
       "    <tr>\n",
       "      <th>5cd440bec15e0005602641fe</th>\n",
       "      <td>1.0</td>\n",
       "      <td>129.0</td>\n",
       "    </tr>\n",
       "    <tr>\n",
       "      <th>5cd4429bc15e00056026480d</th>\n",
       "      <td>1.0</td>\n",
       "      <td>129.0</td>\n",
       "    </tr>\n",
       "    <tr>\n",
       "      <th>5cd44941c15e000560265f78</th>\n",
       "      <td>1.0</td>\n",
       "      <td>129.0</td>\n",
       "    </tr>\n",
       "    <tr>\n",
       "      <th>5cd45235c15e000560267cff</th>\n",
       "      <td>1.0</td>\n",
       "      <td>129.0</td>\n",
       "    </tr>\n",
       "    <tr>\n",
       "      <th>5cd46181c15e00056026b577</th>\n",
       "      <td>1.0</td>\n",
       "      <td>129.0</td>\n",
       "    </tr>\n",
       "    <tr>\n",
       "      <th>5cd462d5c15e00056026b934</th>\n",
       "      <td>1.0</td>\n",
       "      <td>129.0</td>\n",
       "    </tr>\n",
       "    <tr>\n",
       "      <th>5cd46626c15e00056026c2e6</th>\n",
       "      <td>1.0</td>\n",
       "      <td>129.0</td>\n",
       "    </tr>\n",
       "    <tr>\n",
       "      <th>5cd467d6c15e00056026c8b7</th>\n",
       "      <td>1.0</td>\n",
       "      <td>129.0</td>\n",
       "    </tr>\n",
       "    <tr>\n",
       "      <th>5cd46b94c15e00056026d38f</th>\n",
       "      <td>1.0</td>\n",
       "      <td>129.0</td>\n",
       "    </tr>\n",
       "    <tr>\n",
       "      <th>5cd46c4dc15e00056026d611</th>\n",
       "      <td>1.0</td>\n",
       "      <td>129.0</td>\n",
       "    </tr>\n",
       "    <tr>\n",
       "      <th>5cd475e4c15e00056026f632</th>\n",
       "      <td>1.0</td>\n",
       "      <td>129.0</td>\n",
       "    </tr>\n",
       "    <tr>\n",
       "      <th>5cd47706c15e00056026f8cb</th>\n",
       "      <td>1.0</td>\n",
       "      <td>129.0</td>\n",
       "    </tr>\n",
       "    <tr>\n",
       "      <th>5cd47abac15e000560270393</th>\n",
       "      <td>1.0</td>\n",
       "      <td>129.0</td>\n",
       "    </tr>\n",
       "    <tr>\n",
       "      <th>5cd47cb3c15e000560270a19</th>\n",
       "      <td>1.0</td>\n",
       "      <td>129.0</td>\n",
       "    </tr>\n",
       "    <tr>\n",
       "      <th>5cd47f74c15e00056027144d</th>\n",
       "      <td>1.0</td>\n",
       "      <td>129.0</td>\n",
       "    </tr>\n",
       "    <tr>\n",
       "      <th>5cd9f350c15e0005603b24e4</th>\n",
       "      <td>1.0</td>\n",
       "      <td>133.0</td>\n",
       "    </tr>\n",
       "  </tbody>\n",
       "</table>\n",
       "<p>458 rows × 2 columns</p>\n",
       "</div>"
      ],
      "text/plain": [
       "                          len    max\n",
       "user_id                             \n",
       "5c58ed7a0c1b7bd830ce9c88  6.0  133.0\n",
       "5cae98efc15e00677f69ffdb  6.0  133.0\n",
       "5c79ee500c1b7b8c7f85e2f0  6.0  133.0\n",
       "5c8974b366863b9e35900aca  6.0  133.0\n",
       "5cd36548c15e00056023928d  6.0  133.0\n",
       "5cbe14b3c15e00db2f597d11  6.0  133.0\n",
       "5cb360bec15e00a641543566  5.0  132.0\n",
       "5c8ad51466863b9e35a99037  5.0  132.0\n",
       "5cb0fd1fc15e00a6412df557  5.0  133.0\n",
       "5c8919aa0c1b7beb719f9c4b  5.0  132.0\n",
       "5cbd817fc15e00db2f55d023  5.0  132.0\n",
       "5cd4582cc15e0005602691ae  5.0  133.0\n",
       "5c646e2c66863bef339f334d  5.0  133.0\n",
       "5cd1c2ddc15e00c847f1302f  5.0  132.0\n",
       "5cb07b9ac15e00a64126c31a  5.0  132.0\n",
       "5cb413c1c15e00a6415c63bd  5.0  133.0\n",
       "5cb46302c15e0056721cafc5  5.0  133.0\n",
       "5c8b918c66863b9e35b9335d  5.0  133.0\n",
       "5c8bf84466863b9e35c3260b  5.0  133.0\n",
       "5c47063166863b4e775874fe  5.0  132.0\n",
       "5cae214ec15e00677f65d13b  5.0  132.0\n",
       "5c49f67d66863b4e77719527  5.0  132.0\n",
       "5cadfe54c15e00677f64f275  5.0  132.0\n",
       "5caf66cdc15e00a6411b9269  5.0  132.0\n",
       "5cb22967c15e00a641403735  4.0  131.0\n",
       "5cb1c02dc15e00a64138aa21  4.0  131.0\n",
       "5cb1cf91c15e00a6413990df  4.0  133.0\n",
       "5cb1d8aa0c1b7b821891f294  4.0  132.0\n",
       "5cd4b7e1c15e00056027cb90  4.0  133.0\n",
       "5c7b096d0c1b7b8c7f8f336b  4.0  131.0\n",
       "...                       ...    ...\n",
       "5cd42f15c15e00056025fce3  1.0  129.0\n",
       "5cd42be3c15e00056025f344  1.0  129.0\n",
       "5cd4206bc15e00056025ccfa  1.0  129.0\n",
       "5cd41da5c15e00056025c2e7  1.0  129.0\n",
       "5cd39318c15e000560241459  1.0  129.0\n",
       "5cd4852ac15e000560272aa8  1.0  129.0\n",
       "5cd38b89c15e00056023fe56  1.0  129.0\n",
       "5cd30226c15e0005602298de  1.0  128.0\n",
       "5cd2fae3c15e0005602282d9  1.0  128.0\n",
       "5cd2f6b6144e52773e2eacb2  1.0  128.0\n",
       "5cd2f503c15e000560226b9f  1.0  128.0\n",
       "5cd2dde5c15e00056021e49d  1.0  128.0\n",
       "5cd4369ec15e0005602618da  1.0  129.0\n",
       "5cd43f3ec15e000560263bf8  1.0  129.0\n",
       "5cd440bec15e0005602641fe  1.0  129.0\n",
       "5cd4429bc15e00056026480d  1.0  129.0\n",
       "5cd44941c15e000560265f78  1.0  129.0\n",
       "5cd45235c15e000560267cff  1.0  129.0\n",
       "5cd46181c15e00056026b577  1.0  129.0\n",
       "5cd462d5c15e00056026b934  1.0  129.0\n",
       "5cd46626c15e00056026c2e6  1.0  129.0\n",
       "5cd467d6c15e00056026c8b7  1.0  129.0\n",
       "5cd46b94c15e00056026d38f  1.0  129.0\n",
       "5cd46c4dc15e00056026d611  1.0  129.0\n",
       "5cd475e4c15e00056026f632  1.0  129.0\n",
       "5cd47706c15e00056026f8cb  1.0  129.0\n",
       "5cd47abac15e000560270393  1.0  129.0\n",
       "5cd47cb3c15e000560270a19  1.0  129.0\n",
       "5cd47f74c15e00056027144d  1.0  129.0\n",
       "5cd9f350c15e0005603b24e4  1.0  133.0\n",
       "\n",
       "[458 rows x 2 columns]"
      ]
     },
     "execution_count": 25,
     "metadata": {},
     "output_type": "execute_result"
    }
   ],
   "source": [
    "pd_user_id_group.loc[pd_user_id_group.apply(lambda x: (is_churn_user(x)), axis = 1)].sort_values(by = \"len\", ascending = False)"
   ]
  }
 ],
 "metadata": {
  "kernelspec": {
   "display_name": "Python 3",
   "language": "python",
   "name": "python3"
  },
  "language_info": {
   "codemirror_mode": {
    "name": "ipython",
    "version": 3
   },
   "file_extension": ".py",
   "mimetype": "text/x-python",
   "name": "python",
   "nbconvert_exporter": "python",
   "pygments_lexer": "ipython3",
   "version": "3.6.5"
  },
  "toc": {
   "base_numbering": 1,
   "nav_menu": {},
   "number_sections": true,
   "sideBar": true,
   "skip_h1_title": false,
   "title_cell": "Table of Contents",
   "title_sidebar": "Contents",
   "toc_cell": false,
   "toc_position": {},
   "toc_section_display": true,
   "toc_window_display": false
  }
 },
 "nbformat": 4,
 "nbformat_minor": 2
}
