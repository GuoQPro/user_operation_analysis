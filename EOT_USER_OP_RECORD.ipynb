{
 "cells": [
  {
   "cell_type": "code",
   "execution_count": 1,
   "metadata": {},
   "outputs": [],
   "source": [
    "%matplotlib inline\n",
    "import pandas as pd;\n",
    "import numpy as np;\n",
    "import util.py_data_analysis_util.data_analysis as da;\n",
    "import matplotlib.pyplot as plt;\n",
    "\n",
    "import seaborn as sns;\n",
    "sns.set();"
   ]
  },
  {
   "cell_type": "code",
   "execution_count": 2,
   "metadata": {},
   "outputs": [
    {
     "data": {
      "text/html": [
       "<script>jQuery(function() {if (jQuery(\"body.notebook_app\").length == 0) { jQuery(\".input_area\").toggle(); jQuery(\".prompt\").toggle();}});</script>"
      ]
     },
     "metadata": {},
     "output_type": "display_data"
    },
    {
     "data": {
      "text/html": [
       "<button onclick=\"jQuery('.input_area').toggle(); jQuery('.prompt').toggle();\">Toggle code</button>"
      ]
     },
     "metadata": {},
     "output_type": "display_data"
    }
   ],
   "source": [
    "da.enable_ipythonnb_code_toggle();"
   ]
  },
  {
   "cell_type": "code",
   "execution_count": 3,
   "metadata": {},
   "outputs": [],
   "source": [
    "da.ignore_warnings();"
   ]
  },
  {
   "cell_type": "code",
   "execution_count": 4,
   "metadata": {},
   "outputs": [],
   "source": [
    "dataset = pd.read_csv(\"user_operations_190516.csv\");"
   ]
  },
  {
   "cell_type": "code",
   "execution_count": 5,
   "metadata": {},
   "outputs": [],
   "source": [
    "## predefined operation types\n",
    "OP_TYPE_OPEN_UI = 1 \n",
    "OP_TYPE_IAP_SUCC = 2\n",
    "OP_TYPE_IAP_ATTEMPT = 3\n",
    "OP_TYPE_BUY_COIN_ITEM = 4\n",
    "\n",
    "IGNORE_LIST = {\n",
    "    \"FlashGameTopMenu_t#get_items.pop\",\n",
    "    \"FlashGuide_t#btn_blank\",\n",
    "    \"FlashGameTopMenu_t#pop_text_small\",\n",
    "    \"FlashGameTopMenu_t#get_items_small\",\n",
    "    \"FlashGameItemBagPop#this\",\n",
    "    \"FlashGameTopMenu_t#you_got_prize\",\n",
    "    \"FlashGameTopMenu_t#pay\",\n",
    "    \"FlashGuide_t#fade_in\",\n",
    "    \"FlashGuide_t#fade_out\",\n",
    "    \"FlashPappasPop_t#animation_victory\",\n",
    "};\n",
    "\n",
    "UI_DESCRIPTION = {\n",
    "    \"FlashShopMain_t#shop_all\":\"商店主页\",\n",
    "    \"FlashMarchPreparation_t#march_reinforce\":\"出征选兵界面\",\n",
    "    \"FlashMarchPreparationPop_t#choose_hero\":\"出征界面选择英雄弹窗\",\n",
    "    \"FlashRecommendedPackage_t#recommended_package\":\"推荐礼包\",\n",
    "    \"FlashGameUIHero#hero_main\":\"英雄列表\",\n",
    "    \"FlashGameMail_t#interface_mails\":\"邮件首页\",\n",
    "    \"FlashChattingMenu_t#chat\":\"聊天\",\n",
    "    \"FlashGameMail_t#menu_2\":\"邮件2级列表\",\n",
    "    \"FlashBuildingUpgrade_t#buildings_upgrade\":\"建筑升级\",\n",
    "    \"FlashBuildingBarrack_t#barracks_train\":\"造兵/造塔\",\n",
    "    \"FlashGameLeagueMain_t#league_main\":\"联盟主页\",\n",
    "    \"FlashGameItemBag#items\":\"背包\",\n",
    "    \"FlashGameUIHero#hero_details\":\"英雄详情\",\n",
    "    \"FlashGameTopMenu_t#not_enough_resources\":\"资源不足弹窗\",\n",
    "    \"FlashWildPop_t#monster_info\":\"野怪详情\",\n",
    "    \"FlashBuildingMenu_t#black_market\":\"黑市\",\n",
    "    \"FlashGameUIEventCenterMenu_t#event_center\":\"活动中心\",\n",
    "    \"FlashFirstRechargeMenu_t#first_recharge\":\"首冲\",\n",
    "    \"FlashFirstRechargeMenu_t#new_server_celebrate\":\"开服7天乐\",\n",
    "    \"FlashBuildingPop_t#speed_up_building\":\"使用建筑加速道具弹窗\",\n",
    "    \"FlashBuildingMenu_t#hospital_cure\":\"医院治疗\",\n",
    "    \"FlashGameUILeagueTreasure#alliance_treasures\":\"联盟宝藏\",\n",
    "    \"FlashGameUIHeroPop#upgrade_equipment\":\"英雄装备升级\",\n",
    "    \"FlashGameLadder_t#arena_work\":\"竞技场\",\n",
    "    \"FlashQuestMenu_t#quest_all\":\"任务\",\n",
    "    \"FlashGameUnitEvolvementPop_t#pop_uprage\":\"士兵强化/解锁弹窗\",\n",
    "    \"FlashFortress_t#entrance\":\"要塞主页\",\n",
    "    \"FlashGameGetResource_t#this\":\"资源购买列表\",\n",
    "    \"FlashGameTopMenu_t#refill_energy\":\"购买体力弹窗\",\n",
    "    \"FlashWildPop_t#wreckage\":\"废墟\",\n",
    "    \"FlashScienceResearch_t#sciences\":\"个人科技主页\",\n",
    "    \"FlashScienceResearch_t#millitary_sciences\":\"个人科技:军事\",\n",
    "    \"FlashScienceResearch_t#development_sciences\":\"个人科技:发展\",\n",
    "    \"FlashScienceResearch_t#logistics_sciences\":\"个人科技:后勤\",\n",
    "    \"FlashScienceResearchPop_t#sciences_research\":\"个人科技详情弹窗\",\n",
    "    \"FlashGameInterfacePop_t#city_buff\":\"BUFF界面\",\n",
    "    \"FlashGameMailDetail_t#system_mails2\":\"系统邮件详情\",\n",
    "    \"FlashGameMailDetail_t#monster_hunting\":\"PVE战报\",\n",
    "    \"FlashGameUILeagueGift#league_gift\":\"联盟礼物\",\n",
    "    \"FlashGameUILeagueTechnology#alliance_sciences\":\"联盟科技\",\n",
    "    \"FlashGameMailDetail_t#pvp_report\":\"PVP战报\",\n",
    "    \"FlashBuildingMenu_t#exchange_res\":\"资源补给站\",\n",
    "    \"FlashGameUIHeroPop#evolve\":\"英雄进化\",\n",
    "    \"FlashGameUIHeroPop#star_up\":\"英雄升星\",\n",
    "    \"FlashBuildingMenu_t#quiz\":\"小测验\",\n",
    "    \"FlashGuide_t#guide_dialog\":\"引导对话\",\n",
    "    \"FlashLeagueBattle_t#alliance_battle\":\"联盟战争\",\n",
    "    \"FlashGameInterfacePop_t#attack_warnings\":\"攻击预警\",\n",
    "    \"FlashGameUIHeroPop#add_exp\":\"经验药水\",\n",
    "    \"FlashGameMailDetail_t#personal_information\":\"私聊\",\n",
    "    \"FlashGameUILeagueShop#league_store\":\"联盟商店\",\n",
    "    \"FlashLottery#lucky_card\":\"抽卡\",\n",
    "    \"FlashBuildingMenu_t#army_overview\":\"兵力一览\",\n",
    "    \"FlashLordPop_t#setting_langueage\":\"游戏语言设置\",\n",
    "    \"FlashLordInfo_t#settings_main\":\"设置\",\n",
    "    \"FlashGameMailDetail_t#scouting_report\":\"侦察报告\",\n",
    "    \"FlashGameSoulSkill#soul_skills\":\"魂技\",\n",
    "    \"FlashGameTopMenu_t#exchange_gems\":\"金砖换宝石\",\n",
    "    \"FlashBattleReplay_t#this\":\"战斗录像\",\n",
    "    \"FlashGameLeagueManagement_t#league_management\":\"联盟管理\",\n",
    "    \"FlashLeagueMember_t#league_members\":\"联盟成员\",\n",
    "    \"FlashGameInterfacePop_t#off_line_report\":\"离线报告\",\n",
    "    \"FlashGameUnitEvolvement_t#unit_evolvement\":\"士兵强化首页\",\n",
    "    \"FlashShopPop_t#subscription_gold_bricks\":\"订阅：金砖\",\n",
    "    \"FlashShopPop_t#subscription_daily_pack\":\"订阅：每日礼包\",\n",
    "    \"FlashWelfare_t#welfare_all\":\"福利(签到/投资)\",\n",
    "    \"FlashBuildingMenu_t#city_overview\":\"城市信息总览\",\n",
    "    \"FlashLordInfo_t#alliance_monarch\":\"玩家个人信息\",\n",
    "    \"FlashGameTopMenu_t#speed_up_marching\":\"使用加速道具/buff详情\",\n",
    "    \"FlashGameTopMenu_t#pop_find\":\"材料获取途径弹窗\",\n",
    "    \"FlashQuestMenu_t#story_line\":\"剧情界面\",\n",
    "    \"FlashLeaguePop_t#donate\":\"联盟科技捐献弹窗\",\n",
    "    \"FlashLordInfo_t#interface_kings_information\":\"非同盟玩家信息\",\n",
    "    \"FlashLordInfo_t#interface_kings_information2\":\"同盟玩家信息\",\n",
    "    \"FlashGameUIRank#might_information\":\"排行榜主页面\",\n",
    "    \"FlashGameUIRankDetail#alliance_might_rank\":\"排行榜详情\",\n",
    "    \"FlashGameUIHeroPop#hero_stats\":\"英雄状态弹窗\",\n",
    "    \"FlashGameUIEvilCave#gve_evil_cave\":\"联盟探险首页\",\n",
    "    \"FlashGameUIEvilCave#gve\":\"联盟探险准备/战斗中\",\n",
    "    \"FlashGameUIEvilCave#gve_choose_level\":\"联盟探险选关\",\n",
    "    \"FlashGameUIEvilCavePop#gve_clearing\":\"联盟探险结果\",\n",
    "    \"FlashLordPop_t#interface_change_avatar2\":\"更改头像/头像框\",\n",
    "    \"FlashLeaguePop_t#interface_alliance\":\"联盟信息弹窗\",\n",
    "    \"FlashGameInterfacePop_t#discovery_details\":\"基地车详情\",\n",
    "    \"FlashGameInterfacePop_t#discovery_equipment_details\":\"基地车零件升级\",\n",
    "    \"FlashGameLadderPop_t#rank_board\":\"竞技场排名\",\n",
    "    \"FlashLeaguePop_t#pop_reward\":\"查看每日任务奖励/领奖\",\n",
    "    \"FlashGameTopMenu_t#pack_content\":\"查看礼包内物品信息\",\n",
    "    \"FlashPappas_t#demon_portal\":\"避难所首页\",\n",
    "    \"FlashPappasPop_t#enemy_details\":\"避难所关卡详情\",\n",
    "    \"FlashBuildingMenu_t#appoint\":\"英雄任命\",\n",
    "    \"FlashGameUIHeroPop#skill_details\":\"技能详情\",\n",
    "    \"FlashWildPop_t#pop_container\":\"能源箱信息\",\n",
    "    \"FlashLottery#lottery\":\"大乐透\",\n",
    "    \"FlashWildPop_t#find_resources\":\"查找地图资源\",\n",
    "}\n",
    "\n",
    "CHEST_ITEMS = [18501,18502,18503,18504,18505,18506,18507,18508,18509,18510,18511,18512,18520,18521,18522,18523,18524,18525,18526,18527,18528,18529,18530,18531,18532,18533,18534,18535,18536,18537,18538,18539,18540,18541,18542,18543,18544,18545,18546,18547,18548,18549,18550,18551,18552,18553,18554,18555,18556,18557,18558,18701,18702,18703,18704,18705,18706,18707,18708,18709,18710,18711,18712,18713,18714,18715,18716,18717,18718,18719,18720,18721,18722,18723,18724,18725,18726,18727,18728,18729,18730,18731,18732,18733,18734,18735,18736,18737,18738,18739,18740,18741,18742,18743,18744,18745,18746,18747,18748,18749,18750,18751,18752,18753,18754,18755,18756,18757,18758,18759,18760,18761,18762,18763,18764,18765,18766,18767,18768,18769,18770,18771,18772,18773,18774,18775,18776,18777,18778,18779,18780,18781,18782,18783,18784,18785,18786,18787,18788,18789,18790,18791,18792,18793,18794,18795,18796,18797,18798,18799,18800,18801,18802,18803,18804,18805,18806,18807,18808,18809,18810,18811,18812,18813,18814,18815,18816,18817,18818,18819,18820,18821,18822,18823,18824,18825,18826,18827,18828,18829,18830,18831,18832,18833,18834,18835,18836,18837,18838,18839,18840,18841,18842,18843,18844,18845,18846,18847,18848,18849,18850,18851,18852,18853,18854,18855,18856,18857,18858,18859,18860,18861,18862,18863,18864,18865,18866,18867,18868,18869,18870,18871,18872,18873,18874,18875,18876,18877,18878,18879,18880,18881,18882,18883,18884,18885,18886,18887,18888,18889,18890,18891,18892,18893]\n",
    "\n",
    "def is_ignored_ui(ui_name):\n",
    "    return ui_name in IGNORE_LIST;\n",
    "\n",
    "def get_ui_desc_by_name(ui_name):\n",
    "    if ui_name in UI_DESCRIPTION:\n",
    "        return UI_DESCRIPTION[ui_name];\n",
    "    else:\n",
    "        return ui_name;\n",
    "    \n",
    "def is_chest_item(item_id):\n",
    "    chest_id = int(item_id);\n",
    "    return chest_id in CHEST_ITEMS;\n"
   ]
  },
  {
   "cell_type": "code",
   "execution_count": 93,
   "metadata": {},
   "outputs": [],
   "source": [
    "def generate_ui_table(ui_table_array):\n",
    "    match_table = {}\n",
    "    for i in ui_table_array:\n",
    "        args = i.split(\":\")\n",
    "        match_table[args[0].strip()] = int(args[1])\n",
    "        \n",
    "    return match_table;\n",
    "\n",
    "def get_ui_name_by_id(ui_table, id):\n",
    "    for k, v in ui_table.items():\n",
    "        if v == id:\n",
    "            return k\n",
    "\n",
    "def parse_record(record):\n",
    "    SEQUENCE_PREFIX = \"op_seq: \";\n",
    "    UI_TABLE_PREFIX = \"ui:\\n\";\n",
    "    TOTAL_SPENT_PREFIX = \"spent: \";\n",
    "    DATE_PREFIX = \"date: \";\n",
    "    USERID_PREFIX = \"user_id: \";\n",
    "    LANG_PREFIX = \"device_lang: \";\n",
    "    \n",
    "\n",
    "    op_seq_start = record.find(SEQUENCE_PREFIX);\n",
    "    \n",
    "    if op_seq_start == -1:\n",
    "        return\n",
    "    \n",
    "    lang_start = record.find(LANG_PREFIX);\n",
    "    dev_lang = \"unknown\";\n",
    "    if lang_start != -1:\n",
    "        lang_start += len(LANG_PREFIX);\n",
    "        dev_lang = record[lang_start:op_seq_start].strip(\"\\n\");\n",
    "        \n",
    "    op_seq_start += len(SEQUENCE_PREFIX)\n",
    "    \n",
    "    ui_table_start = record.find(UI_TABLE_PREFIX)\n",
    "    \n",
    "    if ui_table_start == -1:\n",
    "        return\n",
    "    \n",
    "    spent_start = record.find(TOTAL_SPENT_PREFIX)\n",
    "    date_start = record.find(DATE_PREFIX)\n",
    "    userid_start = record.find(USERID_PREFIX)\n",
    "    \n",
    "    if spent_start == -1:\n",
    "        return\n",
    "    \n",
    "    if date_start == -1:\n",
    "        return\n",
    "    \n",
    "    if userid_start == -1:\n",
    "        return\n",
    "    \n",
    "    op_seq_array = record[op_seq_start:ui_table_start].strip(\"\\n\")[:-1].split(\"#\")\n",
    "    ui_table_start += len(UI_TABLE_PREFIX)\n",
    "    ui_table_array = record[ui_table_start:spent_start].splitlines()\n",
    "    total_spent = float(record[spent_start:date_start].strip(\"\\n\").split(\":\")[1])\n",
    "    date = record[date_start:userid_start].strip(\"\\n\").split(\":\")[1]\n",
    "    user_id = record[userid_start:-1].strip(\"\\n\").split(\":\")[1]\n",
    "    \n",
    "    ui_table = generate_ui_table(ui_table_array)\n",
    "    \n",
    "    new_op_array = []\n",
    "    \n",
    "    ui_num = 0;\n",
    "    has_iap_attempt = False;\n",
    "    has_gold_brick_consumption = False;\n",
    "    for i in op_seq_array:\n",
    "        op_args = i.split(\":\")\n",
    "        op_type = int(op_args[0])\n",
    "        if op_type == OP_TYPE_OPEN_UI:\n",
    "            ui_id = int(op_args[1])\n",
    "            ui_name = get_ui_name_by_id(ui_table, ui_id)\n",
    "            if not is_ignored_ui(ui_name):\n",
    "                new_op_array.append(str(OP_TYPE_OPEN_UI) + \":\" + ui_name);\n",
    "                ui_num += 1;\n",
    "        elif op_type == OP_TYPE_IAP_ATTEMPT:\n",
    "            new_op_array.append(i);\n",
    "            has_iap_attempt = True;\n",
    "        elif op_type == OP_TYPE_BUY_COIN_ITEM:\n",
    "            new_op_array.append(i);\n",
    "            has_gold_brick_consumption = True;\n",
    "        else:\n",
    "            new_op_array.append(i);\n",
    "    \n",
    "    return pd.DataFrame(data = {\n",
    "        \"user_id\":[user_id],\n",
    "        \"date\":[date], \n",
    "        \"spent\":[total_spent], \n",
    "        \"ops\":[new_op_array],\n",
    "        \"ui_num\":[ui_num],\n",
    "        \"dev_lang\":[dev_lang],\n",
    "        \"has_iap_attempt\":[has_iap_attempt],\n",
    "        \"has_gold_brick_consumption\":[has_gold_brick_consumption],\n",
    "    });\n",
    "  "
   ]
  },
  {
   "cell_type": "code",
   "execution_count": 94,
   "metadata": {},
   "outputs": [],
   "source": [
    "parsed_data = pd.DataFrame(data = {\n",
    "    \"user_id\":[],\n",
    "    \"date\":[], \n",
    "    \"spent\":[], \n",
    "    \"ops\":[]\n",
    "});\n",
    "\n",
    "def parse_origin_data(content):\n",
    "    global parsed_data;\n",
    "    parsed_data = parsed_data.append(parse_record(content), ignore_index = Tbrue);\n",
    "\n",
    "dataset[\"content\"].apply(lambda x: parse_origin_data(x));"
   ]
  },
  {
   "cell_type": "code",
   "execution_count": 124,
   "metadata": {},
   "outputs": [
    {
     "data": {
      "text/plain": [
       "(6451, 8)"
      ]
     },
     "execution_count": 124,
     "metadata": {},
     "output_type": "execute_result"
    }
   ],
   "source": [
    "# remove records with less than 10 ui operations in a whole day.\n",
    "parsed_data = parsed_data.loc[parsed_data[\"ui_num\"] >= 10];\n",
    "parsed_data.shape"
   ]
  },
  {
   "cell_type": "markdown",
   "metadata": {},
   "source": [
    "--- "
   ]
  },
  {
   "cell_type": "markdown",
   "metadata": {},
   "source": [
    "### UI打开次数分布(人/天)"
   ]
  },
  {
   "cell_type": "code",
   "execution_count": 125,
   "metadata": {},
   "outputs": [
    {
     "data": {
      "image/png": "[encoded data removed]",
      "text/plain": [
       "<Figure size 1080x360 with 1 Axes>"
      ]
     },
     "metadata": {
      "needs_background": "light"
     },
     "output_type": "display_data"
    }
   ],
   "source": [
    "plt.figure(figsize = (15, 5));\n",
    "ax = sns.distplot(parsed_data[\"ui_num\"], kde = False, bins = 150);\n",
    "ax.set(ylabel = \"record number\", xlabel = \"ui open times\");"
   ]
  },
  {
   "cell_type": "code",
   "execution_count": 112,
   "metadata": {},
   "outputs": [
    {
     "data": {
      "text/plain": [
       "3852.0"
      ]
     },
     "execution_count": 112,
     "metadata": {},
     "output_type": "execute_result"
    }
   ],
   "source": [
    "parsed_data[\"ui_num\"].describe()[\"max\"]"
   ]
  },
  {
   "cell_type": "markdown",
   "metadata": {},
   "source": [
    "访问次数最多的界面"
   ]
  },
  {
   "cell_type": "code",
   "execution_count": 77,
   "metadata": {},
   "outputs": [],
   "source": [
    "ui_access_times = {}\n",
    "\n",
    "def count_ui_access_times(ops):\n",
    "    global ui_access_times;\n",
    "    for i in ops:\n",
    "        args = i.split(\":\");\n",
    "        op_type = int(args[0]);\n",
    "        if op_type == OP_TYPE_OPEN_UI:\n",
    "            if args[1] not in ui_access_times:\n",
    "                ui_access_times[args[1]] = 0;\n",
    "            ui_access_times[args[1]] += 1;\n",
    "            \n",
    "parsed_data[\"ops\"].apply(lambda x: count_ui_access_times(x));\n",
    "\n",
    "df_ui_access_times = pd.DataFrame.from_dict(ui_access_times, orient='index', columns = [\"times\"]).sort_values(by = \"times\", ascending = False);"
   ]
  },
  {
   "cell_type": "code",
   "execution_count": 78,
   "metadata": {},
   "outputs": [
    {
     "name": "stdout",
     "output_type": "stream",
     "text": [
      "出征选兵界面                        \t    205708\n",
      "野怪详情                          \t     81835\n",
      "邮件首页                          \t     68259\n",
      "聊天                            \t     63859\n",
      "建筑升级                          \t     61211\n",
      "联盟主页                          \t     59727\n",
      "造兵/造塔                         \t     58549\n",
      "推荐礼包                          \t     56844\n",
      "邮件2级列表                        \t     47026\n",
      "查找地图资源                        \t     45250\n",
      "士兵强化/解锁弹窗                     \t     43814\n",
      "避难所关卡详情                       \t     42563\n",
      "英雄列表                          \t     41069\n",
      "背包                            \t     37551\n",
      "使用建筑加速道具弹窗                    \t     33027\n",
      "竞技场                           \t     31852\n",
      "活动中心                          \t     31063\n",
      "联盟宝藏                          \t     29426\n",
      "英雄装备升级                        \t     29149\n",
      "剧情界面                          \t     29048\n"
     ]
    }
   ],
   "source": [
    "TOP_N = 20;\n",
    "for index, row in df_ui_access_times.iloc[:TOP_N].iterrows():\n",
    "    print(\"{:<30}\\t{:>10}\".format(get_ui_desc_by_name(row.name), row.times))"
   ]
  },
  {
   "cell_type": "code",
   "execution_count": 79,
   "metadata": {},
   "outputs": [
    {
     "name": "stdout",
     "output_type": "stream",
     "text": [
      "推荐礼包界面总出现次数为: 56844\n"
     ]
    }
   ],
   "source": [
    "promotion_ui_times = df_ui_access_times.loc[\"FlashRecommendedPackage_t#recommended_package\"].times;\n",
    "print(\"推荐礼包界面总出现次数为: {}\".format(promotion_ui_times));"
   ]
  },
  {
   "cell_type": "code",
   "execution_count": 132,
   "metadata": {},
   "outputs": [
    {
     "data": {
      "text/html": [
       "<div>\n",
       "<style scoped>\n",
       "    .dataframe tbody tr th:only-of-type {\n",
       "        vertical-align: middle;\n",
       "    }\n",
       "\n",
       "    .dataframe tbody tr th {\n",
       "        vertical-align: top;\n",
       "    }\n",
       "\n",
       "    .dataframe thead th {\n",
       "        text-align: right;\n",
       "    }\n",
       "</style>\n",
       "<table border=\"1\" class=\"dataframe\">\n",
       "  <thead>\n",
       "    <tr style=\"text-align: right;\">\n",
       "      <th></th>\n",
       "      <th>date</th>\n",
       "      <th>dev_lang</th>\n",
       "      <th>has_gold_brick_consumption</th>\n",
       "      <th>has_iap_attempt</th>\n",
       "      <th>ops</th>\n",
       "      <th>spent</th>\n",
       "      <th>ui_num</th>\n",
       "      <th>user_id</th>\n",
       "    </tr>\n",
       "  </thead>\n",
       "  <tbody>\n",
       "    <tr>\n",
       "      <th>3378</th>\n",
       "      <td>05/12/19</td>\n",
       "      <td>unknown</td>\n",
       "      <td>True</td>\n",
       "      <td>True</td>\n",
       "      <td>[1:FlashGameMail_t#interface_mails, 1:FlashGam...</td>\n",
       "      <td>0.0</td>\n",
       "      <td>3852.0</td>\n",
       "      <td>5cd29333c15e00c847f35010</td>\n",
       "    </tr>\n",
       "  </tbody>\n",
       "</table>\n",
       "</div>"
      ],
      "text/plain": [
       "           date dev_lang has_gold_brick_consumption has_iap_attempt  \\\n",
       "3378   05/12/19  unknown                       True            True   \n",
       "\n",
       "                                                    ops  spent  ui_num  \\\n",
       "3378  [1:FlashGameMail_t#interface_mails, 1:FlashGam...    0.0  3852.0   \n",
       "\n",
       "                        user_id  \n",
       "3378   5cd29333c15e00c847f35010  "
      ]
     },
     "execution_count": 132,
     "metadata": {},
     "output_type": "execute_result"
    }
   ],
   "source": [
    "parsed_data.loc[parsed_data[\"ui_num\"] > 3800]"
   ]
  },
  {
   "cell_type": "code",
   "execution_count": 131,
   "metadata": {},
   "outputs": [
    {
     "data": {
      "text/plain": [
       "{'FlashGameMail_t#interface_mails': 116,\n",
       " 'FlashGameItemBag#items': 26,\n",
       " 'FlashGameUIEventCenterMenu_t#event_center': 218,\n",
       " 'FlashGameUIEventPopMenu_t#revolution_pop_rewards_rank': 310,\n",
       " 'FlashGameTopMenu_t#pop_text_big_slide': 4,\n",
       " 'FlashShopMain_t#shop_all': 36,\n",
       " 'FlashShopPop_t#subscription_daily_pack': 1,\n",
       " 'FlashShopPop_t#subscription_gold_bricks': 1,\n",
       " 'FlashFirstRechargeMenu_t#new_server_celebrate': 44,\n",
       " 'FlashWelfare_t#welfare_all': 6,\n",
       " 'FlashLottery#lucky_card': 4,\n",
       " 'FlashGameUIHero#hero_main': 81,\n",
       " 'FlashGameUIHero#hero_details': 78,\n",
       " 'FlashGameUIHeroPop#star_up': 22,\n",
       " 'FlashBuildingMenu_t#black_market': 17,\n",
       " 'FlashGameUIRank#might_information': 13,\n",
       " 'FlashGameUnitEvolvement_t#unit_evolvement': 58,\n",
       " 'FlashBuildingUpgrade_t#buildings_upgrade': 25,\n",
       " 'FlashGameUnitEvolvementPop_t#pop_uprage': 163,\n",
       " 'FlashBuildingPop_t#speed_up_building': 111,\n",
       " 'FlashGameInterfacePop_t#population': 20,\n",
       " 'FlashGameTopMenu_t#refill_energy': 60,\n",
       " 'FlashRecommendedPackage_t#recommended_package': 54,\n",
       " 'FlashBuildingMenu_t#quiz': 10,\n",
       " 'FlashBuildingMenu_t#exchange_res': 1,\n",
       " 'FlashBuildingPop_t#building_details': 5,\n",
       " 'FlashQuestMenu_t#quest_all': 17,\n",
       " 'FlashLeaguePop_t#pop_reward': 13,\n",
       " 'FlashWildPop_t#find_resources': 149,\n",
       " 'FlashWildPop_t#monster_info': 455,\n",
       " 'FlashMarchPreparation_t#march_reinforce': 461,\n",
       " 'FlashGameUIEventPopMenu_t#revolution_pop_point_info': 13,\n",
       " 'FlashGameMail_t#menu_2': 34,\n",
       " 'FlashGameMailDetail_t#monster_hunting': 26,\n",
       " 'FlashBuildingMenu_t#hospital_cure': 95,\n",
       " 'FlashScienceResearch_t#sciences': 18,\n",
       " 'FlashGameSoulSkill#soul_skills': 28,\n",
       " 'FlashChattingMenu_t#chat': 45,\n",
       " 'FlashGameLeagueMain_t#league_main': 74,\n",
       " 'FlashGameUILeagueTreasure#alliance_treasures': 39,\n",
       " 'FlashWildPop_t#wreckage': 6,\n",
       " 'FlashWildPop_t#watchtower_guard': 2,\n",
       " 'FlashGameTopMenu_t#speed_up_marching': 12,\n",
       " 'FlashGameLadder_t#arena_work': 23,\n",
       " 'FlashScienceResearch_t#millitary_sciences': 8,\n",
       " 'FlashScienceResearchPop_t#sciences_research': 21,\n",
       " 'FlashLeagueMember_t#league_members': 9,\n",
       " 'FlashGameMailDetail_t#pvp_report': 2,\n",
       " 'FlashGameUIHeroPop#skill_details': 22,\n",
       " 'FlashGameInterfacePop_t#attack_warnings': 1,\n",
       " 'FlashLordInfo_t#alliance_monarch': 17,\n",
       " 'FlashLordInfo_t#settings_main': 5,\n",
       " 'FlashGameUILeagueGift#league_gift': 3,\n",
       " 'FlashQuestMenu_t#story_line': 28,\n",
       " 'FlashGameTopMenu_t#pack_content': 33,\n",
       " 'FlashLeagueBattle_t#alliance_battle': 13,\n",
       " 'FlashGameUILeagueTechnology#alliance_sciences': 9,\n",
       " 'FlashLeaguePop_t#donate': 10,\n",
       " 'FlashMarchPreparationPop_t#save_formation': 14,\n",
       " 'FlashLordInfo_t#interface_kings_information': 8,\n",
       " 'FlashGameInterfacePop_t#off_line_report': 2,\n",
       " 'FlashQuestPop_t#achievement_completed': 3,\n",
       " 'FlashWildPop_t#srearch_coordinate': 1,\n",
       " 'FlashBuildingPop_t#open_up_more_land': 1,\n",
       " 'FlashBuildingBarrack_t#rank_up_unit': 93,\n",
       " 'FlashBuildingBarrackPop_t#rank_up_unit': 92,\n",
       " 'FlashPappas_t#demon_portal': 26,\n",
       " 'FlashPappasPop_t#enemy_details': 53,\n",
       " 'FlashScienceResearch_t#development_sciences': 6,\n",
       " 'FlashGameUIHeroPop#add_exp': 9,\n",
       " 'FlashBuildingMenu_t#combine_item': 2,\n",
       " 'FlashBuildingPop_t#combine_item_record': 5,\n",
       " 'FlashBuildingPop_t#combine_confirm': 5,\n",
       " 'FlashFirstRechargeMenu_t#first_recharge': 5,\n",
       " 'FlashGameUnitEvolvement_t#animation_evolvement': 1,\n",
       " 'FlashGameGetResource_t#this': 14,\n",
       " 'FlashBuildingBarrack_t#barracks_train': 18,\n",
       " 'FlashGameUIRankDetail#alliance_might_rank': 4,\n",
       " 'FlashLeaguePop_t#interface_alliance': 15,\n",
       " 'FlashGameTopMenu_t#guide_choose': 1,\n",
       " 'FlashScienceResearch_t#logistics_sciences': 3,\n",
       " 'FlashGameUIHeroPop#evolve': 7,\n",
       " 'FlashGameUIHeroPop#hero_stats': 4,\n",
       " 'FlashLordPop_t#title_management': 2,\n",
       " 'FlashLeaguePop_t#league_information': 2,\n",
       " 'FlashLordPop_t#setting_langueage': 4,\n",
       " 'FlashChattingPop_t#chat_setting': 1,\n",
       " 'FlashChattingPop_t#interface_player': 2,\n",
       " 'FlashScienceResearchPop_t#sciences_research_max': 1,\n",
       " 'FlashLeagueMilestone_t#alliance_milestone': 2,\n",
       " 'FlashGameUIEventPopMenu_t#draw_hero_awards_info': 1,\n",
       " 'FlashGameInterfacePop_t#discovery_details': 3,\n",
       " 'FlashGameInterfacePop_t#discovery_equipment_details': 16,\n",
       " 'FlashGameTopMenu_t#not_enough_resources': 1,\n",
       " 'FlashGameUILeagueShop#league_store': 6,\n",
       " 'FlashLeaguePop_t#alliance_hospital': 1,\n",
       " 'FlashLottery#lottery': 2,\n",
       " 'FlashGameWorldMap_t#server_map': 9,\n",
       " 'FlashBuildingMenu_t#appoint': 1,\n",
       " 'FlashBuildingPop_t#hero_skill_eff_overview': 1,\n",
       " 'FlashGameInterfacePop_t#city_buff': 3,\n",
       " 'FlashBattleReplay_t#this': 14,\n",
       " 'FlashGameUIHeroPop#upgrade_equipment': 104,\n",
       " 'FlashGameTopMenu_t#pop_find': 2,\n",
       " 'FlashMarchPreparationPop_t#choose_hero': 3,\n",
       " 'FlashGameLadderPop_t#congutlations': 6,\n",
       " 'FlashGameUIHeroPop#animation_hero_evolve': 1,\n",
       " 'FlashGameUIHeroPop#improve_equipment': 16,\n",
       " 'FlashGuide_t#chapter_animation': 1,\n",
       " 'FlashGameUIEvilCave#gve_evil_cave': 14,\n",
       " 'FlashGameUIEvilCave#gve_choose_level': 4,\n",
       " 'FlashGameUIEvilCavePop#level_num': 2,\n",
       " 'FlashGameUIEvilCave#gve': 17,\n",
       " 'FlashWildPop_t#marching_troop': 3,\n",
       " 'FlashGameUIHeroPop#animation_get_hero': 1,\n",
       " 'FlashGameUIEvilCavePop#gve_clearing': 5,\n",
       " 'FlashGameMailDetail_t#gve_report': 3,\n",
       " 'FlashSkillPreview_t#_root': 1,\n",
       " 'FlashBuildingMenu_t#troop_protect': 1,\n",
       " 'FlashGameLadderPop_t#daily_chanllenges': 2,\n",
       " 'FlashFortressPop_t#basic_info': 2,\n",
       " 'FlashFortress_t#entrance': 2,\n",
       " 'FlashWildPop_t#bookmark': 1,\n",
       " 'FlashFortress_t#passage': 1,\n",
       " 'FlashLordPop_t#interface_change_avatar2': 1,\n",
       " 'FlashPappasPop_t#power_up': 1,\n",
       " 'FlashGameUIRank#power_guide': 3,\n",
       " 'FlashWildPop_t#camp_info': 1,\n",
       " 'FlashLordInfo_t#interface_kings_information2': 2,\n",
       " 'FlashLeagueMemberPop_t#assist_resources': 1,\n",
       " 'FlashGameTopMenu_t#exchange_gems': 2,\n",
       " 'FlashGameLeagueMain_t#shelter_manage': 1,\n",
       " 'FlashLeaguePop_t#shelter_buff_guide': 4,\n",
       " 'FlashChattingPop_t#chat_information': 1,\n",
       " 'FlashMarchPreparationPop_t#unavailable_formation': 3,\n",
       " 'FlashGameCityLevelup_t#congratulations': 1}"
      ]
     },
     "execution_count": 131,
     "metadata": {},
     "output_type": "execute_result"
    }
   ],
   "source": [
    "ui_access_times = {};\n",
    "parsed_data.loc[parsed_data[\"ui_num\"] > 3800, \"ops\"].apply(lambda x: count_ui_access_times(x));\n",
    "ui_access_times"
   ]
  },
  {
   "cell_type": "code",
   "execution_count": 102,
   "metadata": {},
   "outputs": [],
   "source": [
    "prev_ui_list = {}\n",
    "def buy_item_from_promotion(ops):\n",
    "    pre_ui = None;\n",
    "    global prev_ui_list;\n",
    "    for i in ops:\n",
    "        args = i.split(\":\");\n",
    "        op_type = int(args[0])\n",
    "        if op_type == OP_TYPE_BUY_COIN_ITEM:\n",
    "            item_id = int(args[1])\n",
    "            if is_chest_item(item_id) and pre_ui is not None:  \n",
    "                if pre_ui not in prev_ui_list:\n",
    "                    prev_ui_list[pre_ui] = 0\n",
    "                prev_ui_list[pre_ui] += 1;\n",
    "        elif op_type == OP_TYPE_OPEN_UI:\n",
    "            pre_ui = args[1];\n",
    "    \n",
    "    return False;\n",
    "\n",
    "parsed_data[\"ops\"].apply(lambda x: buy_item_from_promotion(x));\n",
    "\n",
    "pd_buy_chest = pd.DataFrame.from_dict(prev_ui_list, orient = \"index\", columns = [\"times\"]).sort_values(by = \"times\", ascending = False);"
   ]
  },
  {
   "cell_type": "code",
   "execution_count": 81,
   "metadata": {},
   "outputs": [
    {
     "name": "stdout",
     "output_type": "stream",
     "text": [
      "从推荐窗口卖出的宝箱占总卖出宝箱的 21.971%\n",
      "从推荐窗口卖出的宝箱占总弹出次数的 0.239%\n"
     ]
    }
   ],
   "source": [
    "buy_chest_from_promotion = pd_buy_chest[\"times\"].loc[\"FlashRecommendedPackage_t#recommended_package\"];\n",
    "buy_chest_total = pd_buy_chest[\"times\"].sum();\n",
    "\n",
    "print(\"从推荐窗口卖出的宝箱占总卖出宝箱的 {:.3f}%\".format(buy_chest_from_promotion * 100 / buy_chest_total));\n",
    "print(\"从推荐窗口卖出的宝箱占总弹出次数的 {:.3f}%\".format(buy_chest_from_promotion * 100 / promotion_ui_times));\n"
   ]
  },
  {
   "cell_type": "code",
   "execution_count": 83,
   "metadata": {},
   "outputs": [
    {
     "data": {
      "image/png": "[encoded data removed]",
      "text/plain": [
       "<Figure size 432x288 with 2 Axes>"
      ]
     },
     "metadata": {},
     "output_type": "display_data"
    }
   ],
   "source": [
    "plt.subplot(2, 1, 1)\n",
    "plt.pie([buy_chest_from_promotion, buy_chest_total], labels = [\"From Promotion\", \"Total\"], autopct = \"%.3f%%\");\n",
    "plt.subplot(2, 1, 2)\n",
    "plt.pie([buy_chest_from_promotion, promotion_ui_times], labels = [\"From Promotion\", \"Total\"], autopct = \"%.3f%%\");"
   ]
  },
  {
   "cell_type": "markdown",
   "metadata": {},
   "source": [
    "### 出现在玩家每天常用窗口(top10)中次数最多的"
   ]
  },
  {
   "cell_type": "code",
   "execution_count": 84,
   "metadata": {},
   "outputs": [],
   "source": [
    "total_most_accessed_ui = {}\n",
    "def calc_most_opened_ui(ops):\n",
    "    global total_most_accessed_ui;\n",
    "    opened_ui = {}\n",
    "    for i in ops:\n",
    "        args = i.split(\":\")\n",
    "        op_type = int(args[0])\n",
    "        if op_type == OP_TYPE_OPEN_UI:\n",
    "            ui_name = args[1];\n",
    "            if ui_name not in opened_ui:\n",
    "                opened_ui[ui_name] = 0;\n",
    "                \n",
    "            opened_ui[ui_name] += 1;\n",
    "            \n",
    "    pd_most_accessed = pd.DataFrame.from_dict(opened_ui, orient = \"index\", columns = [\"times\"]).sort_values(by = \"times\", ascending = False);  \n",
    "    \n",
    "    top_n = min(10, len(pd_most_accessed));\n",
    "    for i, v in pd_most_accessed.iloc[:top_n].iterrows():\n",
    "        if i not in total_most_accessed_ui:\n",
    "            total_most_accessed_ui[i] = 0;\n",
    "        total_most_accessed_ui[i] += 1;\n",
    "parsed_data[\"ops\"].apply(lambda x: calc_most_opened_ui(x));\n",
    "\n",
    "pd_total_most_accessed = pd.DataFrame.from_dict(total_most_accessed_ui, orient = \"index\", columns = [\"times\"]).sort_values(by = \"times\", ascending = False);  \n",
    "\n"
   ]
  },
  {
   "cell_type": "code",
   "execution_count": 85,
   "metadata": {},
   "outputs": [
    {
     "name": "stdout",
     "output_type": "stream",
     "text": [
      "出征选兵界面                        \t      5421\t84.03%\n",
      "邮件首页                          \t      3591\t55.67%\n",
      "联盟主页                          \t      3165\t49.06%\n",
      "推荐礼包                          \t      3165\t49.06%\n",
      "造兵/造塔                         \t      3099\t48.04%\n",
      "野怪详情                          \t      3043\t47.17%\n",
      "建筑升级                          \t      2654\t41.14%\n",
      "邮件2级列表                        \t      2332\t36.15%\n",
      "聊天                            \t      1686\t26.14%\n",
      "查找地图资源                        \t      1682\t26.07%\n",
      "英雄列表                          \t      1638\t25.39%\n",
      "士兵强化/解锁弹窗                     \t      1607\t24.91%\n",
      "避难所关卡详情                       \t      1515\t23.48%\n",
      "背包                            \t      1387\t21.50%\n",
      "竞技场                           \t      1371\t21.25%\n",
      "查看每日任务奖励/领奖                   \t      1302\t20.18%\n",
      "活动中心                          \t      1159\t17.97%\n",
      "使用建筑加速道具弹窗                    \t      1114\t17.27%\n",
      "联盟宝藏                          \t      1051\t16.29%\n",
      "英雄装备升级                        \t       996\t15.44%\n"
     ]
    }
   ],
   "source": [
    "TOP_N = 20;\n",
    "for index, row in pd_total_most_accessed.iloc[:TOP_N].iterrows():\n",
    "    pct = float(row.times * 100 / len(parsed_data));\n",
    "    print(\"{:<30}\\t{:>10}\\t{:.2f}%\".format(get_ui_desc_by_name(row.name), row.times, pct))"
   ]
  },
  {
   "cell_type": "markdown",
   "metadata": {},
   "source": [
    "### 每天上线后打开的第一个界面:\n"
   ]
  },
  {
   "cell_type": "code",
   "execution_count": null,
   "metadata": {},
   "outputs": [],
   "source": []
  }
 ],
 "metadata": {
  "kernelspec": {
   "display_name": "Python 3",
   "language": "python",
   "name": "python3"
  },
  "language_info": {
   "codemirror_mode": {
    "name": "ipython",
    "version": 3
   },
   "file_extension": ".py",
   "mimetype": "text/x-python",
   "name": "python",
   "nbconvert_exporter": "python",
   "pygments_lexer": "ipython3",
   "version": "3.6.7"
  },
  "toc": {
   "base_numbering": 1,
   "nav_menu": {},
   "number_sections": true,
   "sideBar": true,
   "skip_h1_title": false,
   "title_cell": "Table of Contents",
   "title_sidebar": "Contents",
   "toc_cell": false,
   "toc_position": {},
   "toc_section_display": true,
   "toc_window_display": false
  }
 },
 "nbformat": 4,
 "nbformat_minor": 2
}
