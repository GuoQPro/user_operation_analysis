{
 "cells": [
  {
   "cell_type": "code",
   "execution_count": 29,
   "metadata": {},
   "outputs": [
    {
     "data": {
      "text/html": [
       "<script>jQuery(function() {if (jQuery(\"body.notebook_app\").length == 0) { jQuery(\".input_area\").toggle(); jQuery(\".prompt\").toggle();}});</script>"
      ]
     },
     "metadata": {},
     "output_type": "display_data"
    },
    {
     "data": {
      "text/html": [
       "<button onclick=\"jQuery('.input_area').toggle(); jQuery('.prompt').toggle();\">Toggle code</button>"
      ]
     },
     "metadata": {},
     "output_type": "display_data"
    }
   ],
   "source": [
    "%matplotlib inline\n",
    "import pandas as pd;\n",
    "import numpy as np;\n",
    "import util.py_data_analysis_util.data_analysis as da;\n",
    "import matplotlib.pyplot as plt;\n",
    "import seaborn as sns;\n",
    "sns.set();\n",
    "da.ignore_warnings();\n",
    "da.enable_ipythonnb_code_toggle();"
   ]
  },
  {
   "cell_type": "code",
   "execution_count": 4,
   "metadata": {},
   "outputs": [],
   "source": [
    "dataset = pd.read_csv(\"user_operations_190517.csv\");"
   ]
  },
  {
   "cell_type": "markdown",
   "metadata": {},
   "source": [
    "- 按照玩家**当地时间**一天为一个记录单元\n",
    "- 登录的时候会发送当天之前的本地记录到服务器。所以:\n",
    "    1. 如果玩家流失，最后一天的数据会缺失。\n",
    "    2. 如果玩家第一天流失，会没有这个玩家的记录。\n",
    "- 目前记录了四种类型事件：\n",
    "    1. UI打开事件\n",
    "    2. 尝试IAP\n",
    "    3. IAP成功\n",
    "    4. 购买金砖礼包成功\n",
    "    5. (考虑增加出征成功)\n",
    "\n",
    "- "
   ]
  },
  {
   "cell_type": "code",
   "execution_count": 5,
   "metadata": {},
   "outputs": [],
   "source": [
    "NEW_LINE = \"\\r\\n\""
   ]
  },
  {
   "cell_type": "code",
   "execution_count": 6,
   "metadata": {},
   "outputs": [],
   "source": [
    "import datetime;\n",
    "def convert_datestring_to_day_num(datestring):\n",
    "    BASE_Y = 19; #2019\n",
    "    sec = datestring.split(\"/\")\n",
    "    y = int(sec[2])\n",
    "    m = int(sec[0])\n",
    "    d = int(sec[1])\n",
    "    date = datetime.datetime(y, m, d);\n",
    "    day_num = int(date.strftime(\"%j\"));\n",
    "    day_num += ((y - BASE_Y) * 365);\n",
    "    return day_num;"
   ]
  },
  {
   "cell_type": "code",
   "execution_count": 34,
   "metadata": {},
   "outputs": [],
   "source": [
    "## predefined operation types\n",
    "OP_TYPE_OPEN_UI = 1 \n",
    "OP_TYPE_IAP_SUCC = 2\n",
    "OP_TYPE_IAP_ATTEMPT = 3\n",
    "OP_TYPE_BUY_COIN_ITEM = 4\n",
    "\n",
    "IGNORE_LIST = {\n",
    "    \"FlashGameTopMenu_t#get_items.pop\",\n",
    "    \"FlashGuide_t#btn_blank\",\n",
    "    \"FlashGameTopMenu_t#pop_text_small\",\n",
    "    \"FlashGameTopMenu_t#get_items_small\",\n",
    "    \"FlashGameItemBagPop#this\",\n",
    "    \"FlashGameTopMenu_t#you_got_prize\",\n",
    "    \"FlashGameTopMenu_t#pay\",\n",
    "    \"FlashGuide_t#fade_in\",\n",
    "    \"FlashGuide_t#fade_out\",\n",
    "    \"FlashPappasPop_t#animation_victory\",\n",
    "    \"FlashGuide_t#guide_tap_hint\",\n",
    "};\n",
    "\n",
    "UI_DESCRIPTION = {\n",
    "    \"FlashShopMain_t#shop_all\":\"商店主页\",\n",
    "    \"FlashMarchPreparation_t#march_reinforce\":\"出征选兵界面\",\n",
    "    \"FlashMarchPreparationPop_t#choose_hero\":\"出征界面选择英雄弹窗\",\n",
    "    \"FlashRecommendedPackage_t#recommended_package\":\"推荐礼包\",\n",
    "    \"FlashGameUIHero#hero_main\":\"英雄列表\",\n",
    "    \"FlashGameMail_t#interface_mails\":\"邮件首页\",\n",
    "    \"FlashChattingMenu_t#chat\":\"聊天\",\n",
    "    \"FlashGameMail_t#menu_2\":\"邮件2级列表\",\n",
    "    \"FlashBuildingUpgrade_t#buildings_upgrade\":\"建筑升级\",\n",
    "    \"FlashBuildingBarrack_t#barracks_train\":\"造兵/造塔\",\n",
    "    \"FlashGameLeagueMain_t#league_main\":\"联盟主页\",\n",
    "    \"FlashGameItemBag#items\":\"背包\",\n",
    "    \"FlashGameUIHero#hero_details\":\"英雄详情\",\n",
    "    \"FlashGameTopMenu_t#not_enough_resources\":\"资源不足弹窗\",\n",
    "    \"FlashWildPop_t#monster_info\":\"野怪详情\",\n",
    "    \"FlashBuildingMenu_t#black_market\":\"黑市\",\n",
    "    \"FlashGameUIEventCenterMenu_t#event_center\":\"活动中心\",\n",
    "    \"FlashFirstRechargeMenu_t#first_recharge\":\"首冲\",\n",
    "    \"FlashFirstRechargeMenu_t#new_server_celebrate\":\"开服7天乐\",\n",
    "    \"FlashBuildingPop_t#speed_up_building\":\"使用建筑加速道具弹窗\",\n",
    "    \"FlashBuildingMenu_t#hospital_cure\":\"医院治疗\",\n",
    "    \"FlashGameUILeagueTreasure#alliance_treasures\":\"联盟宝藏\",\n",
    "    \"FlashGameUIHeroPop#upgrade_equipment\":\"英雄装备升级\",\n",
    "    \"FlashGameLadder_t#arena_work\":\"竞技场\",\n",
    "    \"FlashQuestMenu_t#quest_all\":\"任务\",\n",
    "    \"FlashGameUnitEvolvementPop_t#pop_uprage\":\"士兵强化/解锁弹窗\",\n",
    "    \"FlashFortress_t#entrance\":\"要塞主页\",\n",
    "    \"FlashGameGetResource_t#this\":\"资源购买列表\",\n",
    "    \"FlashGameTopMenu_t#refill_energy\":\"购买体力弹窗\",\n",
    "    \"FlashWildPop_t#wreckage\":\"废墟\",\n",
    "    \"FlashScienceResearch_t#sciences\":\"个人科技主页\",\n",
    "    \"FlashScienceResearch_t#millitary_sciences\":\"个人科技:军事\",\n",
    "    \"FlashScienceResearch_t#development_sciences\":\"个人科技:发展\",\n",
    "    \"FlashScienceResearch_t#logistics_sciences\":\"个人科技:后勤\",\n",
    "    \"FlashScienceResearchPop_t#sciences_research\":\"个人科技详情弹窗\",\n",
    "    \"FlashGameInterfacePop_t#city_buff\":\"BUFF界面\",\n",
    "    \"FlashGameMailDetail_t#system_mails2\":\"系统邮件详情\",\n",
    "    \"FlashGameMailDetail_t#monster_hunting\":\"PVE战报\",\n",
    "    \"FlashGameUILeagueGift#league_gift\":\"联盟礼物\",\n",
    "    \"FlashGameUILeagueTechnology#alliance_sciences\":\"联盟科技\",\n",
    "    \"FlashGameMailDetail_t#pvp_report\":\"PVP战报\",\n",
    "    \"FlashBuildingMenu_t#exchange_res\":\"资源补给站\",\n",
    "    \"FlashGameUIHeroPop#evolve\":\"英雄进化\",\n",
    "    \"FlashGameUIHeroPop#star_up\":\"英雄升星\",\n",
    "    \"FlashBuildingMenu_t#quiz\":\"小测验\",\n",
    "    \"FlashGuide_t#guide_dialog\":\"引导对话\",\n",
    "    \"FlashLeagueBattle_t#alliance_battle\":\"联盟战争\",\n",
    "    \"FlashGameInterfacePop_t#attack_warnings\":\"攻击预警\",\n",
    "    \"FlashGameUIHeroPop#add_exp\":\"经验药水\",\n",
    "    \"FlashGameMailDetail_t#personal_information\":\"私聊\",\n",
    "    \"FlashGameUILeagueShop#league_store\":\"联盟商店\",\n",
    "    \"FlashLottery#lucky_card\":\"抽卡\",\n",
    "    \"FlashBuildingMenu_t#army_overview\":\"兵力一览\",\n",
    "    \"FlashLordPop_t#setting_langueage\":\"游戏语言设置\",\n",
    "    \"FlashLordInfo_t#settings_main\":\"设置\",\n",
    "    \"FlashGameMailDetail_t#scouting_report\":\"侦察报告\",\n",
    "    \"FlashGameSoulSkill#soul_skills\":\"魂技\",\n",
    "    \"FlashGameTopMenu_t#exchange_gems\":\"金砖换宝石\",\n",
    "    \"FlashBattleReplay_t#this\":\"战斗录像\",\n",
    "    \"FlashGameLeagueManagement_t#league_management\":\"联盟管理\",\n",
    "    \"FlashLeagueMember_t#league_members\":\"联盟成员\",\n",
    "    \"FlashGameInterfacePop_t#off_line_report\":\"离线报告\",\n",
    "    \"FlashGameUnitEvolvement_t#unit_evolvement\":\"士兵强化首页\",\n",
    "    \"FlashShopPop_t#subscription_gold_bricks\":\"订阅：金砖\",\n",
    "    \"FlashShopPop_t#subscription_daily_pack\":\"订阅：每日礼包\",\n",
    "    \"FlashWelfare_t#welfare_all\":\"福利(签到/投资)\",\n",
    "    \"FlashBuildingMenu_t#city_overview\":\"城市信息总览\",\n",
    "    \"FlashLordInfo_t#alliance_monarch\":\"玩家个人信息\",\n",
    "    \"FlashGameTopMenu_t#speed_up_marching\":\"使用加速道具/buff详情\",\n",
    "    \"FlashGameTopMenu_t#pop_find\":\"材料获取途径弹窗\",\n",
    "    \"FlashQuestMenu_t#story_line\":\"剧情界面\",\n",
    "    \"FlashLeaguePop_t#donate\":\"联盟科技捐献弹窗\",\n",
    "    \"FlashLordInfo_t#interface_kings_information\":\"非同盟玩家信息\",\n",
    "    \"FlashLordInfo_t#interface_kings_information2\":\"同盟玩家信息\",\n",
    "    \"FlashGameUIRank#might_information\":\"排行榜主页面\",\n",
    "    \"FlashGameUIRankDetail#alliance_might_rank\":\"排行榜详情\",\n",
    "    \"FlashGameUIHeroPop#hero_stats\":\"英雄状态弹窗\",\n",
    "    \"FlashGameUIEvilCave#gve_evil_cave\":\"联盟探险首页\",\n",
    "    \"FlashGameUIEvilCave#gve\":\"联盟探险准备/战斗中\",\n",
    "    \"FlashGameUIEvilCave#gve_choose_level\":\"联盟探险选关\",\n",
    "    \"FlashGameUIEvilCavePop#gve_clearing\":\"联盟探险结果\",\n",
    "    \"FlashLordPop_t#interface_change_avatar2\":\"更改头像/头像框\",\n",
    "    \"FlashLeaguePop_t#interface_alliance\":\"联盟信息弹窗\",\n",
    "    \"FlashGameInterfacePop_t#discovery_details\":\"基地车详情\",\n",
    "    \"FlashGameInterfacePop_t#discovery_equipment_details\":\"基地车零件升级\",\n",
    "    \"FlashGameLadderPop_t#rank_board\":\"竞技场排名\",\n",
    "    \"FlashLeaguePop_t#pop_reward\":\"查看每日任务奖励/领奖\",\n",
    "    \"FlashGameTopMenu_t#pack_content\":\"查看礼包内物品信息\",\n",
    "    \"FlashPappas_t#demon_portal\":\"避难所首页\",\n",
    "    \"FlashPappasPop_t#enemy_details\":\"避难所关卡详情\",\n",
    "    \"FlashBuildingMenu_t#appoint\":\"英雄任命\",\n",
    "    \"FlashGameUIHeroPop#skill_details\":\"技能详情\",\n",
    "    \"FlashWildPop_t#pop_container\":\"能源箱信息\",\n",
    "    \"FlashLottery#lottery\":\"大乐透\",\n",
    "    \"FlashWildPop_t#find_resources\":\"查找地图资源\",\n",
    "}\n",
    "\n",
    "CHEST_ITEMS = [18501,18502,18503,18504,18505,18506,18507,18508,18509,18510,18511,18512,18520,\n",
    "               18521,18522,18523,18524,18525,18526,18527,18528,18529,18530,18531,18532,18533,\n",
    "               18534,18535,18536,18537,18538,18539,18540,18541,18542,18543,18544,18545,18546,\n",
    "               18547,18548,18549,18550,18551,18552,18553,18554,18555,18556,18557,18558,18701,\n",
    "               18702,18703,18704,18705,18706,18707,18708,18709,18710,18711,18712,18713,18714,\n",
    "               18715,18716,18717,18718,18719,18720,18721,18722,18723,18724,18725,18726,18727,\n",
    "               18728,18729,18730,18731,18732,18733,18734,18735,18736,18737,18738,18739,18740,\n",
    "               18741,18742,18743,18744,18745,18746,18747,18748,18749,18750,18751,18752,18753,\n",
    "               18754,18755,18756,18757,18758,18759,18760,18761,18762,18763,18764,18765,18766,\n",
    "               18767,18768,18769,18770,18771,18772,18773,18774,18775,18776,18777,18778,18779,\n",
    "               18780,18781,18782,18783,18784,18785,18786,18787,18788,18789,18790,18791,18792,\n",
    "               18793,18794,18795,18796,18797,18798,18799,18800,18801,18802,18803,18804,18805,\n",
    "               18806,18807,18808,18809,18810,18811,18812,18813,18814,18815,18816,18817,18818,\n",
    "               18819,18820,18821,18822,18823,18824,18825,18826,18827,18828,18829,18830,18831,\n",
    "               18832,18833,18834,18835,18836,18837,18838,18839,18840,18841,18842,18843,18844,\n",
    "               18845,18846,18847,18848,18849,18850,18851,18852,18853,18854,18855,18856,18857,\n",
    "               18858,18859,18860,18861,18862,18863,18864,18865,18866,18867,18868,18869,18870,\n",
    "               18871,18872,18873,18874,18875,18876,18877,18878,18879,18880,18881,18882,18883,\n",
    "               18884,18885,18886,18887,18888,18889,18890,18891,18892,18893];\n",
    "\n",
    "def is_ignored_ui(ui_name):\n",
    "    return ui_name in IGNORE_LIST;\n",
    "\n",
    "def get_ui_desc_by_name(ui_name):\n",
    "    if ui_name in UI_DESCRIPTION:\n",
    "        return UI_DESCRIPTION[ui_name];\n",
    "    else:\n",
    "        return ui_name;\n",
    "    \n",
    "def is_chest_item(item_id):\n",
    "    chest_id = int(item_id);\n",
    "    return chest_id in CHEST_ITEMS;b\n",
    "\n"
   ]
  },
  {
   "cell_type": "code",
   "execution_count": 8,
   "metadata": {},
   "outputs": [],
   "source": [
    "def generate_ui_table(ui_table_array):\n",
    "    match_table = {}\n",
    "    for i in ui_table_array:\n",
    "        args = i.split(\":\")\n",
    "        match_table[args[0].strip()] = int(args[1])\n",
    "        \n",
    "    return match_table;\n",
    "\n",
    "def get_ui_name_by_id(ui_table, id):\n",
    "    for k, v in ui_table.items():\n",
    "        if v == id:\n",
    "            return k\n",
    "\n",
    "def parse_record(record):\n",
    "    SEQUENCE_PREFIX = \"op_seq: \";\n",
    "    UI_TABLE_PREFIX = (\"ui:\" + NEW_LINE);\n",
    "    TOTAL_SPENT_PREFIX = \"spent: \";\n",
    "    DATE_PREFIX = \"date: \";\n",
    "    USERID_PREFIX = \"user_id: \";\n",
    "    LANG_PREFIX = \"device_lang: \";\n",
    "    \n",
    "    op_seq_start = record.find(SEQUENCE_PREFIX);\n",
    "    \n",
    "    if op_seq_start == -1:\n",
    "        return\n",
    "    \n",
    "    lang_start = record.find(LANG_PREFIX);\n",
    "    dev_lang = \"unknown\";\n",
    "    if lang_start != -1:\n",
    "        lang_start += len(LANG_PREFIX);\n",
    "        dev_lang = record[lang_start:op_seq_start].strip(NEW_LINE);\n",
    "        \n",
    "    op_seq_start += len(SEQUENCE_PREFIX)\n",
    "    ui_table_start = record.find(UI_TABLE_PREFIX)\n",
    "    \n",
    "    if ui_table_start == -1:\n",
    "        return\n",
    "    \n",
    "    spent_start = record.find(TOTAL_SPENT_PREFIX)\n",
    "    date_start = record.find(DATE_PREFIX)\n",
    "    userid_start = record.find(USERID_PREFIX)\n",
    "    \n",
    "    if spent_start == -1:\n",
    "        return\n",
    "    \n",
    "    if date_start == -1:\n",
    "        return\n",
    "    \n",
    "    if userid_start == -1:\n",
    "        return\n",
    "    \n",
    "    op_seq_array = record[op_seq_start:ui_table_start].strip(NEW_LINE)[:-1].split(\"#\")\n",
    "    ui_table_start += len(UI_TABLE_PREFIX)\n",
    "    ui_table_array = record[ui_table_start:spent_start].splitlines()\n",
    "    total_spent = float(record[spent_start:date_start].strip(NEW_LINE).split(\":\")[1])\n",
    "    date = record[date_start:userid_start].strip(NEW_LINE).split(\":\")[1]\n",
    "    user_id = record[userid_start:-1].strip(NEW_LINE).split(\":\")[1].strip()\n",
    "    \n",
    "    ui_table = generate_ui_table(ui_table_array)\n",
    "    \n",
    "    new_op_array = []\n",
    "    \n",
    "    ui_num = 0;\n",
    "    has_iap_attempt = False;\n",
    "    has_gold_brick_consumption = False;\n",
    "    for i in op_seq_array:\n",
    "        op_args = i.split(\":\")\n",
    "        op_type = int(op_args[0])\n",
    "        if op_type == OP_TYPE_OPEN_UI:\n",
    "            ui_id = int(op_args[1])\n",
    "            ui_name = get_ui_name_by_id(ui_table, ui_id)\n",
    "            if not is_ignored_ui(ui_name):\n",
    "                new_op_array.append(str(OP_TYPE_OPEN_UI) + \":\" + ui_name);\n",
    "                ui_num += 1;\n",
    "        elif op_type == OP_TYPE_IAP_ATTEMPT:\n",
    "            new_op_array.append(i);\n",
    "            has_iap_attempt = True;\n",
    "        elif op_type == OP_TYPE_BUY_COIN_ITEM:\n",
    "            new_op_array.append(i);\n",
    "            has_gold_brick_consumption = True;\n",
    "        else:\n",
    "            new_op_array.append(i);\n",
    "    \n",
    "    \n",
    "    return pd.DataFrame(data = {\n",
    "        \"user_id\":[user_id],\n",
    "        \"date\":[date],\n",
    "        \"day_index\":[convert_datestring_to_day_num(date)],\n",
    "        \"spent\":[total_spent], \n",
    "        \"ops\":[new_op_array],\n",
    "        \"ui_num\":[ui_num],\n",
    "        \"dev_lang\":[dev_lang],\n",
    "        \"has_iap_attempt\":[has_iap_attempt],\n",
    "        \"has_gold_brick_consumption\":[has_gold_brick_consumption],\n",
    "    });\n",
    "  "
   ]
  },
  {
   "cell_type": "code",
   "execution_count": 9,
   "metadata": {},
   "outputs": [],
   "source": [
    "parsed_data = pd.DataFrame(data = {\n",
    "    \"user_id\":[],\n",
    "    \"date\":[], \n",
    "    \"spent\":[], \n",
    "    \"ops\":[]\n",
    "});\n",
    "\n",
    "def parse_origin_data(content):\n",
    "    global parsed_data;\n",
    "    parsed_data = parsed_data.append(parse_record(content), ignore_index = True);\n",
    "\n",
    "dataset[\"content\"].apply(lambda x: parse_origin_data(x));"
   ]
  },
  {
   "cell_type": "markdown",
   "metadata": {},
   "source": [
    "--- "
   ]
  },
  {
   "cell_type": "markdown",
   "metadata": {},
   "source": [
    "### UI打开次数分布(人/天)"
   ]
  },
  {
   "cell_type": "code",
   "execution_count": 10,
   "metadata": {},
   "outputs": [
    {
     "data": {
      "image/png": "[encoded data removed]",
      "text/plain": [
       "<Figure size 1080x360 with 1 Axes>"
      ]
     },
     "metadata": {},
     "output_type": "display_data"
    }
   ],
   "source": [
    "plt.figure(figsize = (15, 5));\n",
    "ax = sns.distplot(parsed_data[\"ui_num\"], kde = False, bins = 150);\n",
    "ax.set(ylabel = \"record number\", xlabel = \"ui open times\");"
   ]
  },
  {
   "cell_type": "code",
   "execution_count": 11,
   "metadata": {},
   "outputs": [
    {
     "data": {
      "text/plain": [
       "3852.0"
      ]
     },
     "execution_count": 11,
     "metadata": {},
     "output_type": "execute_result"
    }
   ],
   "source": [
    "parsed_data[\"ui_num\"].describe()[\"max\"]"
   ]
  },
  {
   "cell_type": "markdown",
   "metadata": {},
   "source": [
    "访问次数最多的界面"
   ]
  },
  {
   "cell_type": "code",
   "execution_count": 12,
   "metadata": {},
   "outputs": [],
   "source": [
    "ui_access_times = {}\n",
    "\n",
    "def count_ui_access_times(ops):\n",
    "    global ui_access_times;\n",
    "    for i in ops:\n",
    "        args = i.split(\":\");\n",
    "        op_type = int(args[0]);\n",
    "        if op_type == OP_TYPE_OPEN_UI:\n",
    "            if args[1] not in ui_access_times:\n",
    "                ui_access_times[args[1]] = 0;\n",
    "            ui_access_times[args[1]] += 1;\n",
    "            \n",
    "parsed_data[\"ops\"].apply(lambda x: count_ui_access_times(x));\n",
    "\n",
    "df_ui_access_times = pd.DataFrame.from_dict(ui_access_times, orient='index', columns = [\"times\"]).sort_values(by = \"times\", ascending = False);"
   ]
  },
  {
   "cell_type": "code",
   "execution_count": 13,
   "metadata": {},
   "outputs": [
    {
     "name": "stdout",
     "output_type": "stream",
     "text": [
      "出征选兵界面                        \t    239897\n",
      "野怪详情                          \t     95501\n",
      "建筑升级                          \t     86208\n",
      "邮件首页                          \t     80694\n",
      "聊天                            \t     73343\n",
      "造兵/造塔                         \t     72848\n",
      "联盟主页                          \t     68899\n",
      "推荐礼包                          \t     63127\n",
      "士兵强化/解锁弹窗                     \t     57481\n",
      "邮件2级列表                        \t     56667\n",
      "查找地图资源                        \t     51700\n",
      "避难所关卡详情                       \t     51234\n",
      "英雄列表                          \t     49573\n",
      "剧情界面                          \t     49141\n",
      "背包                            \t     43288\n",
      "使用建筑加速道具弹窗                    \t     42108\n",
      "引导对话                          \t     41483\n",
      "竞技场                           \t     36962\n",
      "英雄装备升级                        \t     36959\n",
      "活动中心                          \t     36901\n"
     ]
    }
   ],
   "source": [
    "TOP_N = 20;\n",
    "for index, row in df_ui_access_times.iloc[:TOP_N].iterrows():\n",
    "    print(\"{:<30}\\t{:>10}\".format(get_ui_desc_by_name(row.name), row.times))"
   ]
  },
  {
   "cell_type": "markdown",
   "metadata": {},
   "source": [
    "### TODO: 选兵界面的类型\n",
    "- 野怪\n",
    "- 竞技场\n",
    "- 避难所\n",
    "- 联盟探险\n",
    "- other(采集/pvp)"
   ]
  },
  {
   "cell_type": "code",
   "execution_count": 14,
   "metadata": {},
   "outputs": [],
   "source": [
    "# let's take care of \"FlashMarchPreparation_t#march_reinforce\"\n",
    "pre_ui_marching_preparation = {}\n",
    "def traverse_marching_preparation(ops):\n",
    "    pre_ui = None;\n",
    "    for i in ops:\n",
    "        args = i.split(\":\");\n",
    "        op_type = int(args[0])\n",
    "        if op_type == OP_TYPE_OPEN_UI:\n",
    "            if args[1] == \"FlashMarchPreparation_t#march_reinforce\":\n",
    "                if pre_ui is not None:\n",
    "                    if pre_ui not in pre_ui_marching_preparation:\n",
    "                        pre_ui_marching_preparation[pre_ui] = 0;\n",
    "                    pre_ui_marching_preparation[pre_ui] += 1;\n",
    "            else:\n",
    "                pre_ui = args[1];\n",
    "\n",
    "parsed_data[\"ops\"].apply(lambda x: traverse_marching_preparation(x));\n",
    "\n",
    "monster_attack_times = pre_ui_marching_preparation[\"FlashWildPop_t#monster_info\"];\n",
    "wreckage_mining_times = pre_ui_marching_preparation[\"FlashWildPop_t#wreckage\"];\n",
    "gve_times = pre_ui_marching_preparation[\"FlashGameUIEvilCave#gve\"] + pre_ui_marching_preparation[\"FlashGameUIEvilCave#gve_evil_cave\"];\n",
    "vault_times = pre_ui_marching_preparation[\"FlashPappasPop_t#enemy_details\"];\n",
    "arena_times = pre_ui_marching_preparation[\"FlashGameLadder_t#arena_work\"] + pre_ui_marching_preparation[\"FlashGameLadderPop_t#daily_chanllenges\"];\n"
   ]
  },
  {
   "cell_type": "code",
   "execution_count": 15,
   "metadata": {},
   "outputs": [
    {
     "name": "stdout",
     "output_type": "stream",
     "text": [
      "57.11292561003544\n",
      "5.723082312677688\n",
      "7.166147917593005\n",
      "30.563752240052818\n",
      "9.32603042429632\n"
     ]
    }
   ],
   "source": [
    "print(monster_attack_times / 148434 * 100);\n",
    "print(wreckage_mining_times / 148434 * 100);\n",
    "print(gve_times / 148434 * 100);\n",
    "print(vault_times / 148434 * 100);\n",
    "print(arena_times / 148434 * 100);"
   ]
  },
  {
   "cell_type": "code",
   "execution_count": 16,
   "metadata": {},
   "outputs": [
    {
     "name": "stdout",
     "output_type": "stream",
     "text": [
      "推荐礼包界面总出现次数为: 63127\n"
     ]
    }
   ],
   "source": [
    "promotion_ui_times = df_ui_access_times.loc[\"FlashRecommendedPackage_t#recommended_package\"].times;\n",
    "print(\"推荐礼包界面总出现次数为: {}\".format(promotion_ui_times));"
   ]
  },
  {
   "cell_type": "code",
   "execution_count": 17,
   "metadata": {},
   "outputs": [],
   "source": [
    "ui_access_times = {};\n",
    "parsed_data.loc[parsed_data[\"ui_num\"] > 3800, \"ops\"].apply(lambda x: count_ui_access_times(x));"
   ]
  },
  {
   "cell_type": "code",
   "execution_count": 18,
   "metadata": {},
   "outputs": [],
   "source": [
    "prev_ui_list = {}\n",
    "def buy_item_from_promotion(ops):\n",
    "    pre_ui = None;\n",
    "    global prev_ui_list;\n",
    "    for i in ops:\n",
    "        args = i.split(\":\");\n",
    "        op_type = int(args[0])\n",
    "        if op_type == OP_TYPE_BUY_COIN_ITEM:\n",
    "            item_id = int(args[1])\n",
    "            if is_chest_item(item_id) and pre_ui is not None:  \n",
    "                if pre_ui not in prev_ui_list:\n",
    "                    prev_ui_list[pre_ui] = 0\n",
    "                prev_ui_list[pre_ui] += 1;\n",
    "        elif op_type == OP_TYPE_OPEN_UI:\n",
    "            pre_ui = args[1];\n",
    "    \n",
    "    return False;\n",
    "\n",
    "parsed_data[\"ops\"].apply(lambda x: buy_item_from_promotion(x));\n",
    "\n",
    "pd_buy_chest = pd.DataFrame.from_dict(prev_ui_list, orient = \"index\", columns = [\"times\"]).sort_values(by = \"times\", ascending = False);"
   ]
  },
  {
   "cell_type": "code",
   "execution_count": 19,
   "metadata": {},
   "outputs": [
    {
     "name": "stdout",
     "output_type": "stream",
     "text": [
      "从推荐窗口卖出的宝箱占总卖出宝箱的 22.206%\n",
      "从推荐窗口卖出的宝箱占总弹出次数的 0.242%\n"
     ]
    }
   ],
   "source": [
    "buy_chest_from_promotion = pd_buy_chest[\"times\"].loc[\"FlashRecommendedPackage_t#recommended_package\"];\n",
    "buy_chest_total = pd_buy_chest[\"times\"].sum();\n",
    "\n",
    "print(\"从推荐窗口卖出的宝箱占总卖出宝箱的 {:.3f}%\".format(buy_chest_from_promotion * 100 / buy_chest_total));\n",
    "print(\"从推荐窗口卖出的宝箱占总弹出次数的 {:.3f}%\".format(buy_chest_from_promotion * 100 / promotion_ui_times));\n"
   ]
  },
  {
   "cell_type": "code",
   "execution_count": 20,
   "metadata": {},
   "outputs": [
    {
     "data": {
      "image/png": "[encoded data removed]",
      "text/plain": [
       "<Figure size 432x288 with 2 Axes>"
      ]
     },
     "metadata": {},
     "output_type": "display_data"
    }
   ],
   "source": [
    "plt.subplot(2, 1, 1)\n",
    "plt.pie([buy_chest_from_promotion, buy_chest_total], labels = [\"From Promotion\", \"Total\"], autopct = \"%.3f%%\");\n",
    "plt.subplot(2, 1, 2)\n",
    "plt.pie([buy_chest_from_promotion, promotion_ui_times], labels = [\"From Promotion\", \"Total\"], autopct = \"%.3f%%\");"
   ]
  },
  {
   "cell_type": "code",
   "execution_count": 21,
   "metadata": {},
   "outputs": [
    {
     "data": {
      "text/html": [
       "<div>\n",
       "<style scoped>\n",
       "    .dataframe tbody tr th:only-of-type {\n",
       "        vertical-align: middle;\n",
       "    }\n",
       "\n",
       "    .dataframe tbody tr th {\n",
       "        vertical-align: top;\n",
       "    }\n",
       "\n",
       "    .dataframe thead th {\n",
       "        text-align: right;\n",
       "    }\n",
       "</style>\n",
       "<table border=\"1\" class=\"dataframe\">\n",
       "  <thead>\n",
       "    <tr style=\"text-align: right;\">\n",
       "      <th></th>\n",
       "      <th>times</th>\n",
       "    </tr>\n",
       "  </thead>\n",
       "  <tbody>\n",
       "    <tr>\n",
       "      <th>FlashShopMain_t#shop_all</th>\n",
       "      <td>447</td>\n",
       "    </tr>\n",
       "    <tr>\n",
       "      <th>FlashRecommendedPackage_t#recommended_package</th>\n",
       "      <td>153</td>\n",
       "    </tr>\n",
       "    <tr>\n",
       "      <th>FlashGameTopMenu_t#pack_content</th>\n",
       "      <td>54</td>\n",
       "    </tr>\n",
       "    <tr>\n",
       "      <th>FlashShopPop_t#subscription_gold_bricks</th>\n",
       "      <td>15</td>\n",
       "    </tr>\n",
       "    <tr>\n",
       "      <th>FlashShopPop_t#subscription_daily_pack</th>\n",
       "      <td>12</td>\n",
       "    </tr>\n",
       "    <tr>\n",
       "      <th>FlashBuildingMenu_t#black_market</th>\n",
       "      <td>5</td>\n",
       "    </tr>\n",
       "    <tr>\n",
       "      <th>FlashGameTopMenu_t#exchange_gems</th>\n",
       "      <td>3</td>\n",
       "    </tr>\n",
       "  </tbody>\n",
       "</table>\n",
       "</div>"
      ],
      "text/plain": [
       "                                               times\n",
       "FlashShopMain_t#shop_all                         447\n",
       "FlashRecommendedPackage_t#recommended_package    153\n",
       "FlashGameTopMenu_t#pack_content                   54\n",
       "FlashShopPop_t#subscription_gold_bricks           15\n",
       "FlashShopPop_t#subscription_daily_pack            12\n",
       "FlashBuildingMenu_t#black_market                   5\n",
       "FlashGameTopMenu_t#exchange_gems                   3"
      ]
     },
     "execution_count": 21,
     "metadata": {},
     "output_type": "execute_result"
    }
   ],
   "source": [
    "pd_buy_chest"
   ]
  },
  {
   "cell_type": "markdown",
   "metadata": {},
   "source": [
    "### 出现在玩家每天常用窗口(top10)中次数最多的"
   ]
  },
  {
   "cell_type": "code",
   "execution_count": 22,
   "metadata": {},
   "outputs": [],
   "source": [
    "total_most_accessed_ui = {}\n",
    "def calc_most_opened_ui(ops):\n",
    "    global total_most_accessed_ui;\n",
    "    opened_ui = {}\n",
    "    for i in ops:\n",
    "        args = i.split(\":\")\n",
    "        op_type = int(args[0])\n",
    "        if op_type == OP_TYPE_OPEN_UI:\n",
    "            ui_name = args[1];\n",
    "            if ui_name not in opened_ui:\n",
    "                opened_ui[ui_name] = 0;\n",
    "                \n",
    "            opened_ui[ui_name] += 1;\n",
    "            \n",
    "    pd_most_accessed = pd.DataFrame.from_dict(opened_ui, orient = \"index\", columns = [\"times\"]).sort_values(by = \"times\", ascending = False);  \n",
    "    \n",
    "    top_n = min(10, len(pd_most_accessed));\n",
    "    for i, v in pd_most_accessed.iloc[:top_n].iterrows():\n",
    "        if i not in total_most_accessed_ui:\n",
    "            total_most_accessed_ui[i] = 0;\n",
    "        total_most_accessed_ui[i] += 1;\n",
    "parsed_data[\"ops\"].apply(lambda x: calc_most_opened_ui(x));\n",
    "\n",
    "pd_total_most_accessed = pd.DataFrame.from_dict(total_most_accessed_ui, orient = \"index\", columns = [\"times\"]).sort_values(by = \"times\", ascending = False);  \n",
    "\n"
   ]
  },
  {
   "cell_type": "code",
   "execution_count": 23,
   "metadata": {},
   "outputs": [
    {
     "name": "stdout",
     "output_type": "stream",
     "text": [
      "出征选兵界面                        \t      6413\t81.59%\n",
      "邮件首页                          \t      4247\t54.03%\n",
      "造兵/造塔                         \t      3784\t48.14%\n",
      "推荐礼包                          \t      3605\t45.87%\n",
      "联盟主页                          \t      3578\t45.52%\n",
      "野怪详情                          \t      3514\t44.71%\n",
      "建筑升级                          \t      3340\t42.49%\n",
      "邮件2级列表                        \t      2818\t35.85%\n",
      "士兵强化/解锁弹窗                     \t      2015\t25.64%\n",
      "英雄列表                          \t      1956\t24.89%\n",
      "聊天                            \t      1924\t24.48%\n",
      "查找地图资源                        \t      1913\t24.34%\n",
      "避难所关卡详情                       \t      1800\t22.90%\n",
      "背包                            \t      1602\t20.38%\n",
      "竞技场                           \t      1570\t19.97%\n",
      "查看每日任务奖励/领奖                   \t      1510\t19.21%\n",
      "活动中心                          \t      1415\t18.00%\n",
      "使用建筑加速道具弹窗                    \t      1410\t17.94%\n",
      "英雄装备升级                        \t      1277\t16.25%\n",
      "剧情界面                          \t      1237\t15.74%\n"
     ]
    }
   ],
   "source": [
    "TOP_N = 20;\n",
    "for index, row in pd_total_most_accessed.iloc[:TOP_N].iterrows():\n",
    "    pct = float(row.times * 100 / len(parsed_data));\n",
    "    print(\"{:<30}\\t{:>10}\\t{:.2f}%\".format(get_ui_desc_by_name(row.name), row.times, pct))"
   ]
  },
  {
   "cell_type": "markdown",
   "metadata": {},
   "source": [
    "### 每天上线后打开的第一个界面:\n"
   ]
  },
  {
   "cell_type": "markdown",
   "metadata": {},
   "source": [
    "### 流失曲线？"
   ]
  },
  {
   "cell_type": "markdown",
   "metadata": {},
   "source": [
    "### 流失用户"
   ]
  },
  {
   "cell_type": "code",
   "execution_count": 24,
   "metadata": {},
   "outputs": [],
   "source": [
    "\n",
    "def is_churn_user(x):\n",
    "    #today = datetime.datetime.now();\n",
    "    #day_num = convert_datestring_to_day_num(today.strftime(\"%d/%m/%y\"));\n",
    "\n",
    "    latest_info_date = \"05/15/20\";\n",
    "    latest_day_num = convert_datestring_to_day_num(latest_info_date);\n",
    "    last_login_day = x[\"max\"];\n",
    "    total_login_day_num = x[\"len\"];\n",
    "        \n",
    "    if last_login_day <= latest_day_num - 2:\n",
    "        return True;\n",
    "    else:\n",
    "        return False;\n"
   ]
  },
  {
   "cell_type": "code",
   "execution_count": 25,
   "metadata": {},
   "outputs": [
    {
     "name": "stdout",
     "output_type": "stream",
     "text": [
      "(1792, 2)\n",
      "(945, 2)\n"
     ]
    }
   ],
   "source": [
    "#group users by user_id\n",
    "pd_user_id_group = parsed_data.groupby([\"user_id\"])[\"day_index\"].agg([len, max]);\n",
    "churn_user_group = pd_user_id_group.loc[pd_user_id_group.apply(lambda x: (is_churn_user(x)), axis = 1)].sort_values(by = \"len\", ascending = False);\n",
    "print(churn_user_group.shape)\n",
    "\n",
    "print(churn_user_group.loc[churn_user_group[\"len\"] > 2].shape)\n",
    "churn_user_id_list = churn_user_group.index;"
   ]
  },
  {
   "cell_type": "code",
   "execution_count": 26,
   "metadata": {},
   "outputs": [
    {
     "name": "stdout",
     "output_type": "stream",
     "text": [
      "[ 81. 244. 713. 481. 374. 510. 178. 967. 750.] 5cae469ec15e00677f674145\n",
      "[166.  56. 124.  31.  16.] 5c646e2c66863bef339f334d\n",
      "[898.] 5cdd7f5d0b1b7b6859a466d6\n",
      "[62.] 5c76f23d0c1b7bf60989752d\n",
      "[30.] 5ccc8a9ec15e00c847e045d4\n",
      "[240. 192.  12. 176.  24.  77. 298.  19.] 5c7187db0c1b7bbd19e64abb\n",
      "[570.] 5cdd7ee40b1b7b6859a4623e\n",
      "[201.] 5cdd60770b1b7b6859a39255\n",
      "[136. 251. 390. 374. 268. 111.  96. 293.] 5ca5589d66863ba868ccb123\n",
      "[46.] 5cd60c6dc15e0005602c5488\n",
      "[ 81. 395. 137. 414. 226. 326. 274. 325. 476.] 5c8effcb0c1b7beb71c8bae7\n",
      "[ 52. 347. 117. 295. 158. 214. 250. 178. 214.] 5c89330466863b9e358d1f17\n",
      "[240. 192.  12. 176.  24.  77. 298.  19.] 5c7187db0c1b7bbd19e64abb\n",
      "[442. 508. 971. 380. 390. 322. 362. 259.] 5caf6e27c15e00a6411bf697\n",
      "[ 45. 254. 294.  98. 198. 135. 113. 223. 169.] 5c757b530c1b7bf6097e500e\n",
      "[ 68. 168.] 5cdb464ac15e0005603f689a\n",
      "[2.] 5cdda8e10b1b7b6859a6b52a\n",
      "[79.] 5cdb6bfec15e000560400872\n",
      "[250.] 5cddcbd30b1b7b6859a8c3d5\n",
      "[164.] 5c4a822f66863b4e7779910e\n",
      "[26.] 5cc45472c15e00d673cd0431\n",
      "[ 58. 168.  81. 266. 209. 283. 124. 247.] 5c5afd1d0c1b7bd830e0446d\n",
      "[182. 517. 316.] 5cd9c720c15e0005603a87e3\n",
      "[23.] 5c5e2e9f0c1b7bd8300373fe\n",
      "[ 58. 213. 151. 239. 201. 188. 268. 202. 251.] 5c8cf04666863b9e35d5a111\n",
      "[770.] 5cdd90710b1b7b6859a54879\n",
      "[586.  55. 174. 107.] 5c4aafa766863b4e777c0704\n",
      "[203.  73.  26. 189. 159. 372. 157. 197.] 5c7fb35566863ba7681ce2c5\n",
      "[130. 257. 202. 407. 215. 235. 102. 184. 234.] 5c8b56a266863b9e35b3f9c4\n",
      "[183.  38.  30.  50.  27.] 5cd6c4eec15e0005602f1a22\n",
      "[1.] 5cd7fdebc15e00056034277c\n",
      "[59.] 5cd56e5bc15e0005602a201e\n",
      "[11.] 5ca1283f66863b4371dc47a9\n",
      "[141.] 5cb232a8c15e00a64140f95c\n",
      "[142.  77.  77. 304. 144. 128.  96.] 5c8b9f6566863b9e35baa43a\n",
      "[12.] 5cd81f14c15e00056034abd9\n",
      "[ 57. 226. 192. 145. 262. 247. 172. 297. 214.] 5c6a2ad20c1b7bbd19b15cd1\n",
      "[636. 148. 246.  91.  87. 126.] 5c4ac61f66863b4e777d257a\n",
      "[30. 72. 38. 22. 36. 52. 85. 44.] 5cb742ccc15e00567238328a\n",
      "[  9. 321. 123. 233. 188. 196. 156. 186. 153.] 5cb33561c15e00a641512621\n",
      "[208.  32.] 5c9d768366863bf135e2b667\n",
      "[29. 26.] 5cb074a80c1b7b82188c5797\n",
      "[176. 473. 202. 890. 605. 205. 210. 306. 225.] 5cb0cedec15e00a6412b19f2\n",
      "[25. 38. 35. 18. 32. 71. 56.] 5c4f2e6b66863b4e77c6978f\n",
      "[74. 21. 48. 35. 32. 28. 30.] 5c5aeddb0c1b7b1b11fcc2ee\n",
      "[ 43. 109.] 5cd6745fc15e0005602dcb09\n",
      "[312.] 5cdd7ac30b1b7b6859a43fc6\n",
      "[3.] 5cd79addc15e000560328335\n",
      "[120. 164. 179. 154. 159. 118. 178. 233. 221.] 5c52b06366863b4e77f360eb\n",
      "[106.] 5ccef8f8c15e00c847e8be7c\n"
     ]
    },
    {
     "data": {
      "image/png": "[encoded data removed]",
      "text/plain": [
       "<Figure size 720x360 with 1 Axes>"
      ]
     },
     "metadata": {},
     "output_type": "display_data"
    }
   ],
   "source": [
    "sample_num = 50\n",
    "sample_list = np.random.randint(0, len(churn_user_id_list), sample_num)\n",
    "plt.figure(figsize=(10, 5))\n",
    "for i in sample_list:\n",
    "    user_id = churn_user_id_list[i]\n",
    "    ordered_rec = parsed_data.loc[parsed_data[\"user_id\"]\n",
    "                                  == user_id].sort_values(by=\"day_index\")\n",
    "\n",
    "    data_array = np.array(ordered_rec[\"ui_num\"])\n",
    "    print(data_array, user_id)\n",
    "    sns.lineplot(data=data_array)"
   ]
  },
  {
   "cell_type": "markdown",
   "metadata": {},
   "source": [
    "#### 流失用户最后操作的都是什么呢？"
   ]
  },
  {
   "cell_type": "code",
   "execution_count": 27,
   "metadata": {},
   "outputs": [
    {
     "data": {
      "text/html": [
       "<div>\n",
       "<style scoped>\n",
       "    .dataframe tbody tr th:only-of-type {\n",
       "        vertical-align: middle;\n",
       "    }\n",
       "\n",
       "    .dataframe tbody tr th {\n",
       "        vertical-align: top;\n",
       "    }\n",
       "\n",
       "    .dataframe thead th {\n",
       "        text-align: right;\n",
       "    }\n",
       "</style>\n",
       "<table border=\"1\" class=\"dataframe\">\n",
       "  <thead>\n",
       "    <tr style=\"text-align: right;\">\n",
       "      <th></th>\n",
       "      <th>date</th>\n",
       "      <th>day_index</th>\n",
       "      <th>dev_lang</th>\n",
       "      <th>has_gold_brick_consumption</th>\n",
       "      <th>has_iap_attempt</th>\n",
       "      <th>ops</th>\n",
       "      <th>spent</th>\n",
       "      <th>ui_num</th>\n",
       "      <th>user_id</th>\n",
       "    </tr>\n",
       "  </thead>\n",
       "  <tbody>\n",
       "    <tr>\n",
       "      <th>2595</th>\n",
       "      <td>05/11/19</td>\n",
       "      <td>131.0</td>\n",
       "      <td>unknown</td>\n",
       "      <td>False</td>\n",
       "      <td>False</td>\n",
       "      <td>[1:FlashOpening_t#opening_animaiton, 1:FlashSt...</td>\n",
       "      <td>0.0</td>\n",
       "      <td>1190.0</td>\n",
       "      <td>5cd71a7cc15e000560307e95</td>\n",
       "    </tr>\n",
       "    <tr>\n",
       "      <th>3243</th>\n",
       "      <td>05/12/19</td>\n",
       "      <td>132.0</td>\n",
       "      <td>unknown</td>\n",
       "      <td>False</td>\n",
       "      <td>False</td>\n",
       "      <td>[1:FlashBuildingBarrack_t#barracks_train, 1:Fl...</td>\n",
       "      <td>0.0</td>\n",
       "      <td>2588.0</td>\n",
       "      <td>5cd71a7cc15e000560307e95</td>\n",
       "    </tr>\n",
       "    <tr>\n",
       "      <th>4405</th>\n",
       "      <td>05/13/19</td>\n",
       "      <td>133.0</td>\n",
       "      <td>unknown</td>\n",
       "      <td>False</td>\n",
       "      <td>False</td>\n",
       "      <td>[1:FlashBuildingMenu_t#quiz, 1:FlashBuildingPo...</td>\n",
       "      <td>0.0</td>\n",
       "      <td>239.0</td>\n",
       "      <td>5cd71a7cc15e000560307e95</td>\n",
       "    </tr>\n",
       "    <tr>\n",
       "      <th>5291</th>\n",
       "      <td>05/14/19</td>\n",
       "      <td>134.0</td>\n",
       "      <td>unknown</td>\n",
       "      <td>False</td>\n",
       "      <td>False</td>\n",
       "      <td>[1:FlashFirstRechargeMenu_t#new_server_celebra...</td>\n",
       "      <td>0.0</td>\n",
       "      <td>353.0</td>\n",
       "      <td>5cd71a7cc15e000560307e95</td>\n",
       "    </tr>\n",
       "    <tr>\n",
       "      <th>6228</th>\n",
       "      <td>05/15/19</td>\n",
       "      <td>135.0</td>\n",
       "      <td>unknown</td>\n",
       "      <td>False</td>\n",
       "      <td>False</td>\n",
       "      <td>[1:FlashGameCityLevelup_t#congratulations, 1:F...</td>\n",
       "      <td>0.0</td>\n",
       "      <td>178.0</td>\n",
       "      <td>5cd71a7cc15e000560307e95</td>\n",
       "    </tr>\n",
       "    <tr>\n",
       "      <th>7117</th>\n",
       "      <td>05/16/19</td>\n",
       "      <td>136.0</td>\n",
       "      <td>en</td>\n",
       "      <td>False</td>\n",
       "      <td>False</td>\n",
       "      <td>[1:FlashGameInterfacePop_t#off_line_report, 1:...</td>\n",
       "      <td>0.0</td>\n",
       "      <td>500.0</td>\n",
       "      <td>5cd71a7cc15e000560307e95</td>\n",
       "    </tr>\n",
       "  </tbody>\n",
       "</table>\n",
       "</div>"
      ],
      "text/plain": [
       "           date  day_index dev_lang has_gold_brick_consumption  \\\n",
       "2595   05/11/19      131.0  unknown                      False   \n",
       "3243   05/12/19      132.0  unknown                      False   \n",
       "4405   05/13/19      133.0  unknown                      False   \n",
       "5291   05/14/19      134.0  unknown                      False   \n",
       "6228   05/15/19      135.0  unknown                      False   \n",
       "7117   05/16/19      136.0       en                      False   \n",
       "\n",
       "     has_iap_attempt                                                ops  \\\n",
       "2595           False  [1:FlashOpening_t#opening_animaiton, 1:FlashSt...   \n",
       "3243           False  [1:FlashBuildingBarrack_t#barracks_train, 1:Fl...   \n",
       "4405           False  [1:FlashBuildingMenu_t#quiz, 1:FlashBuildingPo...   \n",
       "5291           False  [1:FlashFirstRechargeMenu_t#new_server_celebra...   \n",
       "6228           False  [1:FlashGameCityLevelup_t#congratulations, 1:F...   \n",
       "7117           False  [1:FlashGameInterfacePop_t#off_line_report, 1:...   \n",
       "\n",
       "      spent  ui_num                   user_id  \n",
       "2595    0.0  1190.0  5cd71a7cc15e000560307e95  \n",
       "3243    0.0  2588.0  5cd71a7cc15e000560307e95  \n",
       "4405    0.0   239.0  5cd71a7cc15e000560307e95  \n",
       "5291    0.0   353.0  5cd71a7cc15e000560307e95  \n",
       "6228    0.0   178.0  5cd71a7cc15e000560307e95  \n",
       "7117    0.0   500.0  5cd71a7cc15e000560307e95  "
      ]
     },
     "execution_count": 27,
     "metadata": {},
     "output_type": "execute_result"
    }
   ],
   "source": [
    "parsed_data.loc[parsed_data[\"user_id\"] == \"5cd71a7cc15e000560307e95\"]"
   ]
  },
  {
   "cell_type": "code",
   "execution_count": 28,
   "metadata": {},
   "outputs": [
    {
     "data": {
      "text/html": [
       "<div>\n",
       "<style scoped>\n",
       "    .dataframe tbody tr th:only-of-type {\n",
       "        vertical-align: middle;\n",
       "    }\n",
       "\n",
       "    .dataframe tbody tr th {\n",
       "        vertical-align: top;\n",
       "    }\n",
       "\n",
       "    .dataframe thead th {\n",
       "        text-align: right;\n",
       "    }\n",
       "</style>\n",
       "<table border=\"1\" class=\"dataframe\">\n",
       "  <thead>\n",
       "    <tr style=\"text-align: right;\">\n",
       "      <th></th>\n",
       "      <th>user_id</th>\n",
       "      <th>len</th>\n",
       "      <th>max</th>\n",
       "    </tr>\n",
       "  </thead>\n",
       "  <tbody>\n",
       "    <tr>\n",
       "      <th>688</th>\n",
       "      <td>5cd71a7cc15e000560307e95</td>\n",
       "      <td>6.0</td>\n",
       "      <td>136.0</td>\n",
       "    </tr>\n",
       "  </tbody>\n",
       "</table>\n",
       "</div>"
      ],
      "text/plain": [
       "                      user_id  len    max\n",
       "688  5cd71a7cc15e000560307e95  6.0  136.0"
      ]
     },
     "execution_count": 28,
     "metadata": {},
     "output_type": "execute_result"
    }
   ],
   "source": [
    "b = churn_user_group.reset_index();\n",
    "b.loc[b[\"user_id\"] == \"5cd71a7cc15e000560307e95\"]"
   ]
  },
  {
   "cell_type": "code",
   "execution_count": null,
   "metadata": {},
   "outputs": [],
   "source": []
  }
 ],
 "metadata": {
  "kernelspec": {
   "display_name": "Python 3",
   "language": "python",
   "name": "python3"
  },
  "language_info": {
   "codemirror_mode": {
    "name": "ipython",
    "version": 3
   },
   "file_extension": ".py",
   "mimetype": "text/x-python",
   "name": "python",
   "nbconvert_exporter": "python",
   "pygments_lexer": "ipython3",
   "version": "3.6.5"
  },
  "toc": {
   "base_numbering": 1,
   "nav_menu": {},
   "number_sections": true,
   "sideBar": true,
   "skip_h1_title": false,
   "title_cell": "Table of Contents",
   "title_sidebar": "Contents",
   "toc_cell": false,
   "toc_position": {},
   "toc_section_display": true,
   "toc_window_display": false
  }
 },
 "nbformat": 4,
 "nbformat_minor": 2
}
