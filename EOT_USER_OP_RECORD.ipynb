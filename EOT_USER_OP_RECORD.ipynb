{
 "cells": [
  {
   "cell_type": "code",
   "execution_count": 5,
   "metadata": {},
   "outputs": [
    {
     "data": {
      "text/html": [
       "<script>jQuery(function() {if (jQuery(\"body.notebook_app\").length == 0) { jQuery(\".input_area\").toggle(); jQuery(\".prompt\").toggle();}});</script>"
      ]
     },
     "metadata": {},
     "output_type": "display_data"
    },
    {
     "data": {
      "text/html": [
       "<button onclick=\"jQuery('.input_area').toggle(); jQuery('.prompt').toggle();\">Toggle code</button>"
      ]
     },
     "metadata": {},
     "output_type": "display_data"
    }
   ],
   "source": [
    "import pandas as pd;\n",
    "import numpy as np;\n",
    "import util.py_data_analysis_util.data_analysis as da;\n",
    "import util.py_data_analysis_util.py_util as pu;\n",
    "import matplotlib.pyplot as plt;\n",
    "import seaborn as sns;\n",
    "sns.set();\n",
    "da.ignore_warnings();\n",
    "da.enable_ipythonnb_code_toggle();"
   ]
  },
  {
   "cell_type": "markdown",
   "metadata": {},
   "source": [
    "## 读取原始数据"
   ]
  },
  {
   "cell_type": "code",
   "execution_count": 6,
   "metadata": {},
   "outputs": [],
   "source": [
    "dataset = pd.read_csv(\"user_operations.csv\");"
   ]
  },
  {
   "cell_type": "code",
   "execution_count": 7,
   "metadata": {},
   "outputs": [],
   "source": [
    "player_data = pd.read_csv(\"players.csv\");"
   ]
  },
  {
   "cell_type": "markdown",
   "metadata": {},
   "source": [
    "## 数据说明\n",
    "- 按照玩家**当地时间**一天为一个记录单元\n",
    "- 每次玩家登录游戏的时，会发送当天之前的记录到服务器。所以:\n",
    "    1. 如果玩家流失，最后一天的数据会缺失。\n",
    "    2. 如果玩家第一天流失，会没有这个玩家的记录。\n",
    "- 目前记录了四种类型事件：\n",
    "    1. UI打开事件\n",
    "    2. 尝试IAP\n",
    "    3. IAP成功\n",
    "    4. 购买金砖礼包成功\n",
    "    5. (考虑增加出征成功)\n",
    "\n",
    "- "
   ]
  },
  {
   "cell_type": "markdown",
   "metadata": {},
   "source": [
    "## 相关配置"
   ]
  },
  {
   "cell_type": "code",
   "execution_count": 8,
   "metadata": {},
   "outputs": [],
   "source": [
    "NEW_LINE = \"\\n\" if pu.is_os_win() else \"\\n\";"
   ]
  },
  {
   "cell_type": "code",
   "execution_count": 9,
   "metadata": {},
   "outputs": [],
   "source": [
    "## predefined operation types\n",
    "OP_TYPE_OPEN_UI = 1 \n",
    "OP_TYPE_IAP_SUCC = 2\n",
    "OP_TYPE_IAP_ATTEMPT = 3\n",
    "OP_TYPE_BUY_COIN_ITEM = 4\n",
    "\n",
    "IGNORE_LIST = {\n",
    "    \"FlashGameTopMenu_t#get_items.pop\",\n",
    "    \"FlashGuide_t#btn_blank\",\n",
    "    \"FlashGameTopMenu_t#pop_text_small\",\n",
    "    \"FlashGameTopMenu_t#get_items_small\",\n",
    "    \"FlashGameItemBagPop#this\",\n",
    "    \"FlashGameTopMenu_t#you_got_prize\",\n",
    "    \"FlashGameTopMenu_t#pay\",\n",
    "    \"FlashGuide_t#fade_in\",\n",
    "    \"FlashGuide_t#fade_out\",\n",
    "    \"FlashPappasPop_t#animation_victory\",\n",
    "    \"FlashGuide_t#guide_tap_hint\",\n",
    "};\n",
    "\n",
    "UI_DESCRIPTION = {\n",
    "    \"FlashShopMain_t#shop_all\":\"商店主页\",\n",
    "    \"FlashMarchPreparation_t#march_reinforce\":\"出征选兵界面\",\n",
    "    \"FlashMarchPreparationPop_t#choose_hero\":\"出征界面选择英雄弹窗\",\n",
    "    \"FlashRecommendedPackage_t#recommended_package\":\"推荐礼包\",\n",
    "    \"FlashGameUIHero#hero_main\":\"英雄列表\",\n",
    "    \"FlashGameMail_t#interface_mails\":\"邮件首页\",\n",
    "    \"FlashChattingMenu_t#chat\":\"聊天\",\n",
    "    \"FlashGameMail_t#menu_2\":\"邮件2级列表\",\n",
    "    \"FlashBuildingUpgrade_t#buildings_upgrade\":\"建筑升级\",\n",
    "    \"FlashBuildingBarrack_t#barracks_train\":\"造兵/造塔\",\n",
    "    \"FlashGameLeagueMain_t#league_main\":\"联盟主页\",\n",
    "    \"FlashGameItemBag#items\":\"背包\",\n",
    "    \"FlashGameUIHero#hero_details\":\"英雄详情\",\n",
    "    \"FlashGameTopMenu_t#not_enough_resources\":\"资源不足弹窗\",\n",
    "    \"FlashWildPop_t#monster_info\":\"野怪详情\",\n",
    "    \"FlashBuildingMenu_t#black_market\":\"黑市\",\n",
    "    \"FlashGameUIEventCenterMenu_t#event_center\":\"活动中心\",\n",
    "    \"FlashFirstRechargeMenu_t#first_recharge\":\"首冲\",\n",
    "    \"FlashFirstRechargeMenu_t#new_server_celebrate\":\"开服7天乐\",\n",
    "    \"FlashBuildingPop_t#speed_up_building\":\"使用建筑加速道具弹窗\",\n",
    "    \"FlashBuildingMenu_t#hospital_cure\":\"医院治疗\",\n",
    "    \"FlashGameUILeagueTreasure#alliance_treasures\":\"联盟宝藏\",\n",
    "    \"FlashGameUIHeroPop#upgrade_equipment\":\"英雄装备升级\",\n",
    "    \"FlashGameLadder_t#arena_work\":\"竞技场\",\n",
    "    \"FlashQuestMenu_t#quest_all\":\"任务\",\n",
    "    \"FlashGameUnitEvolvementPop_t#pop_uprage\":\"士兵强化/解锁弹窗\",\n",
    "    \"FlashFortress_t#entrance\":\"要塞主页\",\n",
    "    \"FlashGameGetResource_t#this\":\"资源购买列表\",\n",
    "    \"FlashGameTopMenu_t#refill_energy\":\"购买体力弹窗\",\n",
    "    \"FlashWildPop_t#wreckage\":\"废墟\",\n",
    "    \"FlashScienceResearch_t#sciences\":\"个人科技主页\",\n",
    "    \"FlashScienceResearch_t#millitary_sciences\":\"个人科技:军事\",\n",
    "    \"FlashScienceResearch_t#development_sciences\":\"个人科技:发展\",\n",
    "    \"FlashScienceResearch_t#logistics_sciences\":\"个人科技:后勤\",\n",
    "    \"FlashScienceResearchPop_t#sciences_research\":\"个人科技详情弹窗\",\n",
    "    \"FlashGameInterfacePop_t#city_buff\":\"BUFF界面\",\n",
    "    \"FlashGameMailDetail_t#system_mails2\":\"系统邮件详情\",\n",
    "    \"FlashGameMailDetail_t#monster_hunting\":\"PVE战报\",\n",
    "    \"FlashGameUILeagueGift#league_gift\":\"联盟礼物\",\n",
    "    \"FlashGameUILeagueTechnology#alliance_sciences\":\"联盟科技\",\n",
    "    \"FlashGameMailDetail_t#pvp_report\":\"PVP战报\",\n",
    "    \"FlashBuildingMenu_t#exchange_res\":\"资源补给站\",\n",
    "    \"FlashGameUIHeroPop#evolve\":\"英雄进化\",\n",
    "    \"FlashGameUIHeroPop#star_up\":\"英雄升星\",\n",
    "    \"FlashBuildingMenu_t#quiz\":\"小测验\",\n",
    "    \"FlashGuide_t#guide_dialog\":\"引导对话\",\n",
    "    \"FlashLeagueBattle_t#alliance_battle\":\"联盟战争\",\n",
    "    \"FlashGameInterfacePop_t#attack_warnings\":\"攻击预警\",\n",
    "    \"FlashGameUIHeroPop#add_exp\":\"经验药水\",\n",
    "    \"FlashGameMailDetail_t#personal_information\":\"私聊\",\n",
    "    \"FlashGameUILeagueShop#league_store\":\"联盟商店\",\n",
    "    \"FlashLottery#lucky_card\":\"抽卡\",\n",
    "    \"FlashBuildingMenu_t#army_overview\":\"兵力一览\",\n",
    "    \"FlashLordPop_t#setting_langueage\":\"游戏语言设置\",\n",
    "    \"FlashLordInfo_t#settings_main\":\"设置\",\n",
    "    \"FlashGameMailDetail_t#scouting_report\":\"侦察报告\",\n",
    "    \"FlashGameSoulSkill#soul_skills\":\"魂技\",\n",
    "    \"FlashGameTopMenu_t#exchange_gems\":\"金砖换宝石\",\n",
    "    \"FlashBattleReplay_t#this\":\"战斗录像\",\n",
    "    \"FlashGameLeagueManagement_t#league_management\":\"联盟管理\",\n",
    "    \"FlashLeagueMember_t#league_members\":\"联盟成员\",\n",
    "    \"FlashGameInterfacePop_t#off_line_report\":\"离线报告\",\n",
    "    \"FlashGameUnitEvolvement_t#unit_evolvement\":\"士兵强化首页\",\n",
    "    \"FlashShopPop_t#subscription_gold_bricks\":\"订阅：金砖\",\n",
    "    \"FlashShopPop_t#subscription_daily_pack\":\"订阅：每日礼包\",\n",
    "    \"FlashWelfare_t#welfare_all\":\"福利(签到/投资)\",\n",
    "    \"FlashBuildingMenu_t#city_overview\":\"城市信息总览\",\n",
    "    \"FlashLordInfo_t#alliance_monarch\":\"玩家个人信息\",\n",
    "    \"FlashGameTopMenu_t#speed_up_marching\":\"使用加速道具/buff详情\",\n",
    "    \"FlashGameTopMenu_t#pop_find\":\"材料获取途径弹窗\",\n",
    "    \"FlashQuestMenu_t#story_line\":\"剧情界面\",\n",
    "    \"FlashLeaguePop_t#donate\":\"联盟科技捐献弹窗\",\n",
    "    \"FlashLordInfo_t#interface_kings_information\":\"非同盟玩家信息\",\n",
    "    \"FlashLordInfo_t#interface_kings_information2\":\"同盟玩家信息\",\n",
    "    \"FlashGameUIRank#might_information\":\"排行榜主页面\",\n",
    "    \"FlashGameUIRankDetail#alliance_might_rank\":\"排行榜详情\",\n",
    "    \"FlashGameUIHeroPop#hero_stats\":\"英雄状态弹窗\",\n",
    "    \"FlashGameUIEvilCave#gve_evil_cave\":\"联盟探险首页\",\n",
    "    \"FlashGameUIEvilCave#gve\":\"联盟探险准备/战斗中\",\n",
    "    \"FlashGameUIEvilCave#gve_choose_level\":\"联盟探险选关\",\n",
    "    \"FlashGameUIEvilCavePop#gve_clearing\":\"联盟探险结果\",\n",
    "    \"FlashLordPop_t#interface_change_avatar2\":\"更改头像/头像框\",\n",
    "    \"FlashLeaguePop_t#interface_alliance\":\"联盟信息弹窗\",\n",
    "    \"FlashGameInterfacePop_t#discovery_details\":\"基地车详情\",\n",
    "    \"FlashGameInterfacePop_t#discovery_equipment_details\":\"基地车零件升级\",\n",
    "    \"FlashGameLadderPop_t#rank_board\":\"竞技场排名\",\n",
    "    \"FlashLeaguePop_t#pop_reward\":\"查看每日任务奖励/领奖\",\n",
    "    \"FlashGameTopMenu_t#pack_content\":\"查看礼包内物品信息\",\n",
    "    \"FlashPappas_t#demon_portal\":\"避难所首页\",\n",
    "    \"FlashPappasPop_t#enemy_details\":\"避难所关卡详情\",\n",
    "    \"FlashBuildingMenu_t#appoint\":\"英雄任命\",\n",
    "    \"FlashGameUIHeroPop#skill_details\":\"技能详情\",\n",
    "    \"FlashWildPop_t#pop_container\":\"能源箱信息\",\n",
    "    \"FlashLottery#lottery\":\"大乐透\",\n",
    "    \"FlashWildPop_t#find_resources\":\"查找地图资源\",\n",
    "    \"FlashBuildingBarrack_t#rank_up_unit\":\"士兵进阶列表\",\n",
    "    \"FlashBuildingBarrackPop_t#rank_up_unit\":\"士兵进阶详情弹窗\",\n",
    "    \"FlashBuildingPop_t#building_details\":\"建筑详情\",\n",
    "}\n",
    "\n",
    "CHEST_ITEMS = [18501,18502,18503,18504,18505,18506,18507,18508,18509,18510,18511,18512,18520,\n",
    "               18521,18522,18523,18524,18525,18526,18527,18528,18529,18530,18531,18532,18533,\n",
    "               18534,18535,18536,18537,18538,18539,18540,18541,18542,18543,18544,18545,18546,\n",
    "               18547,18548,18549,18550,18551,18552,18553,18554,18555,18556,18557,18558,18701,\n",
    "               18702,18703,18704,18705,18706,18707,18708,18709,18710,18711,18712,18713,18714,\n",
    "               18715,18716,18717,18718,18719,18720,18721,18722,18723,18724,18725,18726,18727,\n",
    "               18728,18729,18730,18731,18732,18733,18734,18735,18736,18737,18738,18739,18740,\n",
    "               18741,18742,18743,18744,18745,18746,18747,18748,18749,18750,18751,18752,18753,\n",
    "               18754,18755,18756,18757,18758,18759,18760,18761,18762,18763,18764,18765,18766,\n",
    "               18767,18768,18769,18770,18771,18772,18773,18774,18775,18776,18777,18778,18779,\n",
    "               18780,18781,18782,18783,18784,18785,18786,18787,18788,18789,18790,18791,18792,\n",
    "               18793,18794,18795,18796,18797,18798,18799,18800,18801,18802,18803,18804,18805,\n",
    "               18806,18807,18808,18809,18810,18811,18812,18813,18814,18815,18816,18817,18818,\n",
    "               18819,18820,18821,18822,18823,18824,18825,18826,18827,18828,18829,18830,18831,\n",
    "               18832,18833,18834,18835,18836,18837,18838,18839,18840,18841,18842,18843,18844,\n",
    "               18845,18846,18847,18848,18849,18850,18851,18852,18853,18854,18855,18856,18857,\n",
    "               18858,18859,18860,18861,18862,18863,18864,18865,18866,18867,18868,18869,18870,\n",
    "               18871,18872,18873,18874,18875,18876,18877,18878,18879,18880,18881,18882,18883,\n",
    "               18884,18885,18886,18887,18888,18889,18890,18891,18892,18893];\n",
    "\n",
    "def is_ignored_ui(ui_name):\n",
    "    return ui_name in IGNORE_LIST;\n",
    "\n",
    "def get_ui_desc_by_name(ui_name):\n",
    "    if ui_name in UI_DESCRIPTION:\n",
    "        return UI_DESCRIPTION[ui_name];\n",
    "    else:\n",
    "        return ui_name;\n",
    "    \n",
    "def is_chest_item(item_id):\n",
    "    chest_id = int(item_id);\n",
    "    return chest_id in CHEST_ITEMS;"
   ]
  },
  {
   "cell_type": "code",
   "execution_count": 10,
   "metadata": {},
   "outputs": [],
   "source": [
    "def generate_ui_table(ui_table_array):\n",
    "    match_table = {}\n",
    "    for i in ui_table_array:\n",
    "        args = i.split(\":\")\n",
    "        match_table[args[0].strip()] = int(args[1])\n",
    "        \n",
    "    return match_table;\n",
    "\n",
    "def get_ui_name_by_id(ui_table, id):\n",
    "    for k, v in ui_table.items():\n",
    "        if v == id:\n",
    "            return k\n",
    "\n",
    "def parse_record(record):\n",
    "    SEQUENCE_PREFIX = \"op_seq: \";\n",
    "    UI_TABLE_PREFIX = (\"ui:\" + NEW_LINE);\n",
    "    TOTAL_SPENT_PREFIX = \"spent: \";\n",
    "    DATE_PREFIX = \"date: \";\n",
    "    USERID_PREFIX = \"user_id: \";\n",
    "    LANG_PREFIX = \"device_lang: \";\n",
    "    \n",
    "    op_seq_start = record.find(SEQUENCE_PREFIX);\n",
    "    \n",
    "    if op_seq_start == -1:\n",
    "        return\n",
    "    \n",
    "    lang_start = record.find(LANG_PREFIX);\n",
    "    dev_lang = \"unknown\";\n",
    "    if lang_start != -1:\n",
    "        lang_start += len(LANG_PREFIX);\n",
    "        dev_lang = record[lang_start:op_seq_start].strip(NEW_LINE);\n",
    "        \n",
    "    op_seq_start += len(SEQUENCE_PREFIX)\n",
    "    ui_table_start = record.find(UI_TABLE_PREFIX)\n",
    "    \n",
    "    if ui_table_start == -1:\n",
    "        return\n",
    "    \n",
    "    spent_start = record.find(TOTAL_SPENT_PREFIX)\n",
    "    date_start = record.find(DATE_PREFIX)\n",
    "    userid_start = record.find(USERID_PREFIX)\n",
    "    \n",
    "    if spent_start == -1:\n",
    "        return\n",
    "    \n",
    "    if date_start == -1:\n",
    "        return\n",
    "    \n",
    "    if userid_start == -1:\n",
    "        return\n",
    "    op_seq_array = record[op_seq_start:ui_table_start].strip(NEW_LINE)[:-1].split(\"#\")\n",
    "    ui_table_start += len(UI_TABLE_PREFIX)\n",
    "    ui_table_array = record[ui_table_start:spent_start].splitlines()\n",
    "    total_spent = float(record[spent_start:date_start].strip(NEW_LINE).split(\":\")[1])\n",
    "    date = record[date_start:userid_start].strip(NEW_LINE).split(\":\")[1]\n",
    "    user_id = record[userid_start:-1].strip(NEW_LINE).split(\":\")[1].strip()\n",
    "    \n",
    "    ui_table = generate_ui_table(ui_table_array)\n",
    "    \n",
    "    new_op_array = []\n",
    "    \n",
    "    ui_num = 0;\n",
    "    has_iap_attempt = False;\n",
    "    has_gold_brick_consumption = False;\n",
    "    for i in op_seq_array:\n",
    "        op_args = i.split(\":\")\n",
    "        op_type = int(op_args[0])\n",
    "        if op_type == OP_TYPE_OPEN_UI:\n",
    "            ui_id = int(op_args[1])\n",
    "            ui_name = get_ui_name_by_id(ui_table, ui_id)\n",
    "            if not is_ignored_ui(ui_name):\n",
    "                new_op_array.append(str(OP_TYPE_OPEN_UI) + \":\" + ui_name);\n",
    "                ui_num += 1;\n",
    "        elif op_type == OP_TYPE_IAP_ATTEMPT:\n",
    "            new_op_array.append(i);\n",
    "            has_iap_attempt = True;\n",
    "        elif op_type == OP_TYPE_BUY_COIN_ITEM:\n",
    "            new_op_array.append(i);\n",
    "            has_gold_brick_consumption = True;\n",
    "        else:\n",
    "            new_op_array.append(i);\n",
    "    \n",
    "    \n",
    "    return pd.DataFrame(data = {\n",
    "        \"user_id\":[user_id],\n",
    "        \"date\":[date],\n",
    "        \"day_index\":[pu.convert_datestring_to_day_num(date)],\n",
    "        \"spent\":[total_spent], \n",
    "        \"ops\":[new_op_array],\n",
    "        \"ui_num\":[ui_num],\n",
    "        \"dev_lang\":[dev_lang],\n",
    "        \"has_iap_attempt\":[has_iap_attempt],\n",
    "        \"has_gold_brick_consumption\":[has_gold_brick_consumption],\n",
    "    });\n",
    "  "
   ]
  },
  {
   "cell_type": "markdown",
   "metadata": {},
   "source": [
    "## 原始数据解析"
   ]
  },
  {
   "cell_type": "code",
   "execution_count": 167,
   "metadata": {},
   "outputs": [],
   "source": [
    "parsed_data = pd.DataFrame(data = {\n",
    "    \"user_id\":[],\n",
    "    \"date\":[], \n",
    "    \"spent\":[], \n",
    "    \"ops\":[]\n",
    "});\n",
    "\n",
    "def parse_origin_data(content):\n",
    "    global parsed_data;\n",
    "    parsed_data = parsed_data.append(parse_record(content), ignore_index = True);\n",
    "\n",
    "dataset[\"content\"].apply(lambda x: parse_origin_data(x));"
   ]
  },
  {
   "cell_type": "code",
   "execution_count": 161,
   "metadata": {},
   "outputs": [
    {
     "name": "stdout",
     "output_type": "stream",
     "text": [
      "Int64Index([18539, 26910], dtype='int64')\n",
      "dest_row is none\n",
      "None\n"
     ]
    },
    {
     "ename": "AttributeError",
     "evalue": "'NoneType' object has no attribute 'append'",
     "output_type": "error",
     "traceback": [
      "\u001b[0;31m---------------------------------------------------------------------------\u001b[0m",
      "\u001b[0;31mAttributeError\u001b[0m                            Traceback (most recent call last)",
      "\u001b[0;32m<ipython-input-161-718b0171df98>\u001b[0m in \u001b[0;36m<module>\u001b[0;34m\u001b[0m\n\u001b[1;32m     19\u001b[0m \u001b[0;32mfor\u001b[0m \u001b[0mi\u001b[0m\u001b[0;34m,\u001b[0m \u001b[0mindex_list\u001b[0m \u001b[0;32min\u001b[0m \u001b[0mparsed_data\u001b[0m\u001b[0;34m.\u001b[0m\u001b[0mgroupby\u001b[0m\u001b[0;34m(\u001b[0m\u001b[0;34m[\u001b[0m\u001b[0;34m\"user_id\"\u001b[0m\u001b[0;34m,\u001b[0m \u001b[0;34m\"day_index\"\u001b[0m\u001b[0;34m]\u001b[0m\u001b[0;34m)\u001b[0m\u001b[0;34m.\u001b[0m\u001b[0mgroups\u001b[0m\u001b[0;34m.\u001b[0m\u001b[0mitems\u001b[0m\u001b[0;34m(\u001b[0m\u001b[0;34m)\u001b[0m\u001b[0;34m:\u001b[0m\u001b[0;34m\u001b[0m\u001b[0;34m\u001b[0m\u001b[0m\n\u001b[1;32m     20\u001b[0m     \u001b[0;32mif\u001b[0m \u001b[0mlen\u001b[0m\u001b[0;34m(\u001b[0m\u001b[0mindex_list\u001b[0m\u001b[0;34m)\u001b[0m \u001b[0;34m>\u001b[0m \u001b[0;36m1\u001b[0m\u001b[0;34m:\u001b[0m\u001b[0;34m\u001b[0m\u001b[0;34m\u001b[0m\u001b[0m\n\u001b[0;32m---> 21\u001b[0;31m         \u001b[0mmerge_records\u001b[0m\u001b[0;34m(\u001b[0m\u001b[0mindex_list\u001b[0m\u001b[0;34m)\u001b[0m\u001b[0;34m;\u001b[0m\u001b[0;34m\u001b[0m\u001b[0;34m\u001b[0m\u001b[0m\n\u001b[0m\u001b[1;32m     22\u001b[0m \u001b[0;34m\u001b[0m\u001b[0m\n",
      "\u001b[0;32m<ipython-input-161-718b0171df98>\u001b[0m in \u001b[0;36mmerge_records\u001b[0;34m(index_list)\u001b[0m\n\u001b[1;32m     15\u001b[0m \u001b[0;34m\u001b[0m\u001b[0m\n\u001b[1;32m     16\u001b[0m         \u001b[0mprint\u001b[0m\u001b[0;34m(\u001b[0m\u001b[0mparsed_data\u001b[0m\u001b[0;34m.\u001b[0m\u001b[0miloc\u001b[0m\u001b[0;34m[\u001b[0m\u001b[0mdest_row_index\u001b[0m\u001b[0;34m]\u001b[0m\u001b[0;34m[\u001b[0m\u001b[0;34m\"ops\"\u001b[0m\u001b[0;34m]\u001b[0m\u001b[0;34m)\u001b[0m\u001b[0;34m\u001b[0m\u001b[0;34m\u001b[0m\u001b[0m\n\u001b[0;32m---> 17\u001b[0;31m         \u001b[0mdest_row\u001b[0m\u001b[0;34m.\u001b[0m\u001b[0mappend\u001b[0m\u001b[0;34m(\u001b[0m\u001b[0msrc_row\u001b[0m\u001b[0;34m)\u001b[0m\u001b[0;34m;\u001b[0m\u001b[0;34m\u001b[0m\u001b[0;34m\u001b[0m\u001b[0m\n\u001b[0m\u001b[1;32m     18\u001b[0m \u001b[0;34m\u001b[0m\u001b[0m\n\u001b[1;32m     19\u001b[0m \u001b[0;32mfor\u001b[0m \u001b[0mi\u001b[0m\u001b[0;34m,\u001b[0m \u001b[0mindex_list\u001b[0m \u001b[0;32min\u001b[0m \u001b[0mparsed_data\u001b[0m\u001b[0;34m.\u001b[0m\u001b[0mgroupby\u001b[0m\u001b[0;34m(\u001b[0m\u001b[0;34m[\u001b[0m\u001b[0;34m\"user_id\"\u001b[0m\u001b[0;34m,\u001b[0m \u001b[0;34m\"day_index\"\u001b[0m\u001b[0;34m]\u001b[0m\u001b[0;34m)\u001b[0m\u001b[0;34m.\u001b[0m\u001b[0mgroups\u001b[0m\u001b[0;34m.\u001b[0m\u001b[0mitems\u001b[0m\u001b[0;34m(\u001b[0m\u001b[0;34m)\u001b[0m\u001b[0;34m:\u001b[0m\u001b[0;34m\u001b[0m\u001b[0;34m\u001b[0m\u001b[0m\n",
      "\u001b[0;31mAttributeError\u001b[0m: 'NoneType' object has no attribute 'append'"
     ]
    }
   ],
   "source": [
    "#todo: merge records with same user_id and day_index\n",
    "\n",
    "def merge_records(index_list):\n",
    "    print(index_list)\n",
    "    dest_row_index = index_list[0];\n",
    "    \n",
    "    for i in index_list[1:]:\n",
    "        src_row = parsed_data.iloc[i, 5];\n",
    "        dest_row = parsed_data.iloc[dest_row_index][\"ops\"];\n",
    "        \n",
    "        if dest_row is None:\n",
    "            print(\"dest_row is none\");\n",
    "            parsed_data.iloc[dest_row_index][\"ops\"] = [[]];\n",
    "            dest_row = parsed_data.iloc[dest_row_index][\"ops\"];\n",
    "            \n",
    "        print(parsed_data.iloc[dest_row_index][\"ops\"])\n",
    "        dest_row.append(src_row);\n",
    "\n",
    "for i, index_list in parsed_data.groupby([\"user_id\", \"day_index\"]).groups.items():\n",
    "    if len(index_list) > 1:\n",
    "        merge_records(index_list);\n",
    "        \n"
   ]
  },
  {
   "cell_type": "code",
   "execution_count": 164,
   "metadata": {},
   "outputs": [
    {
     "data": {
      "text/plain": [
       "18539    None\n",
       "Name: ops, dtype: object"
      ]
     },
     "execution_count": 164,
     "metadata": {},
     "output_type": "execute_result"
    }
   ],
   "source": [
    "l = [1, 2]\n",
    "parsed_data.loc[parsed_data.index == 18539, \"ops\"]"
   ]
  },
  {
   "cell_type": "code",
   "execution_count": 168,
   "metadata": {},
   "outputs": [
    {
     "data": {
      "text/html": [
       "<div>\n",
       "<style scoped>\n",
       "    .dataframe tbody tr th:only-of-type {\n",
       "        vertical-align: middle;\n",
       "    }\n",
       "\n",
       "    .dataframe tbody tr th {\n",
       "        vertical-align: top;\n",
       "    }\n",
       "\n",
       "    .dataframe thead th {\n",
       "        text-align: right;\n",
       "    }\n",
       "</style>\n",
       "<table border=\"1\" class=\"dataframe\">\n",
       "  <thead>\n",
       "    <tr style=\"text-align: right;\">\n",
       "      <th></th>\n",
       "      <th>date</th>\n",
       "      <th>day_index</th>\n",
       "      <th>dev_lang</th>\n",
       "      <th>has_gold_brick_consumption</th>\n",
       "      <th>has_iap_attempt</th>\n",
       "      <th>ops</th>\n",
       "      <th>spent</th>\n",
       "      <th>ui_num</th>\n",
       "      <th>user_id</th>\n",
       "    </tr>\n",
       "  </thead>\n",
       "  <tbody>\n",
       "  </tbody>\n",
       "</table>\n",
       "</div>"
      ],
      "text/plain": [
       "Empty DataFrame\n",
       "Columns: [date, day_index, dev_lang, has_gold_brick_consumption, has_iap_attempt, ops, spent, ui_num, user_id]\n",
       "Index: []"
      ]
     },
     "execution_count": 168,
     "metadata": {},
     "output_type": "execute_result"
    }
   ],
   "source": [
    "parsed_data.loc[parsed_data[\"ops\"].isnull()]"
   ]
  },
  {
   "cell_type": "code",
   "execution_count": 169,
   "metadata": {},
   "outputs": [
    {
     "name": "stdout",
     "output_type": "stream",
     "text": [
      "date                                                                   05/19/19\n",
      "day_index                                                                   139\n",
      "dev_lang                                                                zh_Hans\n",
      "has_gold_brick_consumption                                                False\n",
      "has_iap_attempt                                                           False\n",
      "ops                           [1:FlashGameInterfacePop_t#off_line_report, 1:...\n",
      "spent                                                                         0\n",
      "ui_num                                                                      647\n",
      "user_id                                                5c38505e0c1b7bfe59dc412e\n",
      "Name: 18539, dtype: object\n"
     ]
    }
   ],
   "source": [
    "print(parsed_data.iloc[18539])"
   ]
  },
  {
   "cell_type": "code",
   "execution_count": 107,
   "metadata": {},
   "outputs": [
    {
     "data": {
      "text/plain": [
       "date                                                                   05/19/19\n",
       "day_index                                                                   139\n",
       "dev_lang                                                                zh_Hans\n",
       "has_gold_brick_consumption                                                False\n",
       "has_iap_attempt                                                           False\n",
       "ops                           [1:FlashGameInterfacePop_t#off_line_report, 1:...\n",
       "spent                                                                         0\n",
       "ui_num                                                                      647\n",
       "user_id                                                5c38505e0c1b7bfe59dc412e\n",
       "country                                                                      CN\n",
       "Name: 18539, dtype: object"
      ]
     },
     "execution_count": 107,
     "metadata": {},
     "output_type": "execute_result"
    }
   ],
   "source": [
    "parsed_data.iloc[18539]"
   ]
  },
  {
   "cell_type": "code",
   "execution_count": 12,
   "metadata": {},
   "outputs": [],
   "source": [
    "player_data[\"country\"].fillna(\"unknown\", inplace = True);"
   ]
  },
  {
   "cell_type": "code",
   "execution_count": 13,
   "metadata": {},
   "outputs": [],
   "source": [
    "def get_user_country_by_userid(user_id):\n",
    "    country = player_data.loc[player_data[\"user_id\"] == user_id][\"country\"];\n",
    "    if not len(country) > 0:\n",
    "        country = \"unknown\";\n",
    "    return country.iloc[0];\n",
    "\n",
    "parsed_data[\"country\"] = parsed_data[\"user_id\"].apply(lambda uid: get_user_country_by_userid(uid));"
   ]
  },
  {
   "cell_type": "code",
   "execution_count": 35,
   "metadata": {},
   "outputs": [
    {
     "ename": "KeyError",
     "evalue": "0",
     "output_type": "error",
     "traceback": [
      "\u001b[0;31m---------------------------------------------------------------------------\u001b[0m",
      "\u001b[0;31mKeyError\u001b[0m                                  Traceback (most recent call last)",
      "\u001b[0;32m<ipython-input-35-10bf09270e4e>\u001b[0m in \u001b[0;36m<module>\u001b[0;34m\u001b[0m\n\u001b[1;32m      1\u001b[0m \u001b[0mpd_cty\u001b[0m \u001b[0;34m=\u001b[0m \u001b[0mparsed_data\u001b[0m\u001b[0;34m.\u001b[0m\u001b[0mgroupby\u001b[0m\u001b[0;34m(\u001b[0m\u001b[0;34m[\u001b[0m\u001b[0;34m\"user_id\"\u001b[0m\u001b[0;34m]\u001b[0m\u001b[0;34m)\u001b[0m\u001b[0;34m.\u001b[0m\u001b[0mgroups\u001b[0m\u001b[0;34m\u001b[0m\u001b[0;34m\u001b[0m\u001b[0m\n\u001b[0;32m----> 2\u001b[0;31m \u001b[0mpd_cty\u001b[0m\u001b[0;34m[\u001b[0m\u001b[0;36m0\u001b[0m\u001b[0;34m]\u001b[0m\u001b[0;34m\u001b[0m\u001b[0;34m\u001b[0m\u001b[0m\n\u001b[0m",
      "\u001b[0;31mKeyError\u001b[0m: 0"
     ]
    }
   ],
   "source": [
    "pd_cty = parsed_data.groupby([\"user_id\"]).groups\n",
    "pd_cty[0]"
   ]
  },
  {
   "cell_type": "markdown",
   "metadata": {},
   "source": [
    "## 数据分析"
   ]
  },
  {
   "cell_type": "markdown",
   "metadata": {},
   "source": [
    "### UI统计概况"
   ]
  },
  {
   "cell_type": "code",
   "execution_count": 8,
   "metadata": {},
   "outputs": [
    {
     "name": "stdout",
     "output_type": "stream",
     "text": [
      "总数据条数: 28299.0/人天\n",
      "UI 平均打开次数 366.1次/天\n",
      "UI 最大打开次数 5202.0次/天\n"
     ]
    }
   ],
   "source": [
    "ui_statistical_info = parsed_data[\"ui_num\"].describe()\n",
    "print(\"总数据条数: {}/人天\".format(ui_statistical_info[\"count\"]))\n",
    "print(\"UI 平均打开次数 {:.1f}次/天\".format(ui_statistical_info[\"mean\"]))\n",
    "print(\"UI 最大打开次数 {:.1f}次/天\".format(ui_statistical_info[\"max\"]))"
   ]
  },
  {
   "cell_type": "markdown",
   "metadata": {},
   "source": [
    "### UI打开次数分布(人/天)"
   ]
  },
  {
   "cell_type": "code",
   "execution_count": 9,
   "metadata": {},
   "outputs": [
    {
     "data": {
      "image/png": "[encoded data removed]",
      "text/plain": [
       "<Figure size 1080x360 with 1 Axes>"
      ]
     },
     "metadata": {},
     "output_type": "display_data"
    }
   ],
   "source": [
    "plt.figure(figsize = (15, 5));\n",
    "ax = sns.distplot(parsed_data[\"ui_num\"], kde = False, bins = 150);\n",
    "ax.set(ylabel = \"record number\", xlabel = \"ui open times\");"
   ]
  },
  {
   "cell_type": "markdown",
   "metadata": {},
   "source": [
    "### 单个UI访问次数"
   ]
  },
  {
   "cell_type": "code",
   "execution_count": 37,
   "metadata": {},
   "outputs": [],
   "source": [
    "ui_access_times = {}\n",
    "def count_ui_access_times(ops):\n",
    "    global ui_access_times;\n",
    "    for i in ops:\n",
    "        args = i.split(\":\");\n",
    "        op_type = int(args[0]);\n",
    "        if op_type == OP_TYPE_OPEN_UI:\n",
    "            if args[1] not in ui_access_times:\n",
    "                ui_access_times[args[1]] = 0;\n",
    "            ui_access_times[args[1]] += 1;\n",
    "            \n",
    "parsed_data[\"ops\"].apply(lambda x: count_ui_access_times(x));\n",
    "df_ui_access_times = pd.DataFrame.from_dict(ui_access_times, orient='index', columns = [\"times\"]).sort_values(by = \"times\", ascending = False);"
   ]
  },
  {
   "cell_type": "code",
   "execution_count": 38,
   "metadata": {},
   "outputs": [
    {
     "name": "stdout",
     "output_type": "stream",
     "text": [
      "出征选兵界面                        \t    723592\n",
      "建筑升级                          \t    723053\n",
      "剧情界面                          \t    590789\n",
      "引导对话                          \t    557888\n",
      "士兵强化/解锁弹窗                     \t    445189\n",
      "造兵/造塔                         \t    394224\n",
      "野怪详情                          \t    322401\n",
      "邮件首页                          \t    307635\n",
      "邮件2级列表                        \t    260921\n",
      "使用建筑加速道具弹窗                    \t    255928\n",
      "聊天                            \t    226610\n",
      "英雄列表                          \t    215473\n",
      "英雄装备升级                        \t    212885\n",
      "联盟主页                          \t    190567\n",
      "避难所关卡详情                       \t    187045\n",
      "医院治疗                          \t    176635\n",
      "避难所首页                         \t    166394\n",
      "战斗录像                          \t    159832\n",
      "士兵强化首页                        \t    149765\n",
      "英雄详情                          \t    139418\n"
     ]
    }
   ],
   "source": [
    "TOP_N = 20;\n",
    "for index, row in df_ui_access_times.iloc[:TOP_N].iterrows():\n",
    "    print(\"{:<30}\\t{:>10}\".format(get_ui_desc_by_name(row.name), row.times))"
   ]
  },
  {
   "cell_type": "markdown",
   "metadata": {},
   "source": [
    "### 购买行为"
   ]
  },
  {
   "cell_type": "markdown",
   "metadata": {},
   "source": [
    "#### 推荐礼包"
   ]
  },
  {
   "cell_type": "code",
   "execution_count": 39,
   "metadata": {},
   "outputs": [
    {
     "name": "stdout",
     "output_type": "stream",
     "text": [
      "推荐礼包界面总出现次数为: 111558\n"
     ]
    }
   ],
   "source": [
    "promotion_ui_times = df_ui_access_times.loc[\"FlashRecommendedPackage_t#recommended_package\"].times;\n",
    "print(\"推荐礼包界面总出现次数为: {}\".format(promotion_ui_times));"
   ]
  },
  {
   "cell_type": "code",
   "execution_count": 43,
   "metadata": {},
   "outputs": [],
   "source": [
    "prev_ui_list = {}\n",
    "recommendation_index_list = {}\n",
    "buy_recommendation_times_list = {}\n",
    "buy_recommendation_user_list = {}\n",
    "def buy_item_from_promotion(ops, user_id):\n",
    "    pre_ui = None;\n",
    "    recommendation_index = 0;\n",
    "    buy_recommendation_times = 0;\n",
    "    global prev_ui_list;\n",
    "    for i in ops:\n",
    "        args = i.split(\":\");\n",
    "        op_type = int(args[0])\n",
    "        if op_type == OP_TYPE_BUY_COIN_ITEM:\n",
    "            item_id = int(args[1])\n",
    "            if is_chest_item(item_id) and pre_ui is not None:  \n",
    "                if pre_ui not in prev_ui_list:\n",
    "                    prev_ui_list[pre_ui] = 0\n",
    "                prev_ui_list[pre_ui] += 1;\n",
    "                \n",
    "                if pre_ui == \"FlashRecommendedPackage_t#recommended_package\":\n",
    "                    if recommendation_index not in recommendation_index_list:\n",
    "                        recommendation_index_list[recommendation_index] = 0;\n",
    "                    recommendation_index_list[recommendation_index] += 1;\n",
    "                    buy_recommendation_times += 1;\n",
    "                    \n",
    "                    if user_id not in buy_recommendation_user_list:\n",
    "                        buy_recommendation_user_list[user_id] = 0;\n",
    "                    buy_recommendation_user_list[user_id] += 1;\n",
    "        elif op_type == OP_TYPE_OPEN_UI:\n",
    "            pre_ui = args[1];\n",
    "            if args[1] == \"FlashRecommendedPackage_t#recommended_package\":\n",
    "                recommendation_index += 1;\n",
    "    \n",
    "    if buy_recommendation_times > 1:\n",
    "        if buy_recommendation_times not in buy_recommendation_times_list:\n",
    "            buy_recommendation_times_list[buy_recommendation_times] = 0\n",
    "        buy_recommendation_times_list[buy_recommendation_times] += 1;\n",
    "    return False;\n",
    "\n",
    "parsed_data.apply(lambda x: buy_item_from_promotion(x[\"ops\"], x[\"user_id\"]), axis = 1);\n",
    "\n",
    "pd_buy_chest = pd.DataFrame.from_dict(prev_ui_list, orient = \"index\", columns = [\"times\"]).sort_values(by = \"times\", ascending = False);"
   ]
  },
  {
   "cell_type": "code",
   "execution_count": 41,
   "metadata": {},
   "outputs": [
    {
     "name": "stdout",
     "output_type": "stream",
     "text": [
      "从推荐窗口卖出的宝箱占总卖出宝箱的 14.236%\n",
      "从推荐窗口卖出的宝箱占总弹出次数的 0.220%\n"
     ]
    }
   ],
   "source": [
    "buy_chest_from_promotion = pd_buy_chest[\"times\"].loc[\"FlashRecommendedPackage_t#recommended_package\"];\n",
    "buy_chest_total = pd_buy_chest[\"times\"].sum();\n",
    "\n",
    "print(\"从推荐窗口卖出的宝箱占总卖出宝箱的 {:.3f}%\".format(buy_chest_from_promotion * 100 / buy_chest_total));\n",
    "print(\"从推荐窗口卖出的宝箱占总弹出次数的 {:.3f}%\".format(buy_chest_from_promotion * 100 / promotion_ui_times));\n"
   ]
  },
  {
   "cell_type": "markdown",
   "metadata": {},
   "source": [
    "##### 推荐礼包的购买发生在每天的第几次推荐？"
   ]
  },
  {
   "cell_type": "code",
   "execution_count": 42,
   "metadata": {},
   "outputs": [
    {
     "data": {
      "image/png": "[encoded data removed]",
      "text/plain": [
       "<Figure size 720x360 with 1 Axes>"
      ]
     },
     "metadata": {},
     "output_type": "display_data"
    }
   ],
   "source": [
    "pd_recommendation_occuring = pd.DataFrame.from_dict(recommendation_index_list, orient = \"index\", columns = [\"times\"]).sort_values(by = \"times\", ascending = False).reset_index()\n",
    "pd_recommendation_occuring = pd_recommendation_occuring.rename(columns = {\"index\":\"n_th\"});\n",
    "pd_recommendation_occuring = pd_recommendation_occuring.iloc[:20]\n",
    "plt.figure(figsize=(10, 5))\n",
    "axe = sns.barplot(x = \"n_th\", y = \"times\", data = pd_recommendation_occuring, order = pd_recommendation_occuring[\"n_th\"]);\n",
    "da.set_barplot_value(axe, pd_recommendation_occuring[\"times\"], \"%d\", value_color = 'blue');"
   ]
  },
  {
   "cell_type": "markdown",
   "metadata": {},
   "source": [
    "结论：会买的人，一般前几次(**<= 7?**)就买了，再反复吆喝价值越来越低。"
   ]
  },
  {
   "cell_type": "markdown",
   "metadata": {},
   "source": [
    "##### 接受推荐，是单次偶然行为，还是经常?"
   ]
  },
  {
   "cell_type": "code",
   "execution_count": 80,
   "metadata": {},
   "outputs": [
    {
     "name": "stdout",
     "output_type": "stream",
     "text": [
      "总接受推荐的玩家数: 102\n",
      "重复接受推荐(>=2)的玩家数: 52\n"
     ]
    },
    {
     "data": {
      "image/png": "[encoded data removed]",
      "text/plain": [
       "<Figure size 432x288 with 1 Axes>"
      ]
     },
     "metadata": {},
     "output_type": "display_data"
    }
   ],
   "source": [
    "pd_buy_recommendation_user = pd.DataFrame.from_dict(buy_recommendation_user_list, orient = \"index\", columns = [\"times\"]);\n",
    "pd_buy_recommendation_user = pd_buy_recommendation_user.sort_values(by = \"times\", ascending = False);\n",
    "\n",
    "total_buy_recommendation_user_num = pd_buy_recommendation_user[\"times\"].count();\n",
    "repeat_buy_recommendation_user_num = pd_buy_recommendation_user.loc[pd_buy_recommendation_user[\"times\"] > 1, \"times\"].count();\n",
    "\n",
    "print(\"总接受推荐的玩家数: {}\".format(total_buy_recommendation_user_num));\n",
    "print(\"重复接受推荐(>=2)的玩家数: {}\".format(repeat_buy_recommendation_user_num));\n",
    "\n",
    "plt.pie([total_buy_recommendation_user_num - repeat_buy_recommendation_user_num, repeat_buy_recommendation_user_num], \n",
    "        labels = [\"once\", \"repeatedly\"], autopct = \"%.2f%%\");"
   ]
  },
  {
   "cell_type": "markdown",
   "metadata": {},
   "source": [
    "结论：看起来上过一次当的玩家会有很大的概率再上一次当"
   ]
  },
  {
   "cell_type": "markdown",
   "metadata": {},
   "source": [
    "### 流失用户行为"
   ]
  },
  {
   "cell_type": "markdown",
   "metadata": {},
   "source": [
    "#### 定义流失用户\n",
    "最后一条记录距离\"今天\"大于两天的，定义为已流失"
   ]
  },
  {
   "cell_type": "code",
   "execution_count": 83,
   "metadata": {},
   "outputs": [],
   "source": [
    "def is_churn_user(x):\n",
    "    latest_info_date = \"05/15/20\";\n",
    "    latest_day_num = pu.convert_datestring_to_day_num(latest_info_date);\n",
    "    last_login_day = x[\"max\"];\n",
    "    total_login_day_num = x[\"len\"];\n",
    "        \n",
    "    if last_login_day < latest_day_num - 2:\n",
    "        return True;\n",
    "    else:\n",
    "        return False;\n"
   ]
  },
  {
   "cell_type": "code",
   "execution_count": 84,
   "metadata": {},
   "outputs": [],
   "source": [
    "#group users by user_id\n",
    "pd_user_id_group = parsed_data.groupby([\"user_id\"])[\"day_index\"].agg([len, max]);\n",
    "churn_user_group = pd_user_id_group.loc[pd_user_id_group.apply(lambda x: (is_churn_user(x)), axis = 1)].sort_values(by = \"len\", ascending = False);\n",
    "churn_user_id_list = churn_user_group.index;"
   ]
  },
  {
   "cell_type": "code",
   "execution_count": 90,
   "metadata": {},
   "outputs": [
    {
     "data": {
      "image/png": "[encoded data removed]",
      "text/plain": [
       "<Figure size 720x360 with 1 Axes>"
      ]
     },
     "metadata": {},
     "output_type": "display_data"
    }
   ],
   "source": [
    "sample_num = 1;\n",
    "sample_list = range(sample_num);#np.random.randint(0, len(churn_user_id_list), sample_num)\n",
    "plt.figure(figsize = (10, 5))\n",
    "for i in sample_list:\n",
    "    user_id = churn_user_id_list[i]\n",
    "    ordered_rec = parsed_data.loc[parsed_data[\"user_id\"]\n",
    "                                  == user_id].sort_values(by=\"day_index\")\n",
    "\n",
    "    data_array = np.array(ordered_rec[\"ui_num\"])\n",
    "    sns.lineplot(data=data_array)"
   ]
  },
  {
   "cell_type": "code",
   "execution_count": 93,
   "metadata": {},
   "outputs": [
    {
     "data": {
      "text/plain": [
       "'5cadf9bfc15e00677f64d393'"
      ]
     },
     "execution_count": 93,
     "metadata": {},
     "output_type": "execute_result"
    }
   ],
   "source": [
    "churn_user_id_list[1]"
   ]
  },
  {
   "cell_type": "code",
   "execution_count": 94,
   "metadata": {},
   "outputs": [
    {
     "data": {
      "text/html": [
       "<div>\n",
       "<style scoped>\n",
       "    .dataframe tbody tr th:only-of-type {\n",
       "        vertical-align: middle;\n",
       "    }\n",
       "\n",
       "    .dataframe tbody tr th {\n",
       "        vertical-align: top;\n",
       "    }\n",
       "\n",
       "    .dataframe thead th {\n",
       "        text-align: right;\n",
       "    }\n",
       "</style>\n",
       "<table border=\"1\" class=\"dataframe\">\n",
       "  <thead>\n",
       "    <tr style=\"text-align: right;\">\n",
       "      <th></th>\n",
       "      <th>date</th>\n",
       "      <th>day_index</th>\n",
       "      <th>dev_lang</th>\n",
       "      <th>has_gold_brick_consumption</th>\n",
       "      <th>has_iap_attempt</th>\n",
       "      <th>ops</th>\n",
       "      <th>spent</th>\n",
       "      <th>ui_num</th>\n",
       "      <th>user_id</th>\n",
       "      <th>country</th>\n",
       "    </tr>\n",
       "  </thead>\n",
       "  <tbody>\n",
       "    <tr>\n",
       "      <th>317</th>\n",
       "      <td>05/08/19</td>\n",
       "      <td>128.0</td>\n",
       "      <td>unknown</td>\n",
       "      <td>True</td>\n",
       "      <td>False</td>\n",
       "      <td>[1:FlashRecommendedPackage_t#recommended_packa...</td>\n",
       "      <td>0.0</td>\n",
       "      <td>376.0</td>\n",
       "      <td>5cadf9bfc15e00677f64d393</td>\n",
       "      <td>DE</td>\n",
       "    </tr>\n",
       "    <tr>\n",
       "      <th>393</th>\n",
       "      <td>05/08/19</td>\n",
       "      <td>128.0</td>\n",
       "      <td>unknown</td>\n",
       "      <td>False</td>\n",
       "      <td>False</td>\n",
       "      <td>[1:FlashRecommendedPackage_t#recommended_packa...</td>\n",
       "      <td>0.0</td>\n",
       "      <td>26.0</td>\n",
       "      <td>5cadf9bfc15e00677f64d393</td>\n",
       "      <td>DE</td>\n",
       "    </tr>\n",
       "    <tr>\n",
       "      <th>1029</th>\n",
       "      <td>05/09/19</td>\n",
       "      <td>129.0</td>\n",
       "      <td>unknown</td>\n",
       "      <td>False</td>\n",
       "      <td>False</td>\n",
       "      <td>[1:FlashGameInterfacePop_t#off_line_report, 1:...</td>\n",
       "      <td>0.0</td>\n",
       "      <td>340.0</td>\n",
       "      <td>5cadf9bfc15e00677f64d393</td>\n",
       "      <td>DE</td>\n",
       "    </tr>\n",
       "    <tr>\n",
       "      <th>1243</th>\n",
       "      <td>05/09/19</td>\n",
       "      <td>129.0</td>\n",
       "      <td>unknown</td>\n",
       "      <td>False</td>\n",
       "      <td>False</td>\n",
       "      <td>[1:FlashRecommendedPackage_t#recommended_packa...</td>\n",
       "      <td>0.0</td>\n",
       "      <td>168.0</td>\n",
       "      <td>5cadf9bfc15e00677f64d393</td>\n",
       "      <td>DE</td>\n",
       "    </tr>\n",
       "    <tr>\n",
       "      <th>2070</th>\n",
       "      <td>05/10/19</td>\n",
       "      <td>130.0</td>\n",
       "      <td>unknown</td>\n",
       "      <td>False</td>\n",
       "      <td>False</td>\n",
       "      <td>[1:FlashGameInterfacePop_t#off_line_report, 1:...</td>\n",
       "      <td>0.0</td>\n",
       "      <td>170.0</td>\n",
       "      <td>5cadf9bfc15e00677f64d393</td>\n",
       "      <td>DE</td>\n",
       "    </tr>\n",
       "    <tr>\n",
       "      <th>2160</th>\n",
       "      <td>05/10/19</td>\n",
       "      <td>130.0</td>\n",
       "      <td>unknown</td>\n",
       "      <td>False</td>\n",
       "      <td>False</td>\n",
       "      <td>[1:FlashGameInterfacePop_t#off_line_report, 1:...</td>\n",
       "      <td>0.0</td>\n",
       "      <td>68.0</td>\n",
       "      <td>5cadf9bfc15e00677f64d393</td>\n",
       "      <td>DE</td>\n",
       "    </tr>\n",
       "    <tr>\n",
       "      <th>2922</th>\n",
       "      <td>05/11/19</td>\n",
       "      <td>131.0</td>\n",
       "      <td>unknown</td>\n",
       "      <td>False</td>\n",
       "      <td>False</td>\n",
       "      <td>[1:FlashRecommendedPackage_t#recommended_packa...</td>\n",
       "      <td>0.0</td>\n",
       "      <td>20.0</td>\n",
       "      <td>5cadf9bfc15e00677f64d393</td>\n",
       "      <td>DE</td>\n",
       "    </tr>\n",
       "    <tr>\n",
       "      <th>2930</th>\n",
       "      <td>05/11/19</td>\n",
       "      <td>131.0</td>\n",
       "      <td>unknown</td>\n",
       "      <td>False</td>\n",
       "      <td>False</td>\n",
       "      <td>[1:FlashGameInterfacePop_t#off_line_report, 1:...</td>\n",
       "      <td>0.0</td>\n",
       "      <td>994.0</td>\n",
       "      <td>5cadf9bfc15e00677f64d393</td>\n",
       "      <td>DE</td>\n",
       "    </tr>\n",
       "    <tr>\n",
       "      <th>3700</th>\n",
       "      <td>05/12/19</td>\n",
       "      <td>132.0</td>\n",
       "      <td>unknown</td>\n",
       "      <td>False</td>\n",
       "      <td>False</td>\n",
       "      <td>[1:FlashRecommendedPackage_t#recommended_packa...</td>\n",
       "      <td>0.0</td>\n",
       "      <td>459.0</td>\n",
       "      <td>5cadf9bfc15e00677f64d393</td>\n",
       "      <td>DE</td>\n",
       "    </tr>\n",
       "    <tr>\n",
       "      <th>3884</th>\n",
       "      <td>05/12/19</td>\n",
       "      <td>132.0</td>\n",
       "      <td>unknown</td>\n",
       "      <td>False</td>\n",
       "      <td>False</td>\n",
       "      <td>[1:FlashGameInterfacePop_t#off_line_report, 1:...</td>\n",
       "      <td>0.0</td>\n",
       "      <td>57.0</td>\n",
       "      <td>5cadf9bfc15e00677f64d393</td>\n",
       "      <td>DE</td>\n",
       "    </tr>\n",
       "    <tr>\n",
       "      <th>4687</th>\n",
       "      <td>05/13/19</td>\n",
       "      <td>133.0</td>\n",
       "      <td>unknown</td>\n",
       "      <td>False</td>\n",
       "      <td>False</td>\n",
       "      <td>[1:FlashGameInterfacePop_t#off_line_report, 1:...</td>\n",
       "      <td>0.0</td>\n",
       "      <td>352.0</td>\n",
       "      <td>5cadf9bfc15e00677f64d393</td>\n",
       "      <td>DE</td>\n",
       "    </tr>\n",
       "    <tr>\n",
       "      <th>4789</th>\n",
       "      <td>05/13/19</td>\n",
       "      <td>133.0</td>\n",
       "      <td>unknown</td>\n",
       "      <td>False</td>\n",
       "      <td>False</td>\n",
       "      <td>[1:FlashGameInterfacePop_t#off_line_report, 1:...</td>\n",
       "      <td>0.0</td>\n",
       "      <td>70.0</td>\n",
       "      <td>5cadf9bfc15e00677f64d393</td>\n",
       "      <td>DE</td>\n",
       "    </tr>\n",
       "    <tr>\n",
       "      <th>5188</th>\n",
       "      <td>05/14/19</td>\n",
       "      <td>134.0</td>\n",
       "      <td>unknown</td>\n",
       "      <td>False</td>\n",
       "      <td>False</td>\n",
       "      <td>[1:FlashRecommendedPackage_t#recommended_packa...</td>\n",
       "      <td>0.0</td>\n",
       "      <td>117.0</td>\n",
       "      <td>5cadf9bfc15e00677f64d393</td>\n",
       "      <td>DE</td>\n",
       "    </tr>\n",
       "    <tr>\n",
       "      <th>5545</th>\n",
       "      <td>05/14/19</td>\n",
       "      <td>134.0</td>\n",
       "      <td>unknown</td>\n",
       "      <td>False</td>\n",
       "      <td>True</td>\n",
       "      <td>[1:FlashGameInterfacePop_t#off_line_report, 1:...</td>\n",
       "      <td>0.0</td>\n",
       "      <td>498.0</td>\n",
       "      <td>5cadf9bfc15e00677f64d393</td>\n",
       "      <td>DE</td>\n",
       "    </tr>\n",
       "    <tr>\n",
       "      <th>6461</th>\n",
       "      <td>05/15/19</td>\n",
       "      <td>135.0</td>\n",
       "      <td>de</td>\n",
       "      <td>False</td>\n",
       "      <td>False</td>\n",
       "      <td>[1:FlashRecommendedPackage_t#recommended_packa...</td>\n",
       "      <td>0.0</td>\n",
       "      <td>247.0</td>\n",
       "      <td>5cadf9bfc15e00677f64d393</td>\n",
       "      <td>DE</td>\n",
       "    </tr>\n",
       "    <tr>\n",
       "      <th>6627</th>\n",
       "      <td>05/15/19</td>\n",
       "      <td>135.0</td>\n",
       "      <td>de</td>\n",
       "      <td>False</td>\n",
       "      <td>False</td>\n",
       "      <td>[1:FlashRecommendedPackage_t#recommended_packa...</td>\n",
       "      <td>0.0</td>\n",
       "      <td>181.0</td>\n",
       "      <td>5cadf9bfc15e00677f64d393</td>\n",
       "      <td>DE</td>\n",
       "    </tr>\n",
       "    <tr>\n",
       "      <th>7573</th>\n",
       "      <td>05/16/19</td>\n",
       "      <td>136.0</td>\n",
       "      <td>de</td>\n",
       "      <td>False</td>\n",
       "      <td>False</td>\n",
       "      <td>[1:FlashGameInterfacePop_t#off_line_report, 1:...</td>\n",
       "      <td>0.0</td>\n",
       "      <td>378.0</td>\n",
       "      <td>5cadf9bfc15e00677f64d393</td>\n",
       "      <td>DE</td>\n",
       "    </tr>\n",
       "    <tr>\n",
       "      <th>7804</th>\n",
       "      <td>05/16/19</td>\n",
       "      <td>136.0</td>\n",
       "      <td>de</td>\n",
       "      <td>False</td>\n",
       "      <td>False</td>\n",
       "      <td>[1:FlashGameInterfacePop_t#off_line_report, 1:...</td>\n",
       "      <td>0.0</td>\n",
       "      <td>31.0</td>\n",
       "      <td>5cadf9bfc15e00677f64d393</td>\n",
       "      <td>DE</td>\n",
       "    </tr>\n",
       "    <tr>\n",
       "      <th>10823</th>\n",
       "      <td>05/17/19</td>\n",
       "      <td>137.0</td>\n",
       "      <td>de</td>\n",
       "      <td>False</td>\n",
       "      <td>False</td>\n",
       "      <td>[1:FlashRecommendedPackage_t#recommended_packa...</td>\n",
       "      <td>0.0</td>\n",
       "      <td>207.0</td>\n",
       "      <td>5cadf9bfc15e00677f64d393</td>\n",
       "      <td>DE</td>\n",
       "    </tr>\n",
       "    <tr>\n",
       "      <th>11843</th>\n",
       "      <td>05/17/19</td>\n",
       "      <td>137.0</td>\n",
       "      <td>de</td>\n",
       "      <td>False</td>\n",
       "      <td>False</td>\n",
       "      <td>[1:FlashRecommendedPackage_t#recommended_packa...</td>\n",
       "      <td>0.0</td>\n",
       "      <td>73.0</td>\n",
       "      <td>5cadf9bfc15e00677f64d393</td>\n",
       "      <td>DE</td>\n",
       "    </tr>\n",
       "    <tr>\n",
       "      <th>15711</th>\n",
       "      <td>05/18/19</td>\n",
       "      <td>138.0</td>\n",
       "      <td>de</td>\n",
       "      <td>False</td>\n",
       "      <td>False</td>\n",
       "      <td>[1:FlashGameInterfacePop_t#off_line_report, 1:...</td>\n",
       "      <td>0.0</td>\n",
       "      <td>197.0</td>\n",
       "      <td>5cadf9bfc15e00677f64d393</td>\n",
       "      <td>DE</td>\n",
       "    </tr>\n",
       "    <tr>\n",
       "      <th>16161</th>\n",
       "      <td>05/18/19</td>\n",
       "      <td>138.0</td>\n",
       "      <td>de</td>\n",
       "      <td>False</td>\n",
       "      <td>False</td>\n",
       "      <td>[1:FlashRecommendedPackage_t#recommended_packa...</td>\n",
       "      <td>0.0</td>\n",
       "      <td>118.0</td>\n",
       "      <td>5cadf9bfc15e00677f64d393</td>\n",
       "      <td>DE</td>\n",
       "    </tr>\n",
       "    <tr>\n",
       "      <th>20554</th>\n",
       "      <td>05/19/19</td>\n",
       "      <td>139.0</td>\n",
       "      <td>de</td>\n",
       "      <td>False</td>\n",
       "      <td>False</td>\n",
       "      <td>[1:FlashGameInterfacePop_t#off_line_report, 1:...</td>\n",
       "      <td>0.0</td>\n",
       "      <td>632.0</td>\n",
       "      <td>5cadf9bfc15e00677f64d393</td>\n",
       "      <td>DE</td>\n",
       "    </tr>\n",
       "    <tr>\n",
       "      <th>21606</th>\n",
       "      <td>05/19/19</td>\n",
       "      <td>139.0</td>\n",
       "      <td>de</td>\n",
       "      <td>False</td>\n",
       "      <td>False</td>\n",
       "      <td>[1:FlashRecommendedPackage_t#recommended_packa...</td>\n",
       "      <td>0.0</td>\n",
       "      <td>11.0</td>\n",
       "      <td>5cadf9bfc15e00677f64d393</td>\n",
       "      <td>DE</td>\n",
       "    </tr>\n",
       "    <tr>\n",
       "      <th>26853</th>\n",
       "      <td>05/20/19</td>\n",
       "      <td>140.0</td>\n",
       "      <td>de</td>\n",
       "      <td>False</td>\n",
       "      <td>False</td>\n",
       "      <td>[1:FlashGameInterfacePop_t#off_line_report, 1:...</td>\n",
       "      <td>0.0</td>\n",
       "      <td>598.0</td>\n",
       "      <td>5cadf9bfc15e00677f64d393</td>\n",
       "      <td>DE</td>\n",
       "    </tr>\n",
       "    <tr>\n",
       "      <th>27651</th>\n",
       "      <td>05/20/19</td>\n",
       "      <td>140.0</td>\n",
       "      <td>de</td>\n",
       "      <td>False</td>\n",
       "      <td>False</td>\n",
       "      <td>[1:FlashGuide_t#chapter_animation, 1:FlashReco...</td>\n",
       "      <td>0.0</td>\n",
       "      <td>98.0</td>\n",
       "      <td>5cadf9bfc15e00677f64d393</td>\n",
       "      <td>DE</td>\n",
       "    </tr>\n",
       "  </tbody>\n",
       "</table>\n",
       "</div>"
      ],
      "text/plain": [
       "            date  day_index dev_lang has_gold_brick_consumption  \\\n",
       "317     05/08/19      128.0  unknown                       True   \n",
       "393     05/08/19      128.0  unknown                      False   \n",
       "1029    05/09/19      129.0  unknown                      False   \n",
       "1243    05/09/19      129.0  unknown                      False   \n",
       "2070    05/10/19      130.0  unknown                      False   \n",
       "2160    05/10/19      130.0  unknown                      False   \n",
       "2922    05/11/19      131.0  unknown                      False   \n",
       "2930    05/11/19      131.0  unknown                      False   \n",
       "3700    05/12/19      132.0  unknown                      False   \n",
       "3884    05/12/19      132.0  unknown                      False   \n",
       "4687    05/13/19      133.0  unknown                      False   \n",
       "4789    05/13/19      133.0  unknown                      False   \n",
       "5188    05/14/19      134.0  unknown                      False   \n",
       "5545    05/14/19      134.0  unknown                      False   \n",
       "6461    05/15/19      135.0       de                      False   \n",
       "6627    05/15/19      135.0       de                      False   \n",
       "7573    05/16/19      136.0       de                      False   \n",
       "7804    05/16/19      136.0       de                      False   \n",
       "10823   05/17/19      137.0       de                      False   \n",
       "11843   05/17/19      137.0       de                      False   \n",
       "15711   05/18/19      138.0       de                      False   \n",
       "16161   05/18/19      138.0       de                      False   \n",
       "20554   05/19/19      139.0       de                      False   \n",
       "21606   05/19/19      139.0       de                      False   \n",
       "26853   05/20/19      140.0       de                      False   \n",
       "27651   05/20/19      140.0       de                      False   \n",
       "\n",
       "      has_iap_attempt                                                ops  \\\n",
       "317             False  [1:FlashRecommendedPackage_t#recommended_packa...   \n",
       "393             False  [1:FlashRecommendedPackage_t#recommended_packa...   \n",
       "1029            False  [1:FlashGameInterfacePop_t#off_line_report, 1:...   \n",
       "1243            False  [1:FlashRecommendedPackage_t#recommended_packa...   \n",
       "2070            False  [1:FlashGameInterfacePop_t#off_line_report, 1:...   \n",
       "2160            False  [1:FlashGameInterfacePop_t#off_line_report, 1:...   \n",
       "2922            False  [1:FlashRecommendedPackage_t#recommended_packa...   \n",
       "2930            False  [1:FlashGameInterfacePop_t#off_line_report, 1:...   \n",
       "3700            False  [1:FlashRecommendedPackage_t#recommended_packa...   \n",
       "3884            False  [1:FlashGameInterfacePop_t#off_line_report, 1:...   \n",
       "4687            False  [1:FlashGameInterfacePop_t#off_line_report, 1:...   \n",
       "4789            False  [1:FlashGameInterfacePop_t#off_line_report, 1:...   \n",
       "5188            False  [1:FlashRecommendedPackage_t#recommended_packa...   \n",
       "5545             True  [1:FlashGameInterfacePop_t#off_line_report, 1:...   \n",
       "6461            False  [1:FlashRecommendedPackage_t#recommended_packa...   \n",
       "6627            False  [1:FlashRecommendedPackage_t#recommended_packa...   \n",
       "7573            False  [1:FlashGameInterfacePop_t#off_line_report, 1:...   \n",
       "7804            False  [1:FlashGameInterfacePop_t#off_line_report, 1:...   \n",
       "10823           False  [1:FlashRecommendedPackage_t#recommended_packa...   \n",
       "11843           False  [1:FlashRecommendedPackage_t#recommended_packa...   \n",
       "15711           False  [1:FlashGameInterfacePop_t#off_line_report, 1:...   \n",
       "16161           False  [1:FlashRecommendedPackage_t#recommended_packa...   \n",
       "20554           False  [1:FlashGameInterfacePop_t#off_line_report, 1:...   \n",
       "21606           False  [1:FlashRecommendedPackage_t#recommended_packa...   \n",
       "26853           False  [1:FlashGameInterfacePop_t#off_line_report, 1:...   \n",
       "27651           False  [1:FlashGuide_t#chapter_animation, 1:FlashReco...   \n",
       "\n",
       "       spent  ui_num                   user_id country  \n",
       "317      0.0   376.0  5cadf9bfc15e00677f64d393      DE  \n",
       "393      0.0    26.0  5cadf9bfc15e00677f64d393      DE  \n",
       "1029     0.0   340.0  5cadf9bfc15e00677f64d393      DE  \n",
       "1243     0.0   168.0  5cadf9bfc15e00677f64d393      DE  \n",
       "2070     0.0   170.0  5cadf9bfc15e00677f64d393      DE  \n",
       "2160     0.0    68.0  5cadf9bfc15e00677f64d393      DE  \n",
       "2922     0.0    20.0  5cadf9bfc15e00677f64d393      DE  \n",
       "2930     0.0   994.0  5cadf9bfc15e00677f64d393      DE  \n",
       "3700     0.0   459.0  5cadf9bfc15e00677f64d393      DE  \n",
       "3884     0.0    57.0  5cadf9bfc15e00677f64d393      DE  \n",
       "4687     0.0   352.0  5cadf9bfc15e00677f64d393      DE  \n",
       "4789     0.0    70.0  5cadf9bfc15e00677f64d393      DE  \n",
       "5188     0.0   117.0  5cadf9bfc15e00677f64d393      DE  \n",
       "5545     0.0   498.0  5cadf9bfc15e00677f64d393      DE  \n",
       "6461     0.0   247.0  5cadf9bfc15e00677f64d393      DE  \n",
       "6627     0.0   181.0  5cadf9bfc15e00677f64d393      DE  \n",
       "7573     0.0   378.0  5cadf9bfc15e00677f64d393      DE  \n",
       "7804     0.0    31.0  5cadf9bfc15e00677f64d393      DE  \n",
       "10823    0.0   207.0  5cadf9bfc15e00677f64d393      DE  \n",
       "11843    0.0    73.0  5cadf9bfc15e00677f64d393      DE  \n",
       "15711    0.0   197.0  5cadf9bfc15e00677f64d393      DE  \n",
       "16161    0.0   118.0  5cadf9bfc15e00677f64d393      DE  \n",
       "20554    0.0   632.0  5cadf9bfc15e00677f64d393      DE  \n",
       "21606    0.0    11.0  5cadf9bfc15e00677f64d393      DE  \n",
       "26853    0.0   598.0  5cadf9bfc15e00677f64d393      DE  \n",
       "27651    0.0    98.0  5cadf9bfc15e00677f64d393      DE  "
      ]
     },
     "execution_count": 94,
     "metadata": {},
     "output_type": "execute_result"
    }
   ],
   "source": [
    "parsed_data.loc[parsed_data[\"user_id\"]\n",
    "                                  == \"5cadf9bfc15e00677f64d393\"]"
   ]
  },
  {
   "cell_type": "code",
   "execution_count": null,
   "metadata": {},
   "outputs": [],
   "source": []
  }
 ],
 "metadata": {
  "kernelspec": {
   "display_name": "Python 3",
   "language": "python",
   "name": "python3"
  },
  "language_info": {
   "codemirror_mode": {
    "name": "ipython",
    "version": 3
   },
   "file_extension": ".py",
   "mimetype": "text/x-python",
   "name": "python",
   "nbconvert_exporter": "python",
   "pygments_lexer": "ipython3",
   "version": "3.6.7"
  },
  "toc": {
   "base_numbering": 1,
   "nav_menu": {},
   "number_sections": true,
   "sideBar": true,
   "skip_h1_title": false,
   "title_cell": "Table of Contents",
   "title_sidebar": "Contents",
   "toc_cell": false,
   "toc_position": {},
   "toc_section_display": true,
   "toc_window_display": true
  }
 },
 "nbformat": 4,
 "nbformat_minor": 2
}
