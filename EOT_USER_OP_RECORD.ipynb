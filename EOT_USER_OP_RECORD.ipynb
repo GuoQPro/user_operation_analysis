{
 "cells": [
  {
   "cell_type": "code",
   "execution_count": 1,
   "metadata": {},
   "outputs": [
    {
     "data": {
      "text/html": [
       "<script>jQuery(function() {if (jQuery(\"body.notebook_app\").length == 0) { jQuery(\".input_area\").toggle(); jQuery(\".prompt\").toggle();}});</script>"
      ]
     },
     "metadata": {},
     "output_type": "display_data"
    },
    {
     "data": {
      "text/html": [
       "<button onclick=\"jQuery('.input_area').toggle(); jQuery('.prompt').toggle();\">Toggle code</button>"
      ]
     },
     "metadata": {},
     "output_type": "display_data"
    }
   ],
   "source": [
    "import pandas as pd;\n",
    "import numpy as np;\n",
    "import util.py_data_analysis_util.data_analysis as da;\n",
    "import util.py_data_analysis_util.py_util as pu;\n",
    "import matplotlib.pyplot as plt;\n",
    "import seaborn as sns;\n",
    "sns.set();\n",
    "da.ignore_warnings();\n",
    "da.enable_ipythonnb_code_toggle();"
   ]
  },
  {
   "cell_type": "markdown",
   "metadata": {},
   "source": [
    "## 读取原始数据"
   ]
  },
  {
   "cell_type": "code",
   "execution_count": 2,
   "metadata": {},
   "outputs": [],
   "source": [
    "dataset = pd.read_csv(\"user_operations.csv\");"
   ]
  },
  {
   "cell_type": "markdown",
   "metadata": {},
   "source": [
    "## 数据说明\n",
    "- 按照玩家**当地时间**一天为一个记录单元\n",
    "- 每次玩家登录游戏的时，会发送当天之前的记录到服务器。所以:\n",
    "    1. 如果玩家流失，最后一天的数据会缺失。\n",
    "    2. 如果玩家第一天流失，会没有这个玩家的记录。\n",
    "- 目前记录了四种类型事件：\n",
    "    1. UI打开事件\n",
    "    2. 尝试IAP\n",
    "    3. IAP成功\n",
    "    4. 购买金砖礼包成功\n",
    "    5. (考虑增加出征成功)\n",
    "\n",
    "- "
   ]
  },
  {
   "cell_type": "markdown",
   "metadata": {},
   "source": [
    "## 相关配置"
   ]
  },
  {
   "cell_type": "code",
   "execution_count": 3,
   "metadata": {},
   "outputs": [],
   "source": [
    "NEW_LINE = \"\\n\""
   ]
  },
  {
   "cell_type": "code",
   "execution_count": 52,
   "metadata": {},
   "outputs": [],
   "source": [
    "## predefined operation types\n",
    "OP_TYPE_OPEN_UI = 1 \n",
    "OP_TYPE_IAP_SUCC = 2\n",
    "OP_TYPE_IAP_ATTEMPT = 3\n",
    "OP_TYPE_BUY_COIN_ITEM = 4\n",
    "\n",
    "IGNORE_LIST = {\n",
    "    \"FlashGameTopMenu_t#get_items.pop\",\n",
    "    \"FlashGuide_t#btn_blank\",\n",
    "    \"FlashGameTopMenu_t#pop_text_small\",\n",
    "    \"FlashGameTopMenu_t#get_items_small\",\n",
    "    \"FlashGameItemBagPop#this\",\n",
    "    \"FlashGameTopMenu_t#you_got_prize\",\n",
    "    \"FlashGameTopMenu_t#pay\",\n",
    "    \"FlashGuide_t#fade_in\",\n",
    "    \"FlashGuide_t#fade_out\",\n",
    "    \"FlashPappasPop_t#animation_victory\",\n",
    "    \"FlashGuide_t#guide_tap_hint\",\n",
    "};\n",
    "\n",
    "UI_DESCRIPTION = {\n",
    "    \"FlashShopMain_t#shop_all\":\"商店主页\",\n",
    "    \"FlashMarchPreparation_t#march_reinforce\":\"出征选兵界面\",\n",
    "    \"FlashMarchPreparationPop_t#choose_hero\":\"出征界面选择英雄弹窗\",\n",
    "    \"FlashRecommendedPackage_t#recommended_package\":\"推荐礼包\",\n",
    "    \"FlashGameUIHero#hero_main\":\"英雄列表\",\n",
    "    \"FlashGameMail_t#interface_mails\":\"邮件首页\",\n",
    "    \"FlashChattingMenu_t#chat\":\"聊天\",\n",
    "    \"FlashGameMail_t#menu_2\":\"邮件2级列表\",\n",
    "    \"FlashBuildingUpgrade_t#buildings_upgrade\":\"建筑升级\",\n",
    "    \"FlashBuildingBarrack_t#barracks_train\":\"造兵/造塔\",\n",
    "    \"FlashGameLeagueMain_t#league_main\":\"联盟主页\",\n",
    "    \"FlashGameItemBag#items\":\"背包\",\n",
    "    \"FlashGameUIHero#hero_details\":\"英雄详情\",\n",
    "    \"FlashGameTopMenu_t#not_enough_resources\":\"资源不足弹窗\",\n",
    "    \"FlashWildPop_t#monster_info\":\"野怪详情\",\n",
    "    \"FlashBuildingMenu_t#black_market\":\"黑市\",\n",
    "    \"FlashGameUIEventCenterMenu_t#event_center\":\"活动中心\",\n",
    "    \"FlashFirstRechargeMenu_t#first_recharge\":\"首冲\",\n",
    "    \"FlashFirstRechargeMenu_t#new_server_celebrate\":\"开服7天乐\",\n",
    "    \"FlashBuildingPop_t#speed_up_building\":\"使用建筑加速道具弹窗\",\n",
    "    \"FlashBuildingMenu_t#hospital_cure\":\"医院治疗\",\n",
    "    \"FlashGameUILeagueTreasure#alliance_treasures\":\"联盟宝藏\",\n",
    "    \"FlashGameUIHeroPop#upgrade_equipment\":\"英雄装备升级\",\n",
    "    \"FlashGameLadder_t#arena_work\":\"竞技场\",\n",
    "    \"FlashQuestMenu_t#quest_all\":\"任务\",\n",
    "    \"FlashGameUnitEvolvementPop_t#pop_uprage\":\"士兵强化/解锁弹窗\",\n",
    "    \"FlashFortress_t#entrance\":\"要塞主页\",\n",
    "    \"FlashGameGetResource_t#this\":\"资源购买列表\",\n",
    "    \"FlashGameTopMenu_t#refill_energy\":\"购买体力弹窗\",\n",
    "    \"FlashWildPop_t#wreckage\":\"废墟\",\n",
    "    \"FlashScienceResearch_t#sciences\":\"个人科技主页\",\n",
    "    \"FlashScienceResearch_t#millitary_sciences\":\"个人科技:军事\",\n",
    "    \"FlashScienceResearch_t#development_sciences\":\"个人科技:发展\",\n",
    "    \"FlashScienceResearch_t#logistics_sciences\":\"个人科技:后勤\",\n",
    "    \"FlashScienceResearchPop_t#sciences_research\":\"个人科技详情弹窗\",\n",
    "    \"FlashGameInterfacePop_t#city_buff\":\"BUFF界面\",\n",
    "    \"FlashGameMailDetail_t#system_mails2\":\"系统邮件详情\",\n",
    "    \"FlashGameMailDetail_t#monster_hunting\":\"PVE战报\",\n",
    "    \"FlashGameUILeagueGift#league_gift\":\"联盟礼物\",\n",
    "    \"FlashGameUILeagueTechnology#alliance_sciences\":\"联盟科技\",\n",
    "    \"FlashGameMailDetail_t#pvp_report\":\"PVP战报\",\n",
    "    \"FlashBuildingMenu_t#exchange_res\":\"资源补给站\",\n",
    "    \"FlashGameUIHeroPop#evolve\":\"英雄进化\",\n",
    "    \"FlashGameUIHeroPop#star_up\":\"英雄升星\",\n",
    "    \"FlashBuildingMenu_t#quiz\":\"小测验\",\n",
    "    \"FlashGuide_t#guide_dialog\":\"引导对话\",\n",
    "    \"FlashLeagueBattle_t#alliance_battle\":\"联盟战争\",\n",
    "    \"FlashGameInterfacePop_t#attack_warnings\":\"攻击预警\",\n",
    "    \"FlashGameUIHeroPop#add_exp\":\"经验药水\",\n",
    "    \"FlashGameMailDetail_t#personal_information\":\"私聊\",\n",
    "    \"FlashGameUILeagueShop#league_store\":\"联盟商店\",\n",
    "    \"FlashLottery#lucky_card\":\"抽卡\",\n",
    "    \"FlashBuildingMenu_t#army_overview\":\"兵力一览\",\n",
    "    \"FlashLordPop_t#setting_langueage\":\"游戏语言设置\",\n",
    "    \"FlashLordInfo_t#settings_main\":\"设置\",\n",
    "    \"FlashGameMailDetail_t#scouting_report\":\"侦察报告\",\n",
    "    \"FlashGameSoulSkill#soul_skills\":\"魂技\",\n",
    "    \"FlashGameTopMenu_t#exchange_gems\":\"金砖换宝石\",\n",
    "    \"FlashBattleReplay_t#this\":\"战斗录像\",\n",
    "    \"FlashGameLeagueManagement_t#league_management\":\"联盟管理\",\n",
    "    \"FlashLeagueMember_t#league_members\":\"联盟成员\",\n",
    "    \"FlashGameInterfacePop_t#off_line_report\":\"离线报告\",\n",
    "    \"FlashGameUnitEvolvement_t#unit_evolvement\":\"士兵强化首页\",\n",
    "    \"FlashShopPop_t#subscription_gold_bricks\":\"订阅：金砖\",\n",
    "    \"FlashShopPop_t#subscription_daily_pack\":\"订阅：每日礼包\",\n",
    "    \"FlashWelfare_t#welfare_all\":\"福利(签到/投资)\",\n",
    "    \"FlashBuildingMenu_t#city_overview\":\"城市信息总览\",\n",
    "    \"FlashLordInfo_t#alliance_monarch\":\"玩家个人信息\",\n",
    "    \"FlashGameTopMenu_t#speed_up_marching\":\"使用加速道具/buff详情\",\n",
    "    \"FlashGameTopMenu_t#pop_find\":\"材料获取途径弹窗\",\n",
    "    \"FlashQuestMenu_t#story_line\":\"剧情界面\",\n",
    "    \"FlashLeaguePop_t#donate\":\"联盟科技捐献弹窗\",\n",
    "    \"FlashLordInfo_t#interface_kings_information\":\"非同盟玩家信息\",\n",
    "    \"FlashLordInfo_t#interface_kings_information2\":\"同盟玩家信息\",\n",
    "    \"FlashGameUIRank#might_information\":\"排行榜主页面\",\n",
    "    \"FlashGameUIRankDetail#alliance_might_rank\":\"排行榜详情\",\n",
    "    \"FlashGameUIHeroPop#hero_stats\":\"英雄状态弹窗\",\n",
    "    \"FlashGameUIEvilCave#gve_evil_cave\":\"联盟探险首页\",\n",
    "    \"FlashGameUIEvilCave#gve\":\"联盟探险准备/战斗中\",\n",
    "    \"FlashGameUIEvilCave#gve_choose_level\":\"联盟探险选关\",\n",
    "    \"FlashGameUIEvilCavePop#gve_clearing\":\"联盟探险结果\",\n",
    "    \"FlashLordPop_t#interface_change_avatar2\":\"更改头像/头像框\",\n",
    "    \"FlashLeaguePop_t#interface_alliance\":\"联盟信息弹窗\",\n",
    "    \"FlashGameInterfacePop_t#discovery_details\":\"基地车详情\",\n",
    "    \"FlashGameInterfacePop_t#discovery_equipment_details\":\"基地车零件升级\",\n",
    "    \"FlashGameLadderPop_t#rank_board\":\"竞技场排名\",\n",
    "    \"FlashLeaguePop_t#pop_reward\":\"查看每日任务奖励/领奖\",\n",
    "    \"FlashGameTopMenu_t#pack_content\":\"查看礼包内物品信息\",\n",
    "    \"FlashPappas_t#demon_portal\":\"避难所首页\",\n",
    "    \"FlashPappasPop_t#enemy_details\":\"避难所关卡详情\",\n",
    "    \"FlashBuildingMenu_t#appoint\":\"英雄任命\",\n",
    "    \"FlashGameUIHeroPop#skill_details\":\"技能详情\",\n",
    "    \"FlashWildPop_t#pop_container\":\"能源箱信息\",\n",
    "    \"FlashLottery#lottery\":\"大乐透\",\n",
    "    \"FlashWildPop_t#find_resources\":\"查找地图资源\",\n",
    "    \"FlashBuildingBarrack_t#rank_up_unit\":\"士兵进阶列表\",\n",
    "    \"FlashBuildingBarrackPop_t#rank_up_unit\":\"士兵进阶详情弹窗\",\n",
    "    \"FlashBuildingPop_t#building_details\":\"建筑详情\",\n",
    "}\n",
    "\n",
    "CHEST_ITEMS = [18501,18502,18503,18504,18505,18506,18507,18508,18509,18510,18511,18512,18520,\n",
    "               18521,18522,18523,18524,18525,18526,18527,18528,18529,18530,18531,18532,18533,\n",
    "               18534,18535,18536,18537,18538,18539,18540,18541,18542,18543,18544,18545,18546,\n",
    "               18547,18548,18549,18550,18551,18552,18553,18554,18555,18556,18557,18558,18701,\n",
    "               18702,18703,18704,18705,18706,18707,18708,18709,18710,18711,18712,18713,18714,\n",
    "               18715,18716,18717,18718,18719,18720,18721,18722,18723,18724,18725,18726,18727,\n",
    "               18728,18729,18730,18731,18732,18733,18734,18735,18736,18737,18738,18739,18740,\n",
    "               18741,18742,18743,18744,18745,18746,18747,18748,18749,18750,18751,18752,18753,\n",
    "               18754,18755,18756,18757,18758,18759,18760,18761,18762,18763,18764,18765,18766,\n",
    "               18767,18768,18769,18770,18771,18772,18773,18774,18775,18776,18777,18778,18779,\n",
    "               18780,18781,18782,18783,18784,18785,18786,18787,18788,18789,18790,18791,18792,\n",
    "               18793,18794,18795,18796,18797,18798,18799,18800,18801,18802,18803,18804,18805,\n",
    "               18806,18807,18808,18809,18810,18811,18812,18813,18814,18815,18816,18817,18818,\n",
    "               18819,18820,18821,18822,18823,18824,18825,18826,18827,18828,18829,18830,18831,\n",
    "               18832,18833,18834,18835,18836,18837,18838,18839,18840,18841,18842,18843,18844,\n",
    "               18845,18846,18847,18848,18849,18850,18851,18852,18853,18854,18855,18856,18857,\n",
    "               18858,18859,18860,18861,18862,18863,18864,18865,18866,18867,18868,18869,18870,\n",
    "               18871,18872,18873,18874,18875,18876,18877,18878,18879,18880,18881,18882,18883,\n",
    "               18884,18885,18886,18887,18888,18889,18890,18891,18892,18893];\n",
    "\n",
    "def is_ignored_ui(ui_name):\n",
    "    return ui_name in IGNORE_LIST;\n",
    "\n",
    "def get_ui_desc_by_name(ui_name):\n",
    "    if ui_name in UI_DESCRIPTION:\n",
    "        return UI_DESCRIPTION[ui_name];\n",
    "    else:\n",
    "        return ui_name;\n",
    "    \n",
    "def is_chest_item(item_id):\n",
    "    chest_id = int(item_id);\n",
    "    return chest_id in CHEST_ITEMS;"
   ]
  },
  {
   "cell_type": "code",
   "execution_count": 5,
   "metadata": {},
   "outputs": [],
   "source": [
    "def generate_ui_table(ui_table_array):\n",
    "    match_table = {}\n",
    "    for i in ui_table_array:\n",
    "        args = i.split(\":\")\n",
    "        match_table[args[0].strip()] = int(args[1])\n",
    "        \n",
    "    return match_table;\n",
    "\n",
    "def get_ui_name_by_id(ui_table, id):\n",
    "    for k, v in ui_table.items():\n",
    "        if v == id:\n",
    "            return k\n",
    "\n",
    "def parse_record(record):\n",
    "    SEQUENCE_PREFIX = \"op_seq: \";\n",
    "    UI_TABLE_PREFIX = (\"ui:\" + NEW_LINE);\n",
    "    TOTAL_SPENT_PREFIX = \"spent: \";\n",
    "    DATE_PREFIX = \"date: \";\n",
    "    USERID_PREFIX = \"user_id: \";\n",
    "    LANG_PREFIX = \"device_lang: \";\n",
    "    \n",
    "    op_seq_start = record.find(SEQUENCE_PREFIX);\n",
    "    \n",
    "    if op_seq_start == -1:\n",
    "        return\n",
    "    \n",
    "    lang_start = record.find(LANG_PREFIX);\n",
    "    dev_lang = \"unknown\";\n",
    "    if lang_start != -1:\n",
    "        lang_start += len(LANG_PREFIX);\n",
    "        dev_lang = record[lang_start:op_seq_start].strip(NEW_LINE);\n",
    "        \n",
    "    op_seq_start += len(SEQUENCE_PREFIX)\n",
    "    ui_table_start = record.find(UI_TABLE_PREFIX)\n",
    "    \n",
    "    if ui_table_start == -1:\n",
    "        return\n",
    "    \n",
    "    spent_start = record.find(TOTAL_SPENT_PREFIX)\n",
    "    date_start = record.find(DATE_PREFIX)\n",
    "    userid_start = record.find(USERID_PREFIX)\n",
    "    \n",
    "    if spent_start == -1:\n",
    "        return\n",
    "    \n",
    "    if date_start == -1:\n",
    "        return\n",
    "    \n",
    "    if userid_start == -1:\n",
    "        return\n",
    "    \n",
    "    op_seq_array = record[op_seq_start:ui_table_start].strip(NEW_LINE)[:-1].split(\"#\")\n",
    "    ui_table_start += len(UI_TABLE_PREFIX)\n",
    "    ui_table_array = record[ui_table_start:spent_start].splitlines()\n",
    "    total_spent = float(record[spent_start:date_start].strip(NEW_LINE).split(\":\")[1])\n",
    "    date = record[date_start:userid_start].strip(NEW_LINE).split(\":\")[1]\n",
    "    user_id = record[userid_start:-1].strip(NEW_LINE).split(\":\")[1].strip()\n",
    "    \n",
    "    ui_table = generate_ui_table(ui_table_array)\n",
    "    \n",
    "    new_op_array = []\n",
    "    \n",
    "    ui_num = 0;\n",
    "    has_iap_attempt = False;\n",
    "    has_gold_brick_consumption = False;\n",
    "    for i in op_seq_array:\n",
    "        op_args = i.split(\":\")\n",
    "        op_type = int(op_args[0])\n",
    "        if op_type == OP_TYPE_OPEN_UI:\n",
    "            ui_id = int(op_args[1])\n",
    "            ui_name = get_ui_name_by_id(ui_table, ui_id)\n",
    "            if not is_ignored_ui(ui_name):\n",
    "                new_op_array.append(str(OP_TYPE_OPEN_UI) + \":\" + ui_name);\n",
    "                ui_num += 1;\n",
    "        elif op_type == OP_TYPE_IAP_ATTEMPT:\n",
    "            new_op_array.append(i);\n",
    "            has_iap_attempt = True;\n",
    "        elif op_type == OP_TYPE_BUY_COIN_ITEM:\n",
    "            new_op_array.append(i);\n",
    "            has_gold_brick_consumption = True;\n",
    "        else:\n",
    "            new_op_array.append(i);\n",
    "    \n",
    "    \n",
    "    return pd.DataFrame(data = {\n",
    "        \"user_id\":[user_id],\n",
    "        \"date\":[date],\n",
    "        \"day_index\":[pu.convert_datestring_to_day_num(date)],\n",
    "        \"spent\":[total_spent], \n",
    "        \"ops\":[new_op_array],\n",
    "        \"ui_num\":[ui_num],\n",
    "        \"dev_lang\":[dev_lang],\n",
    "        \"has_iap_attempt\":[has_iap_attempt],\n",
    "        \"has_gold_brick_consumption\":[has_gold_brick_consumption],\n",
    "    });\n",
    "  "
   ]
  },
  {
   "cell_type": "markdown",
   "metadata": {},
   "source": [
    "## 原始数据解析"
   ]
  },
  {
   "cell_type": "code",
   "execution_count": 6,
   "metadata": {},
   "outputs": [],
   "source": [
    "parsed_data = pd.DataFrame(data = {\n",
    "    \"user_id\":[],\n",
    "    \"date\":[], \n",
    "    \"spent\":[], \n",
    "    \"ops\":[]\n",
    "});\n",
    "\n",
    "def parse_origin_data(content):\n",
    "    global parsed_data;\n",
    "    parsed_data = parsed_data.append(parse_record(content), ignore_index = True);\n",
    "\n",
    "dataset[\"content\"].apply(lambda x: parse_origin_data(x));"
   ]
  },
  {
   "cell_type": "markdown",
   "metadata": {},
   "source": [
    "--- "
   ]
  },
  {
   "cell_type": "markdown",
   "metadata": {},
   "source": [
    "## 数据分析"
   ]
  },
  {
   "cell_type": "markdown",
   "metadata": {},
   "source": [
    "### UI统计概况"
   ]
  },
  {
   "cell_type": "code",
   "execution_count": 24,
   "metadata": {},
   "outputs": [
    {
     "name": "stdout",
     "output_type": "stream",
     "text": [
      "总数据条数: 28299.0/人天\n",
      "UI 平均打开次数 366.1次/天\n",
      "UI 最大打开次数 5202.0次/天\n"
     ]
    }
   ],
   "source": [
    "ui_statistical_info = parsed_data[\"ui_num\"].describe()\n",
    "print(\"总数据条数: {}/人天\".format(ui_statistical_info[\"count\"]))\n",
    "print(\"UI 平均打开次数 {:.1f}次/天\".format(ui_statistical_info[\"mean\"]))\n",
    "print(\"UI 最大打开次数 {:.1f}次/天\".format(ui_statistical_info[\"max\"]))"
   ]
  },
  {
   "cell_type": "markdown",
   "metadata": {},
   "source": [
    "### UI打开次数分布(人/天)"
   ]
  },
  {
   "cell_type": "code",
   "execution_count": 9,
   "metadata": {},
   "outputs": [
    {
     "data": {
      "image/png": "[encoded data removed]",
      "text/plain": [
       "<Figure size 1080x360 with 1 Axes>"
      ]
     },
     "metadata": {
      "needs_background": "light"
     },
     "output_type": "display_data"
    }
   ],
   "source": [
    "plt.figure(figsize = (15, 5));\n",
    "ax = sns.distplot(parsed_data[\"ui_num\"], kde = False, bins = 150);\n",
    "ax.set(ylabel = \"record number\", xlabel = \"ui open times\");"
   ]
  },
  {
   "cell_type": "markdown",
   "metadata": {},
   "source": [
    "### 单个UI访问次数"
   ]
  },
  {
   "cell_type": "code",
   "execution_count": 10,
   "metadata": {},
   "outputs": [],
   "source": [
    "ui_access_times = {}\n",
    "def count_ui_access_times(ops):\n",
    "    global ui_access_times;\n",
    "    for i in ops:\n",
    "        args = i.split(\":\");\n",
    "        op_type = int(args[0]);\n",
    "        if op_type == OP_TYPE_OPEN_UI:\n",
    "            if args[1] not in ui_access_times:\n",
    "                ui_access_times[args[1]] = 0;\n",
    "            ui_access_times[args[1]] += 1;\n",
    "            \n",
    "parsed_data[\"ops\"].apply(lambda x: count_ui_access_times(x));\n",
    "df_ui_access_times = pd.DataFrame.from_dict(ui_access_times, orient='index', columns = [\"times\"]).sort_values(by = \"times\", ascending = False);"
   ]
  },
  {
   "cell_type": "code",
   "execution_count": 11,
   "metadata": {},
   "outputs": [
    {
     "name": "stdout",
     "output_type": "stream",
     "text": [
      "出征选兵界面                        \t    723592\n",
      "建筑升级                          \t    723053\n",
      "剧情界面                          \t    590789\n",
      "引导对话                          \t    557888\n",
      "士兵强化/解锁弹窗                     \t    445189\n",
      "造兵/造塔                         \t    394224\n",
      "野怪详情                          \t    322401\n",
      "邮件首页                          \t    307635\n",
      "邮件2级列表                        \t    260921\n",
      "使用建筑加速道具弹窗                    \t    255928\n",
      "聊天                            \t    226610\n",
      "英雄列表                          \t    215473\n",
      "英雄装备升级                        \t    212885\n",
      "联盟主页                          \t    190567\n",
      "避难所关卡详情                       \t    187045\n",
      "医院治疗                          \t    176635\n",
      "避难所首页                         \t    166394\n",
      "战斗录像                          \t    159832\n",
      "士兵强化首页                        \t    149765\n",
      "英雄详情                          \t    139418\n"
     ]
    }
   ],
   "source": [
    "TOP_N = 20;\n",
    "for index, row in df_ui_access_times.iloc[:TOP_N].iterrows():\n",
    "    print(\"{:<30}\\t{:>10}\".format(get_ui_desc_by_name(row.name), row.times))"
   ]
  },
  {
   "cell_type": "markdown",
   "metadata": {},
   "source": [
    "### TODO: 选兵界面的类型\n",
    "- 野怪\n",
    "- 竞技场\n",
    "- 避难所\n",
    "- 联盟探险\n",
    "- other(采集/pvp)"
   ]
  },
  {
   "cell_type": "code",
   "execution_count": 11,
   "metadata": {},
   "outputs": [],
   "source": [
    "# let's take care of \"FlashMarchPreparation_t#march_reinforce\"\n",
    "pre_ui_marching_preparation = {}\n",
    "def traverse_marching_preparation(ops):\n",
    "    pre_ui = None;\n",
    "    for i in ops:\n",
    "        args = i.split(\":\");\n",
    "        op_type = int(args[0])\n",
    "        if op_type == OP_TYPE_OPEN_UI:\n",
    "            if args[1] == \"FlashMarchPreparation_t#march_reinforce\":\n",
    "                if pre_ui is not None:\n",
    "                    if pre_ui not in pre_ui_marching_preparation:\n",
    "                        pre_ui_marching_preparation[pre_ui] = 0;\n",
    "                    pre_ui_marching_preparation[pre_ui] += 1;\n",
    "            else:\n",
    "                pre_ui = args[1];\n",
    "\n",
    "parsed_data[\"ops\"].apply(lambda x: traverse_marching_preparation(x));\n",
    "\n",
    "monster_attack_times = pre_ui_marching_preparation[\"FlashWildPop_t#monster_info\"];\n",
    "wreckage_mining_times = pre_ui_marching_preparation[\"FlashWildPop_t#wreckage\"];\n",
    "gve_times = pre_ui_marching_preparation[\"FlashGameUIEvilCave#gve\"] + pre_ui_marching_preparation[\"FlashGameUIEvilCave#gve_evil_cave\"];\n",
    "vault_times = pre_ui_marching_preparation[\"FlashPappasPop_t#enemy_details\"];\n",
    "arena_times = pre_ui_marching_preparation[\"FlashGameLadder_t#arena_work\"] + pre_ui_marching_preparation[\"FlashGameLadderPop_t#daily_chanllenges\"];\n"
   ]
  },
  {
   "cell_type": "code",
   "execution_count": 12,
   "metadata": {},
   "outputs": [
    {
     "name": "stdout",
     "output_type": "stream",
     "text": [
      "36.216096042685635\n",
      "3.565220906261369\n",
      "4.847945888408316\n",
      "18.40818141396176\n",
      "5.731166713825673\n"
     ]
    }
   ],
   "source": [
    "print(monster_attack_times / 148434 * 100);\n",
    "print(wreckage_mining_times / 148434 * 100);\n",
    "print(gve_times / 148434 * 100);\n",
    "print(vault_times / 148434 * 100);\n",
    "print(arena_times / 148434 * 100);"
   ]
  },
  {
   "cell_type": "markdown",
   "metadata": {},
   "source": [
    "### 购买行为"
   ]
  },
  {
   "cell_type": "markdown",
   "metadata": {},
   "source": [
    "#### 推荐礼包"
   ]
  },
  {
   "cell_type": "code",
   "execution_count": 12,
   "metadata": {},
   "outputs": [
    {
     "name": "stdout",
     "output_type": "stream",
     "text": [
      "推荐礼包界面总出现次数为: 111558\n"
     ]
    }
   ],
   "source": [
    "promotion_ui_times = df_ui_access_times.loc[\"FlashRecommendedPackage_t#recommended_package\"].times;\n",
    "print(\"推荐礼包界面总出现次数为: {}\".format(promotion_ui_times));"
   ]
  },
  {
   "cell_type": "code",
   "execution_count": 13,
   "metadata": {},
   "outputs": [],
   "source": [
    "ui_access_times = {};\n",
    "parsed_data.loc[parsed_data[\"ui_num\"] > 3800, \"ops\"].apply(lambda x: count_ui_access_times(x));"
   ]
  },
  {
   "cell_type": "code",
   "execution_count": 57,
   "metadata": {},
   "outputs": [],
   "source": [
    "prev_ui_list = {}\n",
    "recommendation_index_list = {}\n",
    "buy_recommendation_times_list = {}\n",
    "def buy_item_from_promotion(ops):\n",
    "    pre_ui = None;\n",
    "    recommendation_index = 0;\n",
    "    buy_recommendation_times = 0;\n",
    "    global prev_ui_list;\n",
    "    for i in ops:\n",
    "        args = i.split(\":\");\n",
    "        op_type = int(args[0])\n",
    "        if op_type == OP_TYPE_BUY_COIN_ITEM:\n",
    "            item_id = int(args[1])\n",
    "            if is_chest_item(item_id) and pre_ui is not None:  \n",
    "                if pre_ui not in prev_ui_list:\n",
    "                    prev_ui_list[pre_ui] = 0\n",
    "                prev_ui_list[pre_ui] += 1;\n",
    "                \n",
    "                if pre_ui == \"FlashRecommendedPackage_t#recommended_package\":\n",
    "                    if recommendation_index not in recommendation_index_list:\n",
    "                        recommendation_index_list[recommendation_index] = 0;\n",
    "                    recommendation_index_list[recommendation_index] += 1;\n",
    "                    buy_recommendation_times += 1;\n",
    "        elif op_type == OP_TYPE_OPEN_UI:\n",
    "            pre_ui = args[1];\n",
    "            if args[1] == \"FlashRecommendedPackage_t#recommended_package\":\n",
    "                recommendation_index += 1;\n",
    "    \n",
    "    if buy_recommendation_times > 1:\n",
    "        if buy_recommendation_times not in buy_recommendation_times_list:\n",
    "            buy_recommendation_times_list[buy_recommendation_times] = 0\n",
    "        buy_recommendation_times_list[buy_recommendation_times] += 1;\n",
    "    return False;\n",
    "\n",
    "parsed_data[\"ops\"].apply(lambda x: buy_item_from_promotion(x));\n",
    "\n",
    "pd_buy_chest = pd.DataFrame.from_dict(prev_ui_list, orient = \"index\", columns = [\"times\"]).sort_values(by = \"times\", ascending = False);"
   ]
  },
  {
   "cell_type": "code",
   "execution_count": 15,
   "metadata": {},
   "outputs": [
    {
     "name": "stdout",
     "output_type": "stream",
     "text": [
      "从推荐窗口卖出的宝箱占总卖出宝箱的 14.236%\n",
      "从推荐窗口卖出的宝箱占总弹出次数的 0.220%\n"
     ]
    }
   ],
   "source": [
    "buy_chest_from_promotion = pd_buy_chest[\"times\"].loc[\"FlashRecommendedPackage_t#recommended_package\"];\n",
    "buy_chest_total = pd_buy_chest[\"times\"].sum();\n",
    "\n",
    "print(\"从推荐窗口卖出的宝箱占总卖出宝箱的 {:.3f}%\".format(buy_chest_from_promotion * 100 / buy_chest_total));\n",
    "print(\"从推荐窗口卖出的宝箱占总弹出次数的 {:.3f}%\".format(buy_chest_from_promotion * 100 / promotion_ui_times));\n"
   ]
  },
  {
   "cell_type": "markdown",
   "metadata": {},
   "source": [
    "##### 推荐礼包的购买发生在每天的第几次推荐？"
   ]
  },
  {
   "cell_type": "code",
   "execution_count": 21,
   "metadata": {},
   "outputs": [
    {
     "data": {
      "image/png": "[encoded data removed]",
      "text/plain": [
       "<Figure size 720x360 with 1 Axes>"
      ]
     },
     "metadata": {
      "needs_background": "light"
     },
     "output_type": "display_data"
    }
   ],
   "source": [
    "pd_recommendation_occuring = pd.DataFrame.from_dict(recommendation_index_list, orient = \"index\", columns = [\"times\"]).sort_values(by = \"times\", ascending = False).reset_index()\n",
    "pd_recommendation_occuring = pd_recommendation_occuring.rename(columns = {\"index\":\"n_th\"});\n",
    "pd_recommendation_occuring = pd_recommendation_occuring.iloc[:20]\n",
    "plt.figure(figsize=(10, 5))\n",
    "axe = sns.barplot(x = \"n_th\", y = \"times\", data = pd_recommendation_occuring, order = pd_recommendation_occuring[\"n_th\"]);\n",
    "da.set_barplot_value(axe, pd_recommendation_occuring[\"times\"], \"%d\", value_color = 'blue');"
   ]
  },
  {
   "cell_type": "markdown",
   "metadata": {},
   "source": [
    "看起来会接受忽悠的人，一般头几次就上钩了"
   ]
  },
  {
   "cell_type": "markdown",
   "metadata": {},
   "source": [
    "##### 有人一天之内被忽悠多次么？"
   ]
  },
  {
   "cell_type": "markdown",
   "metadata": {},
   "source": [
    "### 流失用户行为"
   ]
  },
  {
   "cell_type": "markdown",
   "metadata": {},
   "source": [
    "#### 定义流失用户\n",
    "最后一条记录距离\"今天\"大于两天的，定义为已流失"
   ]
  },
  {
   "cell_type": "code",
   "execution_count": 30,
   "metadata": {},
   "outputs": [],
   "source": [
    "def is_churn_user(x):\n",
    "    latest_info_date = \"05/15/20\";\n",
    "    latest_day_num = pu.convert_datestring_to_day_num(latest_info_date);\n",
    "    last_login_day = x[\"max\"];\n",
    "    total_login_day_num = x[\"len\"];\n",
    "        \n",
    "    if last_login_day < latest_day_num - 2:\n",
    "        return True;\n",
    "    else:\n",
    "        return False;\n"
   ]
  },
  {
   "cell_type": "code",
   "execution_count": 31,
   "metadata": {},
   "outputs": [],
   "source": [
    "#group users by user_id\n",
    "pd_user_id_group = parsed_data.groupby([\"user_id\"])[\"day_index\"].agg([len, max]);\n",
    "churn_user_group = pd_user_id_group.loc[pd_user_id_group.apply(lambda x: (is_churn_user(x)), axis = 1)].sort_values(by = \"len\", ascending = False);\n",
    "churn_user_id_list = churn_user_group.index;"
   ]
  },
  {
   "cell_type": "code",
   "execution_count": 34,
   "metadata": {},
   "outputs": [
    {
     "data": {
      "image/png": "[encoded data removed]",
      "text/plain": [
       "<Figure size 720x360 with 1 Axes>"
      ]
     },
     "metadata": {
      "needs_background": "light"
     },
     "output_type": "display_data"
    }
   ],
   "source": [
    "sample_num = 20\n",
    "sample_list = np.random.randint(0, len(churn_user_id_list), sample_num)\n",
    "plt.figure(figsize = (10, 5))\n",
    "for i in sample_list:\n",
    "    user_id = churn_user_id_list[i]\n",
    "    ordered_rec = parsed_data.loc[parsed_data[\"user_id\"]\n",
    "                                  == user_id].sort_values(by=\"day_index\")\n",
    "\n",
    "    data_array = np.array(ordered_rec[\"ui_num\"])\n",
    "    sns.lineplot(data=data_array)"
   ]
  },
  {
   "cell_type": "code",
   "execution_count": 55,
   "metadata": {},
   "outputs": [
    {
     "data": {
      "text/html": [
       "<div>\n",
       "<style scoped>\n",
       "    .dataframe tbody tr th:only-of-type {\n",
       "        vertical-align: middle;\n",
       "    }\n",
       "\n",
       "    .dataframe tbody tr th {\n",
       "        vertical-align: top;\n",
       "    }\n",
       "\n",
       "    .dataframe thead th {\n",
       "        text-align: right;\n",
       "    }\n",
       "</style>\n",
       "<table border=\"1\" class=\"dataframe\">\n",
       "  <thead>\n",
       "    <tr style=\"text-align: right;\">\n",
       "      <th></th>\n",
       "      <th>date</th>\n",
       "      <th>day_index</th>\n",
       "      <th>dev_lang</th>\n",
       "      <th>has_gold_brick_consumption</th>\n",
       "      <th>has_iap_attempt</th>\n",
       "      <th>ops</th>\n",
       "      <th>spent</th>\n",
       "      <th>ui_num</th>\n",
       "      <th>user_id</th>\n",
       "    </tr>\n",
       "  </thead>\n",
       "  <tbody>\n",
       "    <tr>\n",
       "      <th>26546</th>\n",
       "      <td>05/20/19</td>\n",
       "      <td>140.0</td>\n",
       "      <td>zh_Hans_CN</td>\n",
       "      <td>True</td>\n",
       "      <td>False</td>\n",
       "      <td>[1:FlashGameInterfacePop_t#off_line_report, 1:...</td>\n",
       "      <td>0.0</td>\n",
       "      <td>5202.0</td>\n",
       "      <td>5ce1076f0b1b7ba56712801f</td>\n",
       "    </tr>\n",
       "  </tbody>\n",
       "</table>\n",
       "</div>"
      ],
      "text/plain": [
       "            date  day_index    dev_lang has_gold_brick_consumption  \\\n",
       "26546   05/20/19      140.0  zh_Hans_CN                       True   \n",
       "\n",
       "      has_iap_attempt                                                ops  \\\n",
       "26546           False  [1:FlashGameInterfacePop_t#off_line_report, 1:...   \n",
       "\n",
       "       spent  ui_num                   user_id  \n",
       "26546    0.0  5202.0  5ce1076f0b1b7ba56712801f  "
      ]
     },
     "execution_count": 55,
     "metadata": {},
     "output_type": "execute_result"
    }
   ],
   "source": [
    "b = parsed_data.loc[parsed_data[\"ui_num\"] > 5000]\n",
    "b\n",
    "#parsed_data[\"ui_num\"]"
   ]
  },
  {
   "cell_type": "code",
   "execution_count": 53,
   "metadata": {},
   "outputs": [
    {
     "name": "stdout",
     "output_type": "stream",
     "text": [
      "出征选兵界面                        \t       428\n",
      "邮件2级列表                        \t       282\n",
      "邮件首页                          \t       255\n",
      "聊天                            \t       241\n",
      "联盟主页                          \t       205\n",
      "PVP战报                         \t       179\n",
      "士兵强化/解锁弹窗                     \t       162\n",
      "医院治疗                          \t       142\n",
      "使用建筑加速道具弹窗                    \t       141\n",
      "造兵/造塔                         \t       127\n",
      "野怪详情                          \t       120\n",
      "英雄列表                          \t       119\n",
      "查找地图资源                        \t       105\n",
      "士兵进阶列表                        \t       103\n",
      "士兵强化首页                        \t       102\n",
      "联盟成员                          \t        94\n",
      "背包                            \t        88\n",
      "士兵进阶详情弹窗                      \t        87\n",
      "个人科技详情弹窗                      \t        84\n",
      "联盟探险首页                        \t        83\n",
      "英雄装备升级                        \t        82\n",
      "玩家个人信息                        \t        78\n",
      "个人科技主页                        \t        77\n",
      "英雄详情                          \t        76\n",
      "建筑详情                          \t        63\n",
      "剧情界面                          \t        62\n",
      "活动中心                          \t        61\n",
      "非同盟玩家信息                       \t        61\n",
      "基地车零件升级                       \t        60\n",
      "任务                            \t        58\n"
     ]
    }
   ],
   "source": [
    "ll = {}\n",
    "def test_func(ops):\n",
    "    global ll;\n",
    "    for i in ops:\n",
    "        \n",
    "        args = i.split(\":\");\n",
    "        op_type = int(args[0]);\n",
    "        if op_type == OP_TYPE_OPEN_UI:\n",
    "            if args[1] not in ll:\n",
    "                ll[args[1]] = 0;\n",
    "            ll[args[1]] += 1;\n",
    "            \n",
    "b.apply(lambda x: test_func(x));\n",
    "\n",
    "df_ll = pd.DataFrame.from_dict(ll, orient='index', columns = [\"times\"]).sort_values(by = \"times\", ascending = False);\n",
    "TOP_N = 30;\n",
    "for index, row in df_ll.iloc[:TOP_N].iterrows():\n",
    "    print(\"{:<30}\\t{:>10}\".format(get_ui_desc_by_name(row.name), row.times))"
   ]
  },
  {
   "cell_type": "code",
   "execution_count": 56,
   "metadata": {},
   "outputs": [
    {
     "data": {
      "text/html": [
       "<div>\n",
       "<style scoped>\n",
       "    .dataframe tbody tr th:only-of-type {\n",
       "        vertical-align: middle;\n",
       "    }\n",
       "\n",
       "    .dataframe tbody tr th {\n",
       "        vertical-align: top;\n",
       "    }\n",
       "\n",
       "    .dataframe thead th {\n",
       "        text-align: right;\n",
       "    }\n",
       "</style>\n",
       "<table border=\"1\" class=\"dataframe\">\n",
       "  <thead>\n",
       "    <tr style=\"text-align: right;\">\n",
       "      <th></th>\n",
       "      <th>date</th>\n",
       "      <th>day_index</th>\n",
       "      <th>dev_lang</th>\n",
       "      <th>has_gold_brick_consumption</th>\n",
       "      <th>has_iap_attempt</th>\n",
       "      <th>ops</th>\n",
       "      <th>spent</th>\n",
       "      <th>ui_num</th>\n",
       "      <th>user_id</th>\n",
       "    </tr>\n",
       "  </thead>\n",
       "  <tbody>\n",
       "    <tr>\n",
       "      <th>20247</th>\n",
       "      <td>05/19/19</td>\n",
       "      <td>139.0</td>\n",
       "      <td>zh_Hans_CN</td>\n",
       "      <td>False</td>\n",
       "      <td>True</td>\n",
       "      <td>[1:FlashOpening_t#opening_animaiton, 1:FlashSt...</td>\n",
       "      <td>0.0</td>\n",
       "      <td>4063.0</td>\n",
       "      <td>5ce1076f0b1b7ba56712801f</td>\n",
       "    </tr>\n",
       "    <tr>\n",
       "      <th>26546</th>\n",
       "      <td>05/20/19</td>\n",
       "      <td>140.0</td>\n",
       "      <td>zh_Hans_CN</td>\n",
       "      <td>True</td>\n",
       "      <td>False</td>\n",
       "      <td>[1:FlashGameInterfacePop_t#off_line_report, 1:...</td>\n",
       "      <td>0.0</td>\n",
       "      <td>5202.0</td>\n",
       "      <td>5ce1076f0b1b7ba56712801f</td>\n",
       "    </tr>\n",
       "  </tbody>\n",
       "</table>\n",
       "</div>"
      ],
      "text/plain": [
       "            date  day_index    dev_lang has_gold_brick_consumption  \\\n",
       "20247   05/19/19      139.0  zh_Hans_CN                      False   \n",
       "26546   05/20/19      140.0  zh_Hans_CN                       True   \n",
       "\n",
       "      has_iap_attempt                                                ops  \\\n",
       "20247            True  [1:FlashOpening_t#opening_animaiton, 1:FlashSt...   \n",
       "26546           False  [1:FlashGameInterfacePop_t#off_line_report, 1:...   \n",
       "\n",
       "       spent  ui_num                   user_id  \n",
       "20247    0.0  4063.0  5ce1076f0b1b7ba56712801f  \n",
       "26546    0.0  5202.0  5ce1076f0b1b7ba56712801f  "
      ]
     },
     "execution_count": 56,
     "metadata": {},
     "output_type": "execute_result"
    }
   ],
   "source": [
    "parsed_data.loc[parsed_data[\"user_id\"] == \"5ce1076f0b1b7ba56712801f\"]"
   ]
  },
  {
   "cell_type": "code",
   "execution_count": 58,
   "metadata": {},
   "outputs": [
    {
     "data": {
      "text/plain": [
       "{2: 33, 4: 1, 3: 2}"
      ]
     },
     "execution_count": 58,
     "metadata": {},
     "output_type": "execute_result"
    }
   ],
   "source": [
    "buy_recommendation_times_list"
   ]
  },
  {
   "cell_type": "code",
   "execution_count": null,
   "metadata": {},
   "outputs": [],
   "source": []
  }
 ],
 "metadata": {
  "kernelspec": {
   "display_name": "Python 3",
   "language": "python",
   "name": "python3"
  },
  "language_info": {
   "codemirror_mode": {
    "name": "ipython",
    "version": 3
   },
   "file_extension": ".py",
   "mimetype": "text/x-python",
   "name": "python",
   "nbconvert_exporter": "python",
   "pygments_lexer": "ipython3",
   "version": "3.6.7"
  },
  "toc": {
   "base_numbering": 1,
   "nav_menu": {},
   "number_sections": true,
   "sideBar": true,
   "skip_h1_title": false,
   "title_cell": "Table of Contents",
   "title_sidebar": "Contents",
   "toc_cell": false,
   "toc_position": {},
   "toc_section_display": true,
   "toc_window_display": true
  }
 },
 "nbformat": 4,
 "nbformat_minor": 2
}
